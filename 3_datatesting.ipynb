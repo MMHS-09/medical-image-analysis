{
 "cells": [
  {
   "cell_type": "code",
   "execution_count": null,
   "id": "7932ffb3",
   "metadata": {},
   "outputs": [],
   "source": [
    "import numpy as np\n",
    "import pickle\n",
    "import os\n",
    "\n",
    "# Path to your pickle file\n",
    "file_path = '/home/mhs/research/thesis/train.npy'\n",
    "\n",
    "# Load the pickled data\n",
    "data = np.load(file_path, allow_pickle=True)\n",
    "\n",
    "# Check if data is a dictionary-like object\n",
    "if hasattr(data, 'keys'):\n",
    "    print(\"Dictionary-like object detected\")\n",
    "    print(\"\\nAvailable keys and shapes:\")\n",
    "    for key in data.keys():\n",
    "        try:\n",
    "            shape = data[key].shape\n",
    "            print(f\"- {key}: shape {shape}\")\n",
    "        except AttributeError:\n",
    "            print(f\"- {key}: no shape (possibly scalar or non-array object)\")\n",
    "else:\n",
    "    # Handle single array\n",
    "    print(\"Single array detected\")\n",
    "    print(f\"Shape: {data.shape}\")\n",
    "    print(f\"Data type: {data.dtype}\")\n",
    "\n",
    "# Print the first few elements or items\n",
    "print(\"\\nPreview of data:\")\n",
    "if hasattr(data, 'keys'):\n",
    "    for key in list(data.keys())[:3]:  # First 3 keys only\n",
    "        print(f\"\\n{key}:\")\n",
    "        try:\n",
    "            print(data[key][:5])  # First 5 elements\n",
    "        except (IndexError, TypeError):\n",
    "            print(data[key])\n",
    "else:\n",
    "    try:\n",
    "        print(data[:5])  # First 5 elements\n",
    "    except IndexError:\n",
    "        print(data)"
   ]
  },
  {
   "cell_type": "code",
   "execution_count": null,
   "id": "f1310611",
   "metadata": {},
   "outputs": [],
   "source": []
  }
 ],
 "metadata": {
  "kernelspec": {
   "display_name": "thesis",
   "language": "python",
   "name": "python3"
  },
  "language_info": {
   "codemirror_mode": {
    "name": "ipython",
    "version": 3
   },
   "file_extension": ".py",
   "mimetype": "text/x-python",
   "name": "python",
   "nbconvert_exporter": "python",
   "pygments_lexer": "ipython3",
   "version": "3.11.12"
  }
 },
 "nbformat": 4,
 "nbformat_minor": 5
}
