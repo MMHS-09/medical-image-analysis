{
 "cells": [
  {
   "cell_type": "markdown",
   "id": "4b9b4d82",
   "metadata": {},
   "source": [
    "# KAN: Kolmogorov–Arnold Networks With ......\n",
    "\n",
    "Implementation of KAN architecture with proper feature extraction and attention mechanisms for MRI image analysis."
   ]
  },
  {
   "cell_type": "markdown",
   "id": "f0f09379",
   "metadata": {},
   "source": [
    "## 1. Import Dependencies\n",
    "\n",
    "Import required libraries and modules for implementing KAN."
   ]
  },
  {
   "cell_type": "code",
   "execution_count": 1,
   "id": "c175f404",
   "metadata": {},
   "outputs": [],
   "source": [
    "import os\n",
    "import torch\n",
    "import torch.nn as nn\n",
    "import torch.nn.functional as F\n",
    "from torch.utils.data import DataLoader\n",
    "from torchvision import datasets, transforms, models\n",
    "from tqdm import tqdm\n",
    "import numpy as np\n",
    "from sklearn.metrics import accuracy_score, classification_report"
   ]
  },
  {
   "cell_type": "markdown",
   "id": "f8335a57",
   "metadata": {},
   "source": [
    "## 2. Data Loading and Preprocessing\n",
    "\n",
    "Setup data pipelines with proper transforms for MRI images."
   ]
  },
  {
   "cell_type": "code",
   "execution_count": 2,
   "id": "e1f4fea5",
   "metadata": {},
   "outputs": [
    {
     "name": "stdout",
     "output_type": "stream",
     "text": [
      "Number of classes: 4\n",
      "Training samples: 13927\n",
      "Testing samples: 3961\n"
     ]
    }
   ],
   "source": [
    "# Data directories\n",
    "TRAIN_DIR = \"/home/mhs/research/thesis/Brain MRI ND-5 Dataset/Training\"\n",
    "TEST_DIR  = \"/home/mhs/research/thesis/Brain MRI ND-5 Dataset/Testing\"\n",
    "\n",
    "# Define image transformations\n",
    "transform = transforms.Compose([\n",
    "    transforms.Grayscale(num_output_channels=1),  # Convert to grayscale\n",
    "    transforms.Resize((64, 64)),                # Resize for backbone\n",
    "    transforms.ToTensor(),                        # Convert to tensor\n",
    "    transforms.Lambda(lambda x: x.repeat(3, 1, 1)),  # Repeat grayscale to 3 channels\n",
    "    transforms.Normalize(mean=[0.485, 0.456, 0.406],\n",
    "                       std=[0.229, 0.224, 0.225])   # ImageNet normalization\n",
    "])\n",
    "\n",
    "from torch.utils.data import Subset\n",
    "import random\n",
    "\n",
    "# Create datasets\n",
    "train_dataset = datasets.ImageFolder(TRAIN_DIR, transform=transform)\n",
    "test_dataset = datasets.ImageFolder(TEST_DIR, transform=transform)\n",
    "\n",
    "# # Create subsets properly\n",
    "# # Method 1: Random selection of indices\n",
    "# train_indices = random.sample(range(len(train_dataset)), min(5000, len(train_dataset)))\n",
    "# test_indices = random.sample(range(len(test_dataset)), min(500, len(test_dataset)))\n",
    "\n",
    "# # Create subset datasets\n",
    "# train_dataset = Subset(train_dataset, train_indices)\n",
    "# test_dataset = Subset(test_dataset, test_indices)\n",
    "\n",
    "# Alternative Method 2: Take the first N samples\n",
    "# train_dataset = Subset(train_dataset, list(range(min(1000, len(train_dataset)))))\n",
    "# test_dataset = Subset(test_dataset, list(range(min(500, len(test_dataset)))))\n",
    "\n",
    "# Create dataloaders\n",
    "batch_size = 32\n",
    "train_loader = DataLoader(train_dataset, batch_size=batch_size, shuffle=True,\n",
    "                         num_workers=2, pin_memory=True)\n",
    "test_loader = DataLoader(test_dataset, batch_size=batch_size, shuffle=False,\n",
    "                        num_workers=2, pin_memory=True)\n",
    "\n",
    "# When printing class counts, we need to access the original dataset's classes\n",
    "original_train_dataset = datasets.ImageFolder(TRAIN_DIR)\n",
    "num_classes = len(original_train_dataset.classes)\n",
    "print(f\"Number of classes: {num_classes}\")\n",
    "print(f\"Training samples: {len(train_dataset)}\")\n",
    "print(f\"Testing samples: {len(test_dataset)}\")"
   ]
  },
  {
   "cell_type": "markdown",
   "id": "8e755938",
   "metadata": {},
   "source": [
    "## 3. Define KAN Architecture\n",
    "\n",
    "Implement the Kernel Attention Network model with proper feature extraction."
   ]
  },
  {
   "cell_type": "code",
   "execution_count": 3,
   "id": "b481ec27",
   "metadata": {},
   "outputs": [],
   "source": [
    "# class KernelAttention(nn.Module):\n",
    "#     def __init__(self, in_dim, kernel_size=7):\n",
    "#         super().__init__()\n",
    "#         self.conv = nn.Conv2d(in_dim, in_dim, kernel_size=kernel_size, \n",
    "#                              padding=kernel_size//2, groups=in_dim)\n",
    "#         self.spatial_gate = nn.Sequential(\n",
    "#             nn.Conv2d(in_dim, 1, kernel_size=1),\n",
    "#             nn.Sigmoid()\n",
    "#         )\n",
    "        \n",
    "#     def forward(self, x):\n",
    "#         # Local feature aggregation\n",
    "#         local_feat = self.conv(x)\n",
    "#         # Generate attention weights\n",
    "#         attn = self.spatial_gate(local_feat)\n",
    "#         return x * attn\n",
    "\n",
    "# class KANModel(nn.Module):\n",
    "#     def __init__(self, num_classes, backbone='resnet18'):\n",
    "#         super().__init__()\n",
    "        \n",
    "#         # 1. Feature Extraction Backbone\n",
    "#         if backbone == 'resnet18':\n",
    "#             base = models.resnet18(pretrained=True)\n",
    "#             self.feature_dim = 512\n",
    "#         else:\n",
    "#             raise ValueError(f\"Unsupported backbone: {backbone}\")\n",
    "            \n",
    "#         # Remove the final FC layer\n",
    "#         self.features = nn.Sequential(*list(base.children())[:-2])\n",
    "        \n",
    "#         # 2. Kernel Attention Module\n",
    "#         self.attention = KernelAttention(self.feature_dim)\n",
    "        \n",
    "#         # 3. Global Average Pooling\n",
    "#         self.gap = nn.AdaptiveAvgPool2d(1)\n",
    "        \n",
    "#         # 4. Classifier\n",
    "#         self.classifier = nn.Sequential(\n",
    "#             nn.Linear(self.feature_dim, 256),\n",
    "#             nn.ReLU(inplace=True),\n",
    "#             nn.Dropout(0.5),\n",
    "#             nn.Linear(256, num_classes)\n",
    "#         )\n",
    "        \n",
    "#     def forward(self, x):\n",
    "#         # Extract features\n",
    "#         x = self.features(x)  # [B, 512, H', W']\n",
    "        \n",
    "#         # Apply kernel attention\n",
    "#         x = self.attention(x)\n",
    "        \n",
    "#         # Global average pooling\n",
    "#         x = self.gap(x)      # [B, 512, 1, 1]\n",
    "#         x = x.view(x.size(0), -1)  # [B, 512]\n",
    "        \n",
    "#         # Classification\n",
    "#         return self.classifier(x)"
   ]
  },
  {
   "cell_type": "code",
   "execution_count": 4,
   "id": "ccc125d8",
   "metadata": {},
   "outputs": [],
   "source": [
    "# class BSpline(nn.Module):\n",
    "#     \"\"\"B-spline implementation for KAN.\"\"\"\n",
    "\n",
    "#     def __init__(self, in_dim, grid_size=5, degree=3):\n",
    "#         super().__init__()\n",
    "#         self.in_dim = in_dim\n",
    "#         self.grid_size = grid_size\n",
    "#         self.degree = degree\n",
    "\n",
    "#         # Learnable control points - one set for each channel\n",
    "#         self.control_points = nn.Parameter(torch.randn(in_dim, grid_size))\n",
    "\n",
    "#         # Fixed grid points from 0 to 1\n",
    "#         self.register_buffer(\"grid\", torch.linspace(0, 1, grid_size))\n",
    "\n",
    "#     def forward(self, x):\n",
    "#         # x shape: [B, C, N]\n",
    "#         B, C, N = x.shape\n",
    "\n",
    "#         # Ensure C matches in_dim\n",
    "#         assert (\n",
    "#             C == self.in_dim\n",
    "#         ), f\"Input has {C} channels but BSpline expects {self.in_dim}\"\n",
    "\n",
    "#         # Normalize input to [0, 1]\n",
    "#         x_min = x.min(dim=2, keepdim=True)[0]\n",
    "#         x_max = x.max(dim=2, keepdim=True)[0]\n",
    "#         x_norm = (x - x_min) / (x_max - x_min + 1e-8)\n",
    "\n",
    "#         # Initialize output tensor\n",
    "#         out = torch.zeros_like(x)\n",
    "\n",
    "#         # Compute B-spline weights for each channel\n",
    "#         for c in range(C):\n",
    "#             # Expand grid for broadcasting\n",
    "#             grid_expanded = self.grid.view(1, -1)  # [1, grid_size]\n",
    "#             x_expanded = x_norm[:, c, :].unsqueeze(2)  # [B, N, 1]\n",
    "\n",
    "#             # Compute weights using RBF\n",
    "#             weights = torch.exp(\n",
    "#                 -((x_expanded - grid_expanded) ** 2) / 0.1\n",
    "#             )  # [B, N, grid_size]\n",
    "#             weights = weights / (weights.sum(dim=2, keepdim=True) + 1e-8)\n",
    "\n",
    "#             # Apply weights to control points\n",
    "#             out[:, c, :] = torch.matmul(\n",
    "#                 weights, self.control_points[c].unsqueeze(1)\n",
    "#             ).squeeze(2)\n",
    "\n",
    "#         return out\n",
    "\n",
    "\n",
    "# class KANAttention(nn.Module):\n",
    "#     def __init__(self, in_dim, grid_size=5, degree=3):\n",
    "#         super().__init__()\n",
    "#         self.in_dim = in_dim\n",
    "\n",
    "#         # Modified KAN layer\n",
    "#         self.spline = BSpline(in_dim, grid_size, degree)\n",
    "#         self.attention_conv = nn.Conv1d(in_dim, 1, 1)\n",
    "#         self.activation = nn.Sigmoid()\n",
    "\n",
    "#     def forward(self, x):\n",
    "#         # x: [B, C, H, W]\n",
    "#         B, C, H, W = x.shape\n",
    "\n",
    "#         # Reshape to [B, C, H*W]\n",
    "#         x_flat = x.view(B, C, -1)\n",
    "\n",
    "#         # Apply B-spline transformation\n",
    "#         x_spline = self.spline(x_flat)\n",
    "\n",
    "#         # Generate attention weights\n",
    "#         attn = self.attention_conv(x_spline)  # [B, 1, H*W]\n",
    "#         attn = self.activation(attn)\n",
    "\n",
    "#         # Reshape attention back to spatial dimensions\n",
    "#         attn = attn.view(B, 1, H, W)\n",
    "\n",
    "#         # Apply attention\n",
    "#         return x * attn.expand_as(x)\n",
    "\n",
    "\n",
    "# class KANModel(nn.Module):\n",
    "#     def __init__(self, num_classes, backbone=\"mobilenetv3\"):\n",
    "#         super().__init__()\n",
    "\n",
    "#         # 1. Feature Extraction Backbone\n",
    "#         if backbone == \"resnet18\":\n",
    "#             base = models.resnet18(pretrained=True)\n",
    "#             self.feature_dim = 512\n",
    "#             # Remove final FC layer and keep feature extractor\n",
    "#             self.features = nn.Sequential(*list(base.children())[:-2])\n",
    "#         elif backbone == \"mobilenetv3\":\n",
    "#             base = models.mobilenet_v3_small(\n",
    "#                 weights=models.MobileNet_V3_Small_Weights.IMAGENET1K_V1\n",
    "#             )\n",
    "#             # For MobileNetV3, we need to determine the feature dimension correctly\n",
    "#             self.feature_dim = (\n",
    "#                 576  # MobileNetV3-Small has 576 channels in its last conv layer\n",
    "#             )\n",
    "#             # Replace classifier but keep features\n",
    "#             self.features = base.features\n",
    "#         else:\n",
    "#             raise ValueError(f\"Unsupported backbone: {backbone}\")\n",
    "\n",
    "#         # 2. KAN Attention Module\n",
    "#         self.attention = KANAttention(self.feature_dim)\n",
    "\n",
    "#         # 3. Global Average Pooling\n",
    "#         self.gap = nn.AdaptiveAvgPool2d(1)\n",
    "\n",
    "#         # 4. Final Classifier\n",
    "#         self.classifier = nn.Sequential(\n",
    "#             nn.Linear(self.feature_dim, 256),\n",
    "#             nn.BatchNorm1d(256),\n",
    "#             nn.ReLU(inplace=True),\n",
    "#             nn.Dropout(0.5),\n",
    "#             nn.Linear(256, num_classes),\n",
    "#         )\n",
    "\n",
    "#     def forward(self, x):\n",
    "#         # Feature extraction\n",
    "#         x = self.features(x)  # [B, feature_dim, H', W']\n",
    "\n",
    "#         # Apply KAN attention\n",
    "#         x = self.attention(x)\n",
    "\n",
    "#         # Global average pooling\n",
    "#         x = self.gap(x)  # [B, feature_dim, 1, 1]\n",
    "#         x = x.view(x.size(0), -1)  # [B, feature_dim]\n",
    "\n",
    "#         # Classification\n",
    "#         return self.classifier(x)"
   ]
  },
  {
   "cell_type": "code",
   "execution_count": 5,
   "id": "70488363",
   "metadata": {},
   "outputs": [],
   "source": [
    "# class KANModel(nn.Module):\n",
    "#     def __init__(self, num_classes, backbone=\"mobilenetv3\"):\n",
    "#         super().__init__()\n",
    "\n",
    "#         # 1. Feature Extraction Backbone\n",
    "#         if backbone == \"resnet18\":\n",
    "#             base = models.resnet18(pretrained=True)\n",
    "#             self.feature_dim = 512\n",
    "#         elif backbone == \"mobilenetv3\":\n",
    "#             base = models.mobilenet_v3_small(\n",
    "#                 weights=models.MobileNet_V3_Small_Weights.IMAGENET1K_V1\n",
    "#             )\n",
    "#             self.feature_dim = 512\n",
    "#         else:\n",
    "#             raise ValueError(f\"Unsupported backbone: {backbone}\")\n",
    "\n",
    "#         # Remove final FC layer and keep feature extractor\n",
    "#         self.features = nn.Sequential(*list(base.children())[:-2])\n",
    "\n",
    "#         # 2. KAN Attention Module\n",
    "#         self.attention = KANAttention(self.feature_dim)\n",
    "\n",
    "#         # 3. Global Average Pooling\n",
    "#         self.gap = nn.AdaptiveAvgPool2d(1)\n",
    "\n",
    "#         # 4. Final Classifier\n",
    "#         self.classifier = nn.Sequential(\n",
    "#             nn.Linear(self.feature_dim, 256),\n",
    "#             nn.BatchNorm1d(256),\n",
    "#             nn.ReLU(inplace=True),\n",
    "#             nn.Dropout(0.5),\n",
    "#             nn.Linear(256, num_classes),\n",
    "#         )\n",
    "\n",
    "#     def forward(self, x):\n",
    "#         # Feature extraction\n",
    "#         x = self.features(x)  # [B, 512, H', W']\n",
    "\n",
    "#         # Apply KAN attention\n",
    "#         x = self.attention(x)\n",
    "\n",
    "#         # Global average pooling\n",
    "#         x = self.gap(x)  # [B, 512, 1, 1]\n",
    "#         x = x.view(x.size(0), -1)  # [B, 512]\n",
    "\n",
    "#         # Classification\n",
    "#         return self.classifier(x)"
   ]
  },
  {
   "cell_type": "code",
   "execution_count": 6,
   "id": "3629cc98",
   "metadata": {},
   "outputs": [],
   "source": [
    "class SpatialBSpline(nn.Module):\n",
    "    \"\"\"Optimized 2D B-spline implementation\"\"\"\n",
    "    def __init__(self, in_channels, out_channels, grid_size=5):\n",
    "        super().__init__()\n",
    "        self.in_channels = in_channels\n",
    "        self.out_channels = out_channels\n",
    "        self.grid_size = grid_size\n",
    "        \n",
    "        # Reduce parameter count with single-channel control points that get mapped to output\n",
    "        self.control_points = nn.Parameter(torch.randn(grid_size * grid_size, in_channels))\n",
    "        # Linear mapping to output channels instead of separate control points per output\n",
    "        self.channel_map = nn.Linear(in_channels, out_channels)\n",
    "        \n",
    "        # Create 2D grid once during initialization\n",
    "        x = torch.linspace(0, 1, grid_size)\n",
    "        y = torch.linspace(0, 1, grid_size)\n",
    "        xx, yy = torch.meshgrid(x, y, indexing=\"ij\")\n",
    "        grid = torch.stack([xx.flatten(), yy.flatten()], dim=1)\n",
    "        self.register_buffer(\"grid\", grid)  # [grid_size^2, 2]\n",
    "        \n",
    "    def forward(self, x):\n",
    "        # x: [B, C_in, H, W]\n",
    "        B, C_in, H, W = x.shape\n",
    "        \n",
    "        # Normalize spatial coordinates to [0,1] for grid lookup\n",
    "        h_norm = torch.linspace(0, 1, H, device=x.device)\n",
    "        w_norm = torch.linspace(0, 1, W, device=x.device)\n",
    "        norm_h, norm_w = torch.meshgrid(h_norm, w_norm, indexing=\"ij\")\n",
    "        positions = torch.stack([norm_h.flatten(), norm_w.flatten()], dim=1)  # [H*W, 2]\n",
    "        \n",
    "        # Compute spatial distances to grid points - do this once\n",
    "        dist_to_grid = torch.cdist(positions, self.grid, p=2)  # [H*W, grid_size^2]\n",
    "        \n",
    "        # Calculate RBF kernel weights from spatial distances\n",
    "        sigma = 0.2\n",
    "        spatial_weights = torch.exp(-dist_to_grid / sigma)  # [H*W, grid_size^2]\n",
    "        spatial_weights = spatial_weights / (spatial_weights.sum(dim=1, keepdim=True) + 1e-8)\n",
    "        \n",
    "        # Process data for all batches and channels at once\n",
    "        x_flat = x.permute(0, 2, 3, 1).reshape(B * H * W, C_in)  # [B*H*W, C_in]\n",
    "        \n",
    "        # Apply control points\n",
    "        weighted_controls = torch.matmul(spatial_weights, self.control_points)  # [H*W, C_in]\n",
    "        weighted_controls = weighted_controls.unsqueeze(0).expand(B, -1, -1)  # [B, H*W, C_in]\n",
    "        weighted_controls = weighted_controls.reshape(B * H * W, C_in)\n",
    "        \n",
    "        # Element-wise multiplication with input features\n",
    "        combined = weighted_controls * x_flat  # [B*H*W, C_in]\n",
    "        \n",
    "        # Map to output channels\n",
    "        output = self.channel_map(combined)  # [B*H*W, C_out]\n",
    "        \n",
    "        # Reshape back to spatial dimensions\n",
    "        output = output.reshape(B, H, W, self.out_channels).permute(0, 3, 1, 2)\n",
    "        \n",
    "        return output\n",
    "\n",
    "class PureBSplineBlock(nn.Module):\n",
    "    \"\"\"Lightweight block using B-splines\"\"\"\n",
    "    def __init__(self, in_channels, out_channels, grid_size=5):\n",
    "        super().__init__()\n",
    "        \n",
    "        # Feature transformation with B-splines\n",
    "        self.spatial_spline = SpatialBSpline(\n",
    "            in_channels, out_channels, grid_size=grid_size\n",
    "        )\n",
    "        \n",
    "        # Normalization and activation\n",
    "        self.norm = nn.LayerNorm(out_channels)\n",
    "        self.act = nn.GELU()\n",
    "        \n",
    "        # Simple attention mechanism\n",
    "        self.attention = nn.Sequential(\n",
    "            nn.Conv2d(out_channels, 1, kernel_size=1),\n",
    "            nn.Sigmoid()\n",
    "        )\n",
    "\n",
    "    def forward(self, x):\n",
    "        # Apply spatial B-spline\n",
    "        features = self.spatial_spline(x)\n",
    "        \n",
    "        # Layer normalization across channels\n",
    "        B, C, H, W = features.shape\n",
    "        features = features.permute(0, 2, 3, 1)  # [B, H, W, C]\n",
    "        features = self.norm(features)\n",
    "        features = features.permute(0, 3, 1, 2)  # [B, C, H, W]\n",
    "        features = self.act(features)\n",
    "        \n",
    "        # Apply simple attention\n",
    "        attention = self.attention(features)\n",
    "        \n",
    "        # Apply attention weights\n",
    "        return features * attention\n",
    "\n",
    "class PureKANModel(nn.Module):\n",
    "    \"\"\"Lightweight image classifier using B-splines\"\"\"\n",
    "    def __init__(self, num_classes, in_channels=3):\n",
    "        super().__init__()\n",
    "        \n",
    "        # Initial feature extraction\n",
    "        self.input_proj = nn.Linear(in_channels, 32)\n",
    "        \n",
    "        # Smaller and fewer B-spline blocks\n",
    "        self.block1 = PureBSplineBlock(32, 64, grid_size=5)\n",
    "        self.pool1 = nn.AvgPool2d(2)\n",
    "        \n",
    "        self.block2 = PureBSplineBlock(64, 128, grid_size=5)\n",
    "        self.pool2 = nn.AvgPool2d(2)\n",
    "        \n",
    "        # Global pooling\n",
    "        self.global_pool = nn.AdaptiveAvgPool2d(1)\n",
    "        \n",
    "        # Final classifier\n",
    "        self.classifier = nn.Sequential(\n",
    "            nn.Linear(128, 64),\n",
    "            nn.LayerNorm(64),\n",
    "            nn.GELU(),\n",
    "            nn.Dropout(0.3),\n",
    "            nn.Linear(64, num_classes)\n",
    "        )\n",
    "        \n",
    "    def forward(self, x):\n",
    "        # Initial projection\n",
    "        B, C, H, W = x.shape\n",
    "        x = x.permute(0, 2, 3, 1)  # [B, H, W, C]\n",
    "        x = self.input_proj(x)  # [B, H, W, 32]\n",
    "        x = x.permute(0, 3, 1, 2)  # [B, 32, H, W]\n",
    "        \n",
    "        # Process through B-spline blocks\n",
    "        x = self.block1(x)\n",
    "        x = self.pool1(x)\n",
    "        \n",
    "        x = self.block2(x)\n",
    "        x = self.pool2(x)\n",
    "        \n",
    "        # Global pooling\n",
    "        x = self.global_pool(x)\n",
    "        x = x.view(x.size(0), -1)\n",
    "        \n",
    "        # Classification\n",
    "        return self.classifier(x)"
   ]
  },
  {
   "cell_type": "markdown",
   "id": "cf2c6802",
   "metadata": {},
   "source": [
    "## 4. Training Configuration\n",
    "\n",
    "Setup training parameters and optimization configuration."
   ]
  },
  {
   "cell_type": "code",
   "execution_count": 7,
   "id": "fbbcdfdf",
   "metadata": {},
   "outputs": [
    {
     "name": "stdout",
     "output_type": "stream",
     "text": [
      "Using device: cuda\n"
     ]
    }
   ],
   "source": [
    "# Device configuration\n",
    "device = torch.device(\"cuda\" if torch.cuda.is_available() else \"cpu\")\n",
    "print(f\"Using device: {device}\")\n",
    "\n",
    "model = PureKANModel(num_classes=num_classes, in_channels=3).to(device)\n",
    "# Possibly lower learning rate\n",
    "optimizer = torch.optim.Adam(model.parameters(), lr=1e-3, weight_decay=1e-5)\n",
    "\n",
    "# Initialize model\n",
    "# model = KANModel(num_classes=num_classes).to(device)\n",
    "\n",
    "# Loss function and optimizer\n",
    "criterion = nn.CrossEntropyLoss()\n",
    "# optimizer = torch.optim.Adam(model.parameters(), lr=1e-3)\n",
    "\n",
    "# Learning rate scheduler (removed verbose parameter)\n",
    "scheduler = torch.optim.lr_scheduler.ReduceLROnPlateau(\n",
    "    optimizer, mode=\"max\", factor=0.5, patience=5\n",
    ")"
   ]
  },
  {
   "cell_type": "markdown",
   "id": "409394b9",
   "metadata": {},
   "source": [
    "## 5. Training and Evaluation Loop\n",
    "\n",
    "Implement the main training loop with evaluation metrics."
   ]
  },
  {
   "cell_type": "code",
   "execution_count": 8,
   "id": "ed0bca2d",
   "metadata": {},
   "outputs": [
    {
     "name": "stderr",
     "output_type": "stream",
     "text": [
      "Training: 100%|██████████| 436/436 [00:10<00:00, 41.41it/s]\n",
      "Evaluating: 100%|██████████| 124/124 [00:02<00:00, 46.89it/s]\n"
     ]
    },
    {
     "name": "stdout",
     "output_type": "stream",
     "text": [
      "\n",
      "Epoch 1/300\n",
      "Train Loss: 1.0669, Train Acc: 0.5166\n",
      "Val Loss: 0.9027, Val Acc: 0.6236\n"
     ]
    },
    {
     "name": "stderr",
     "output_type": "stream",
     "text": [
      "Training: 100%|██████████| 436/436 [00:10<00:00, 42.55it/s]\n",
      "Evaluating: 100%|██████████| 124/124 [00:02<00:00, 47.08it/s]\n"
     ]
    },
    {
     "name": "stdout",
     "output_type": "stream",
     "text": [
      "\n",
      "Epoch 2/300\n",
      "Train Loss: 0.7772, Train Acc: 0.6821\n",
      "Val Loss: 0.8424, Val Acc: 0.6718\n"
     ]
    },
    {
     "name": "stderr",
     "output_type": "stream",
     "text": [
      "Training: 100%|██████████| 436/436 [00:10<00:00, 41.88it/s]\n",
      "Evaluating: 100%|██████████| 124/124 [00:02<00:00, 46.79it/s]\n"
     ]
    },
    {
     "name": "stdout",
     "output_type": "stream",
     "text": [
      "\n",
      "Epoch 3/300\n",
      "Train Loss: 0.7117, Train Acc: 0.7068\n",
      "Val Loss: 0.7735, Val Acc: 0.6907\n"
     ]
    },
    {
     "name": "stderr",
     "output_type": "stream",
     "text": [
      "Training: 100%|██████████| 436/436 [00:10<00:00, 41.24it/s]\n",
      "Evaluating: 100%|██████████| 124/124 [00:02<00:00, 46.90it/s]\n"
     ]
    },
    {
     "name": "stdout",
     "output_type": "stream",
     "text": [
      "\n",
      "Epoch 4/300\n",
      "Train Loss: 0.6633, Train Acc: 0.7289\n",
      "Val Loss: 0.7506, Val Acc: 0.7051\n"
     ]
    },
    {
     "name": "stderr",
     "output_type": "stream",
     "text": [
      "Training: 100%|██████████| 436/436 [00:10<00:00, 41.87it/s]\n",
      "Evaluating: 100%|██████████| 124/124 [00:02<00:00, 46.66it/s]\n"
     ]
    },
    {
     "name": "stdout",
     "output_type": "stream",
     "text": [
      "\n",
      "Epoch 5/300\n",
      "Train Loss: 0.6487, Train Acc: 0.7345\n",
      "Val Loss: 0.7758, Val Acc: 0.7011\n",
      "\n",
      "Validation Report:\n",
      "              precision    recall  f1-score   support\n",
      "\n",
      "      glioma       0.70      0.68      0.69      1208\n",
      "  meningioma       0.58      0.54      0.56       930\n",
      "        none       0.77      0.79      0.78       831\n",
      "   pituitary       0.75      0.80      0.77       992\n",
      "\n",
      "    accuracy                           0.70      3961\n",
      "   macro avg       0.70      0.70      0.70      3961\n",
      "weighted avg       0.70      0.70      0.70      3961\n",
      "\n"
     ]
    },
    {
     "name": "stderr",
     "output_type": "stream",
     "text": [
      "Training: 100%|██████████| 436/436 [00:10<00:00, 42.06it/s]\n",
      "Evaluating: 100%|██████████| 124/124 [00:02<00:00, 46.68it/s]\n"
     ]
    },
    {
     "name": "stdout",
     "output_type": "stream",
     "text": [
      "\n",
      "Epoch 6/300\n",
      "Train Loss: 0.6313, Train Acc: 0.7432\n",
      "Val Loss: 0.7258, Val Acc: 0.7258\n"
     ]
    },
    {
     "name": "stderr",
     "output_type": "stream",
     "text": [
      "Training: 100%|██████████| 436/436 [00:10<00:00, 42.09it/s]\n",
      "Evaluating: 100%|██████████| 124/124 [00:02<00:00, 47.22it/s]\n"
     ]
    },
    {
     "name": "stdout",
     "output_type": "stream",
     "text": [
      "\n",
      "Epoch 7/300\n",
      "Train Loss: 0.6026, Train Acc: 0.7569\n",
      "Val Loss: 0.7272, Val Acc: 0.7286\n"
     ]
    },
    {
     "name": "stderr",
     "output_type": "stream",
     "text": [
      "Training: 100%|██████████| 436/436 [00:10<00:00, 42.05it/s]\n",
      "Evaluating: 100%|██████████| 124/124 [00:02<00:00, 46.87it/s]\n"
     ]
    },
    {
     "name": "stdout",
     "output_type": "stream",
     "text": [
      "\n",
      "Epoch 8/300\n",
      "Train Loss: 0.5985, Train Acc: 0.7561\n",
      "Val Loss: 0.7478, Val Acc: 0.7185\n"
     ]
    },
    {
     "name": "stderr",
     "output_type": "stream",
     "text": [
      "Training: 100%|██████████| 436/436 [00:10<00:00, 41.96it/s]\n",
      "Evaluating: 100%|██████████| 124/124 [00:02<00:00, 46.63it/s]\n"
     ]
    },
    {
     "name": "stdout",
     "output_type": "stream",
     "text": [
      "\n",
      "Epoch 9/300\n",
      "Train Loss: 0.5847, Train Acc: 0.7636\n",
      "Val Loss: 0.7664, Val Acc: 0.7294\n"
     ]
    },
    {
     "name": "stderr",
     "output_type": "stream",
     "text": [
      "Training: 100%|██████████| 436/436 [00:10<00:00, 41.73it/s]\n",
      "Evaluating: 100%|██████████| 124/124 [00:02<00:00, 47.57it/s]\n"
     ]
    },
    {
     "name": "stdout",
     "output_type": "stream",
     "text": [
      "\n",
      "Epoch 10/300\n",
      "Train Loss: 0.5702, Train Acc: 0.7714\n",
      "Val Loss: 0.7922, Val Acc: 0.7087\n",
      "\n",
      "Validation Report:\n",
      "              precision    recall  f1-score   support\n",
      "\n",
      "      glioma       0.67      0.75      0.71      1208\n",
      "  meningioma       0.57      0.64      0.60       930\n",
      "        none       0.81      0.82      0.81       831\n",
      "   pituitary       0.87      0.63      0.73       992\n",
      "\n",
      "    accuracy                           0.71      3961\n",
      "   macro avg       0.73      0.71      0.71      3961\n",
      "weighted avg       0.72      0.71      0.71      3961\n",
      "\n"
     ]
    },
    {
     "name": "stderr",
     "output_type": "stream",
     "text": [
      "Training: 100%|██████████| 436/436 [00:10<00:00, 41.73it/s]\n",
      "Evaluating: 100%|██████████| 124/124 [00:02<00:00, 47.49it/s]\n"
     ]
    },
    {
     "name": "stdout",
     "output_type": "stream",
     "text": [
      "\n",
      "Epoch 11/300\n",
      "Train Loss: 0.5635, Train Acc: 0.7728\n",
      "Val Loss: 0.7349, Val Acc: 0.7344\n"
     ]
    },
    {
     "name": "stderr",
     "output_type": "stream",
     "text": [
      "Training: 100%|██████████| 436/436 [00:10<00:00, 42.11it/s]\n",
      "Evaluating: 100%|██████████| 124/124 [00:02<00:00, 46.90it/s]\n"
     ]
    },
    {
     "name": "stdout",
     "output_type": "stream",
     "text": [
      "\n",
      "Epoch 12/300\n",
      "Train Loss: 0.5476, Train Acc: 0.7753\n",
      "Val Loss: 0.6822, Val Acc: 0.7392\n"
     ]
    },
    {
     "name": "stderr",
     "output_type": "stream",
     "text": [
      "Training: 100%|██████████| 436/436 [00:10<00:00, 41.65it/s]\n",
      "Evaluating: 100%|██████████| 124/124 [00:02<00:00, 47.29it/s]\n"
     ]
    },
    {
     "name": "stdout",
     "output_type": "stream",
     "text": [
      "\n",
      "Epoch 13/300\n",
      "Train Loss: 0.5413, Train Acc: 0.7841\n",
      "Val Loss: 0.6995, Val Acc: 0.7465\n"
     ]
    },
    {
     "name": "stderr",
     "output_type": "stream",
     "text": [
      "Training: 100%|██████████| 436/436 [00:10<00:00, 42.04it/s]\n",
      "Evaluating: 100%|██████████| 124/124 [00:02<00:00, 47.07it/s]\n"
     ]
    },
    {
     "name": "stdout",
     "output_type": "stream",
     "text": [
      "\n",
      "Epoch 14/300\n",
      "Train Loss: 0.5231, Train Acc: 0.7915\n",
      "Val Loss: 0.7186, Val Acc: 0.7443\n"
     ]
    },
    {
     "name": "stderr",
     "output_type": "stream",
     "text": [
      "Training: 100%|██████████| 436/436 [00:10<00:00, 42.36it/s]\n",
      "Evaluating: 100%|██████████| 124/124 [00:02<00:00, 46.77it/s]\n"
     ]
    },
    {
     "name": "stdout",
     "output_type": "stream",
     "text": [
      "\n",
      "Epoch 15/300\n",
      "Train Loss: 0.5180, Train Acc: 0.7955\n",
      "Val Loss: 0.6713, Val Acc: 0.7650\n",
      "\n",
      "Validation Report:\n",
      "              precision    recall  f1-score   support\n",
      "\n",
      "      glioma       0.78      0.70      0.74      1208\n",
      "  meningioma       0.64      0.67      0.66       930\n",
      "        none       0.79      0.90      0.85       831\n",
      "   pituitary       0.84      0.81      0.82       992\n",
      "\n",
      "    accuracy                           0.76      3961\n",
      "   macro avg       0.76      0.77      0.77      3961\n",
      "weighted avg       0.77      0.76      0.76      3961\n",
      "\n"
     ]
    },
    {
     "name": "stderr",
     "output_type": "stream",
     "text": [
      "Training: 100%|██████████| 436/436 [00:10<00:00, 42.04it/s]\n",
      "Evaluating: 100%|██████████| 124/124 [00:02<00:00, 47.12it/s]\n"
     ]
    },
    {
     "name": "stdout",
     "output_type": "stream",
     "text": [
      "\n",
      "Epoch 16/300\n",
      "Train Loss: 0.5068, Train Acc: 0.8013\n",
      "Val Loss: 0.6836, Val Acc: 0.7556\n"
     ]
    },
    {
     "name": "stderr",
     "output_type": "stream",
     "text": [
      "Training: 100%|██████████| 436/436 [00:10<00:00, 42.12it/s]\n",
      "Evaluating: 100%|██████████| 124/124 [00:02<00:00, 47.02it/s]\n"
     ]
    },
    {
     "name": "stdout",
     "output_type": "stream",
     "text": [
      "\n",
      "Epoch 17/300\n",
      "Train Loss: 0.5002, Train Acc: 0.8038\n",
      "Val Loss: 0.6498, Val Acc: 0.7804\n"
     ]
    },
    {
     "name": "stderr",
     "output_type": "stream",
     "text": [
      "Training: 100%|██████████| 436/436 [00:10<00:00, 41.75it/s]\n",
      "Evaluating: 100%|██████████| 124/124 [00:02<00:00, 47.21it/s]\n"
     ]
    },
    {
     "name": "stdout",
     "output_type": "stream",
     "text": [
      "\n",
      "Epoch 18/300\n",
      "Train Loss: 0.4847, Train Acc: 0.8104\n",
      "Val Loss: 0.7226, Val Acc: 0.7660\n"
     ]
    },
    {
     "name": "stderr",
     "output_type": "stream",
     "text": [
      "Training: 100%|██████████| 436/436 [00:10<00:00, 42.39it/s]\n",
      "Evaluating: 100%|██████████| 124/124 [00:02<00:00, 46.86it/s]\n"
     ]
    },
    {
     "name": "stdout",
     "output_type": "stream",
     "text": [
      "\n",
      "Epoch 19/300\n",
      "Train Loss: 0.4844, Train Acc: 0.8062\n",
      "Val Loss: 0.7015, Val Acc: 0.7642\n"
     ]
    },
    {
     "name": "stderr",
     "output_type": "stream",
     "text": [
      "Training: 100%|██████████| 436/436 [00:10<00:00, 42.46it/s]\n",
      "Evaluating: 100%|██████████| 124/124 [00:02<00:00, 46.83it/s]\n"
     ]
    },
    {
     "name": "stdout",
     "output_type": "stream",
     "text": [
      "\n",
      "Epoch 20/300\n",
      "Train Loss: 0.4687, Train Acc: 0.8198\n",
      "Val Loss: 0.6595, Val Acc: 0.7816\n",
      "\n",
      "Validation Report:\n",
      "              precision    recall  f1-score   support\n",
      "\n",
      "      glioma       0.82      0.73      0.77      1208\n",
      "  meningioma       0.67      0.67      0.67       930\n",
      "        none       0.82      0.89      0.85       831\n",
      "   pituitary       0.81      0.86      0.83       992\n",
      "\n",
      "    accuracy                           0.78      3961\n",
      "   macro avg       0.78      0.79      0.78      3961\n",
      "weighted avg       0.78      0.78      0.78      3961\n",
      "\n"
     ]
    },
    {
     "name": "stderr",
     "output_type": "stream",
     "text": [
      "Training: 100%|██████████| 436/436 [00:10<00:00, 42.06it/s]\n",
      "Evaluating: 100%|██████████| 124/124 [00:02<00:00, 47.25it/s]\n"
     ]
    },
    {
     "name": "stdout",
     "output_type": "stream",
     "text": [
      "\n",
      "Epoch 21/300\n",
      "Train Loss: 0.4661, Train Acc: 0.8214\n",
      "Val Loss: 0.6613, Val Acc: 0.7783\n"
     ]
    },
    {
     "name": "stderr",
     "output_type": "stream",
     "text": [
      "Training: 100%|██████████| 436/436 [00:10<00:00, 41.83it/s]\n",
      "Evaluating: 100%|██████████| 124/124 [00:02<00:00, 46.73it/s]\n"
     ]
    },
    {
     "name": "stdout",
     "output_type": "stream",
     "text": [
      "\n",
      "Epoch 22/300\n",
      "Train Loss: 0.4594, Train Acc: 0.8209\n",
      "Val Loss: 0.7139, Val Acc: 0.7655\n"
     ]
    },
    {
     "name": "stderr",
     "output_type": "stream",
     "text": [
      "Training: 100%|██████████| 436/436 [00:10<00:00, 41.50it/s]\n",
      "Evaluating: 100%|██████████| 124/124 [00:02<00:00, 46.35it/s]\n"
     ]
    },
    {
     "name": "stdout",
     "output_type": "stream",
     "text": [
      "\n",
      "Epoch 23/300\n",
      "Train Loss: 0.4592, Train Acc: 0.8219\n",
      "Val Loss: 0.6576, Val Acc: 0.7847\n"
     ]
    },
    {
     "name": "stderr",
     "output_type": "stream",
     "text": [
      "Training: 100%|██████████| 436/436 [00:10<00:00, 42.04it/s]\n",
      "Evaluating: 100%|██████████| 124/124 [00:02<00:00, 47.13it/s]\n"
     ]
    },
    {
     "name": "stdout",
     "output_type": "stream",
     "text": [
      "\n",
      "Epoch 24/300\n",
      "Train Loss: 0.4418, Train Acc: 0.8313\n",
      "Val Loss: 0.6944, Val Acc: 0.7735\n"
     ]
    },
    {
     "name": "stderr",
     "output_type": "stream",
     "text": [
      "Training: 100%|██████████| 436/436 [00:10<00:00, 41.70it/s]\n",
      "Evaluating: 100%|██████████| 124/124 [00:02<00:00, 46.82it/s]\n"
     ]
    },
    {
     "name": "stdout",
     "output_type": "stream",
     "text": [
      "\n",
      "Epoch 25/300\n",
      "Train Loss: 0.4381, Train Acc: 0.8284\n",
      "Val Loss: 0.6912, Val Acc: 0.7811\n",
      "\n",
      "Validation Report:\n",
      "              precision    recall  f1-score   support\n",
      "\n",
      "      glioma       0.76      0.76      0.76      1208\n",
      "  meningioma       0.69      0.65      0.67       930\n",
      "        none       0.82      0.91      0.86       831\n",
      "   pituitary       0.85      0.81      0.83       992\n",
      "\n",
      "    accuracy                           0.78      3961\n",
      "   macro avg       0.78      0.79      0.78      3961\n",
      "weighted avg       0.78      0.78      0.78      3961\n",
      "\n"
     ]
    },
    {
     "name": "stderr",
     "output_type": "stream",
     "text": [
      "Training: 100%|██████████| 436/436 [00:10<00:00, 42.37it/s]\n",
      "Evaluating: 100%|██████████| 124/124 [00:02<00:00, 46.68it/s]\n"
     ]
    },
    {
     "name": "stdout",
     "output_type": "stream",
     "text": [
      "\n",
      "Epoch 26/300\n",
      "Train Loss: 0.4289, Train Acc: 0.8321\n",
      "Val Loss: 0.6579, Val Acc: 0.7877\n"
     ]
    },
    {
     "name": "stderr",
     "output_type": "stream",
     "text": [
      "Training: 100%|██████████| 436/436 [00:10<00:00, 41.62it/s]\n",
      "Evaluating: 100%|██████████| 124/124 [00:02<00:00, 46.26it/s]\n"
     ]
    },
    {
     "name": "stdout",
     "output_type": "stream",
     "text": [
      "\n",
      "Epoch 27/300\n",
      "Train Loss: 0.4264, Train Acc: 0.8360\n",
      "Val Loss: 0.6590, Val Acc: 0.7814\n"
     ]
    },
    {
     "name": "stderr",
     "output_type": "stream",
     "text": [
      "Training: 100%|██████████| 436/436 [00:10<00:00, 41.78it/s]\n",
      "Evaluating: 100%|██████████| 124/124 [00:02<00:00, 46.17it/s]\n"
     ]
    },
    {
     "name": "stdout",
     "output_type": "stream",
     "text": [
      "\n",
      "Epoch 28/300\n",
      "Train Loss: 0.4238, Train Acc: 0.8371\n",
      "Val Loss: 0.6759, Val Acc: 0.7900\n"
     ]
    },
    {
     "name": "stderr",
     "output_type": "stream",
     "text": [
      "Training: 100%|██████████| 436/436 [00:10<00:00, 41.59it/s]\n",
      "Evaluating: 100%|██████████| 124/124 [00:02<00:00, 46.61it/s]\n"
     ]
    },
    {
     "name": "stdout",
     "output_type": "stream",
     "text": [
      "\n",
      "Epoch 29/300\n",
      "Train Loss: 0.4159, Train Acc: 0.8405\n",
      "Val Loss: 0.6442, Val Acc: 0.7932\n"
     ]
    },
    {
     "name": "stderr",
     "output_type": "stream",
     "text": [
      "Training: 100%|██████████| 436/436 [00:10<00:00, 41.85it/s]\n",
      "Evaluating: 100%|██████████| 124/124 [00:02<00:00, 46.42it/s]\n"
     ]
    },
    {
     "name": "stdout",
     "output_type": "stream",
     "text": [
      "\n",
      "Epoch 30/300\n",
      "Train Loss: 0.4045, Train Acc: 0.8463\n",
      "Val Loss: 0.6636, Val Acc: 0.7975\n",
      "\n",
      "Validation Report:\n",
      "              precision    recall  f1-score   support\n",
      "\n",
      "      glioma       0.86      0.70      0.77      1208\n",
      "  meningioma       0.69      0.72      0.70       930\n",
      "        none       0.86      0.93      0.89       831\n",
      "   pituitary       0.79      0.88      0.83       992\n",
      "\n",
      "    accuracy                           0.80      3961\n",
      "   macro avg       0.80      0.81      0.80      3961\n",
      "weighted avg       0.80      0.80      0.80      3961\n",
      "\n"
     ]
    },
    {
     "name": "stderr",
     "output_type": "stream",
     "text": [
      "Training: 100%|██████████| 436/436 [00:10<00:00, 41.59it/s]\n",
      "Evaluating: 100%|██████████| 124/124 [00:02<00:00, 46.57it/s]\n"
     ]
    },
    {
     "name": "stdout",
     "output_type": "stream",
     "text": [
      "\n",
      "Epoch 31/300\n",
      "Train Loss: 0.4049, Train Acc: 0.8443\n",
      "Val Loss: 0.6512, Val Acc: 0.7950\n"
     ]
    },
    {
     "name": "stderr",
     "output_type": "stream",
     "text": [
      "Training: 100%|██████████| 436/436 [00:10<00:00, 42.10it/s]\n",
      "Evaluating: 100%|██████████| 124/124 [00:02<00:00, 46.85it/s]\n"
     ]
    },
    {
     "name": "stdout",
     "output_type": "stream",
     "text": [
      "\n",
      "Epoch 32/300\n",
      "Train Loss: 0.3999, Train Acc: 0.8467\n",
      "Val Loss: 0.6752, Val Acc: 0.7879\n"
     ]
    },
    {
     "name": "stderr",
     "output_type": "stream",
     "text": [
      "Training: 100%|██████████| 436/436 [00:10<00:00, 42.32it/s]\n",
      "Evaluating: 100%|██████████| 124/124 [00:02<00:00, 46.92it/s]\n"
     ]
    },
    {
     "name": "stdout",
     "output_type": "stream",
     "text": [
      "\n",
      "Epoch 33/300\n",
      "Train Loss: 0.3926, Train Acc: 0.8466\n",
      "Val Loss: 0.6564, Val Acc: 0.7970\n"
     ]
    },
    {
     "name": "stderr",
     "output_type": "stream",
     "text": [
      "Training: 100%|██████████| 436/436 [00:10<00:00, 42.44it/s]\n",
      "Evaluating: 100%|██████████| 124/124 [00:02<00:00, 46.76it/s]\n"
     ]
    },
    {
     "name": "stdout",
     "output_type": "stream",
     "text": [
      "\n",
      "Epoch 34/300\n",
      "Train Loss: 0.3848, Train Acc: 0.8522\n",
      "Val Loss: 0.6573, Val Acc: 0.7988\n"
     ]
    },
    {
     "name": "stderr",
     "output_type": "stream",
     "text": [
      "Training: 100%|██████████| 436/436 [00:10<00:00, 41.72it/s]\n",
      "Evaluating: 100%|██████████| 124/124 [00:02<00:00, 47.15it/s]\n"
     ]
    },
    {
     "name": "stdout",
     "output_type": "stream",
     "text": [
      "\n",
      "Epoch 35/300\n",
      "Train Loss: 0.3892, Train Acc: 0.8507\n",
      "Val Loss: 0.6408, Val Acc: 0.7947\n",
      "\n",
      "Validation Report:\n",
      "              precision    recall  f1-score   support\n",
      "\n",
      "      glioma       0.81      0.75      0.78      1208\n",
      "  meningioma       0.67      0.73      0.70       930\n",
      "        none       0.82      0.92      0.87       831\n",
      "   pituitary       0.88      0.81      0.84       992\n",
      "\n",
      "    accuracy                           0.79      3961\n",
      "   macro avg       0.80      0.80      0.80      3961\n",
      "weighted avg       0.80      0.79      0.80      3961\n",
      "\n"
     ]
    },
    {
     "name": "stderr",
     "output_type": "stream",
     "text": [
      "Training: 100%|██████████| 436/436 [00:10<00:00, 42.40it/s]\n",
      "Evaluating: 100%|██████████| 124/124 [00:02<00:00, 46.19it/s]\n"
     ]
    },
    {
     "name": "stdout",
     "output_type": "stream",
     "text": [
      "\n",
      "Epoch 36/300\n",
      "Train Loss: 0.3793, Train Acc: 0.8520\n",
      "Val Loss: 0.6682, Val Acc: 0.8006\n"
     ]
    },
    {
     "name": "stderr",
     "output_type": "stream",
     "text": [
      "Training: 100%|██████████| 436/436 [00:10<00:00, 41.77it/s]\n",
      "Evaluating: 100%|██████████| 124/124 [00:02<00:00, 47.20it/s]\n"
     ]
    },
    {
     "name": "stdout",
     "output_type": "stream",
     "text": [
      "\n",
      "Epoch 37/300\n",
      "Train Loss: 0.3753, Train Acc: 0.8585\n",
      "Val Loss: 0.6367, Val Acc: 0.8109\n"
     ]
    },
    {
     "name": "stderr",
     "output_type": "stream",
     "text": [
      "Training: 100%|██████████| 436/436 [00:10<00:00, 42.07it/s]\n",
      "Evaluating: 100%|██████████| 124/124 [00:02<00:00, 46.67it/s]\n"
     ]
    },
    {
     "name": "stdout",
     "output_type": "stream",
     "text": [
      "\n",
      "Epoch 38/300\n",
      "Train Loss: 0.3773, Train Acc: 0.8577\n",
      "Val Loss: 0.6384, Val Acc: 0.8109\n"
     ]
    },
    {
     "name": "stderr",
     "output_type": "stream",
     "text": [
      "Training: 100%|██████████| 436/436 [00:10<00:00, 42.41it/s]\n",
      "Evaluating: 100%|██████████| 124/124 [00:02<00:00, 46.34it/s]\n"
     ]
    },
    {
     "name": "stdout",
     "output_type": "stream",
     "text": [
      "\n",
      "Epoch 39/300\n",
      "Train Loss: 0.3679, Train Acc: 0.8570\n",
      "Val Loss: 0.6330, Val Acc: 0.7980\n"
     ]
    },
    {
     "name": "stderr",
     "output_type": "stream",
     "text": [
      "Training: 100%|██████████| 436/436 [00:10<00:00, 41.70it/s]\n",
      "Evaluating: 100%|██████████| 124/124 [00:02<00:00, 46.81it/s]\n"
     ]
    },
    {
     "name": "stdout",
     "output_type": "stream",
     "text": [
      "\n",
      "Epoch 40/300\n",
      "Train Loss: 0.3601, Train Acc: 0.8631\n",
      "Val Loss: 0.6352, Val Acc: 0.8061\n",
      "\n",
      "Validation Report:\n",
      "              precision    recall  f1-score   support\n",
      "\n",
      "      glioma       0.82      0.76      0.79      1208\n",
      "  meningioma       0.69      0.74      0.71       930\n",
      "        none       0.83      0.94      0.88       831\n",
      "   pituitary       0.89      0.82      0.85       992\n",
      "\n",
      "    accuracy                           0.81      3961\n",
      "   macro avg       0.81      0.81      0.81      3961\n",
      "weighted avg       0.81      0.81      0.81      3961\n",
      "\n"
     ]
    },
    {
     "name": "stderr",
     "output_type": "stream",
     "text": [
      "Training: 100%|██████████| 436/436 [00:10<00:00, 42.38it/s]\n",
      "Evaluating: 100%|██████████| 124/124 [00:02<00:00, 46.50it/s]\n"
     ]
    },
    {
     "name": "stdout",
     "output_type": "stream",
     "text": [
      "\n",
      "Epoch 41/300\n",
      "Train Loss: 0.3564, Train Acc: 0.8635\n",
      "Val Loss: 0.6925, Val Acc: 0.7953\n"
     ]
    },
    {
     "name": "stderr",
     "output_type": "stream",
     "text": [
      "Training: 100%|██████████| 436/436 [00:10<00:00, 42.05it/s]\n",
      "Evaluating: 100%|██████████| 124/124 [00:02<00:00, 46.86it/s]\n"
     ]
    },
    {
     "name": "stdout",
     "output_type": "stream",
     "text": [
      "\n",
      "Epoch 42/300\n",
      "Train Loss: 0.3548, Train Acc: 0.8616\n",
      "Val Loss: 0.6561, Val Acc: 0.8117\n"
     ]
    },
    {
     "name": "stderr",
     "output_type": "stream",
     "text": [
      "Training: 100%|██████████| 436/436 [00:10<00:00, 42.44it/s]\n",
      "Evaluating: 100%|██████████| 124/124 [00:02<00:00, 47.13it/s]\n"
     ]
    },
    {
     "name": "stdout",
     "output_type": "stream",
     "text": [
      "\n",
      "Epoch 43/300\n",
      "Train Loss: 0.3558, Train Acc: 0.8623\n",
      "Val Loss: 0.6280, Val Acc: 0.8091\n"
     ]
    },
    {
     "name": "stderr",
     "output_type": "stream",
     "text": [
      "Training: 100%|██████████| 436/436 [00:10<00:00, 42.00it/s]\n",
      "Evaluating: 100%|██████████| 124/124 [00:02<00:00, 46.55it/s]\n"
     ]
    },
    {
     "name": "stdout",
     "output_type": "stream",
     "text": [
      "\n",
      "Epoch 44/300\n",
      "Train Loss: 0.3459, Train Acc: 0.8646\n",
      "Val Loss: 0.6505, Val Acc: 0.8117\n"
     ]
    },
    {
     "name": "stderr",
     "output_type": "stream",
     "text": [
      "Training: 100%|██████████| 436/436 [00:10<00:00, 41.91it/s]\n",
      "Evaluating: 100%|██████████| 124/124 [00:02<00:00, 46.43it/s]\n"
     ]
    },
    {
     "name": "stdout",
     "output_type": "stream",
     "text": [
      "\n",
      "Epoch 45/300\n",
      "Train Loss: 0.3432, Train Acc: 0.8697\n",
      "Val Loss: 0.6329, Val Acc: 0.8112\n",
      "\n",
      "Validation Report:\n",
      "              precision    recall  f1-score   support\n",
      "\n",
      "      glioma       0.83      0.75      0.79      1208\n",
      "  meningioma       0.68      0.77      0.72       930\n",
      "        none       0.88      0.92      0.90       831\n",
      "   pituitary       0.88      0.83      0.86       992\n",
      "\n",
      "    accuracy                           0.81      3961\n",
      "   macro avg       0.82      0.82      0.82      3961\n",
      "weighted avg       0.82      0.81      0.81      3961\n",
      "\n"
     ]
    },
    {
     "name": "stderr",
     "output_type": "stream",
     "text": [
      "Training: 100%|██████████| 436/436 [00:10<00:00, 42.09it/s]\n",
      "Evaluating: 100%|██████████| 124/124 [00:02<00:00, 46.88it/s]\n"
     ]
    },
    {
     "name": "stdout",
     "output_type": "stream",
     "text": [
      "\n",
      "Epoch 46/300\n",
      "Train Loss: 0.3405, Train Acc: 0.8724\n",
      "Val Loss: 0.6570, Val Acc: 0.8036\n"
     ]
    },
    {
     "name": "stderr",
     "output_type": "stream",
     "text": [
      "Training: 100%|██████████| 436/436 [00:10<00:00, 41.74it/s]\n",
      "Evaluating: 100%|██████████| 124/124 [00:02<00:00, 46.63it/s]\n"
     ]
    },
    {
     "name": "stdout",
     "output_type": "stream",
     "text": [
      "\n",
      "Epoch 47/300\n",
      "Train Loss: 0.3376, Train Acc: 0.8718\n",
      "Val Loss: 0.6324, Val Acc: 0.8132\n"
     ]
    },
    {
     "name": "stderr",
     "output_type": "stream",
     "text": [
      "Training: 100%|██████████| 436/436 [00:10<00:00, 42.20it/s]\n",
      "Evaluating: 100%|██████████| 124/124 [00:02<00:00, 46.66it/s]\n"
     ]
    },
    {
     "name": "stdout",
     "output_type": "stream",
     "text": [
      "\n",
      "Epoch 48/300\n",
      "Train Loss: 0.3337, Train Acc: 0.8699\n",
      "Val Loss: 0.6162, Val Acc: 0.8230\n"
     ]
    },
    {
     "name": "stderr",
     "output_type": "stream",
     "text": [
      "Training: 100%|██████████| 436/436 [00:10<00:00, 41.58it/s]\n",
      "Evaluating: 100%|██████████| 124/124 [00:02<00:00, 46.58it/s]\n"
     ]
    },
    {
     "name": "stdout",
     "output_type": "stream",
     "text": [
      "\n",
      "Epoch 49/300\n",
      "Train Loss: 0.3328, Train Acc: 0.8741\n",
      "Val Loss: 0.6444, Val Acc: 0.8142\n"
     ]
    },
    {
     "name": "stderr",
     "output_type": "stream",
     "text": [
      "Training: 100%|██████████| 436/436 [00:10<00:00, 41.97it/s]\n",
      "Evaluating: 100%|██████████| 124/124 [00:02<00:00, 46.45it/s]\n"
     ]
    },
    {
     "name": "stdout",
     "output_type": "stream",
     "text": [
      "\n",
      "Epoch 50/300\n",
      "Train Loss: 0.3292, Train Acc: 0.8727\n",
      "Val Loss: 0.6387, Val Acc: 0.8202\n",
      "\n",
      "Validation Report:\n",
      "              precision    recall  f1-score   support\n",
      "\n",
      "      glioma       0.81      0.78      0.79      1208\n",
      "  meningioma       0.72      0.73      0.72       930\n",
      "        none       0.89      0.93      0.91       831\n",
      "   pituitary       0.87      0.86      0.87       992\n",
      "\n",
      "    accuracy                           0.82      3961\n",
      "   macro avg       0.82      0.83      0.82      3961\n",
      "weighted avg       0.82      0.82      0.82      3961\n",
      "\n"
     ]
    },
    {
     "name": "stderr",
     "output_type": "stream",
     "text": [
      "Training: 100%|██████████| 436/436 [00:10<00:00, 41.85it/s]\n",
      "Evaluating: 100%|██████████| 124/124 [00:02<00:00, 46.83it/s]\n"
     ]
    },
    {
     "name": "stdout",
     "output_type": "stream",
     "text": [
      "\n",
      "Epoch 51/300\n",
      "Train Loss: 0.3239, Train Acc: 0.8764\n",
      "Val Loss: 0.6425, Val Acc: 0.8127\n"
     ]
    },
    {
     "name": "stderr",
     "output_type": "stream",
     "text": [
      "Training: 100%|██████████| 436/436 [00:10<00:00, 41.94it/s]\n",
      "Evaluating: 100%|██████████| 124/124 [00:02<00:00, 46.53it/s]\n"
     ]
    },
    {
     "name": "stdout",
     "output_type": "stream",
     "text": [
      "\n",
      "Epoch 52/300\n",
      "Train Loss: 0.3199, Train Acc: 0.8787\n",
      "Val Loss: 0.6675, Val Acc: 0.8175\n"
     ]
    },
    {
     "name": "stderr",
     "output_type": "stream",
     "text": [
      "Training: 100%|██████████| 436/436 [00:10<00:00, 42.23it/s]\n",
      "Evaluating: 100%|██████████| 124/124 [00:02<00:00, 46.13it/s]\n"
     ]
    },
    {
     "name": "stdout",
     "output_type": "stream",
     "text": [
      "\n",
      "Epoch 53/300\n",
      "Train Loss: 0.3207, Train Acc: 0.8787\n",
      "Val Loss: 0.6551, Val Acc: 0.8208\n"
     ]
    },
    {
     "name": "stderr",
     "output_type": "stream",
     "text": [
      "Training: 100%|██████████| 436/436 [00:10<00:00, 42.06it/s]\n",
      "Evaluating: 100%|██████████| 124/124 [00:02<00:00, 46.84it/s]\n"
     ]
    },
    {
     "name": "stdout",
     "output_type": "stream",
     "text": [
      "\n",
      "Epoch 54/300\n",
      "Train Loss: 0.3183, Train Acc: 0.8776\n",
      "Val Loss: 0.6401, Val Acc: 0.8243\n"
     ]
    },
    {
     "name": "stderr",
     "output_type": "stream",
     "text": [
      "Training: 100%|██████████| 436/436 [00:10<00:00, 42.42it/s]\n",
      "Evaluating: 100%|██████████| 124/124 [00:02<00:00, 46.83it/s]\n"
     ]
    },
    {
     "name": "stdout",
     "output_type": "stream",
     "text": [
      "\n",
      "Epoch 55/300\n",
      "Train Loss: 0.3101, Train Acc: 0.8837\n",
      "Val Loss: 0.6327, Val Acc: 0.8233\n",
      "\n",
      "Validation Report:\n",
      "              precision    recall  f1-score   support\n",
      "\n",
      "      glioma       0.87      0.73      0.79      1208\n",
      "  meningioma       0.68      0.84      0.75       930\n",
      "        none       0.88      0.93      0.91       831\n",
      "   pituitary       0.90      0.84      0.87       992\n",
      "\n",
      "    accuracy                           0.82      3961\n",
      "   macro avg       0.83      0.83      0.83      3961\n",
      "weighted avg       0.83      0.82      0.82      3961\n",
      "\n"
     ]
    },
    {
     "name": "stderr",
     "output_type": "stream",
     "text": [
      "Training: 100%|██████████| 436/436 [00:10<00:00, 42.04it/s]\n",
      "Evaluating: 100%|██████████| 124/124 [00:02<00:00, 47.07it/s]\n"
     ]
    },
    {
     "name": "stdout",
     "output_type": "stream",
     "text": [
      "\n",
      "Epoch 56/300\n",
      "Train Loss: 0.3088, Train Acc: 0.8843\n",
      "Val Loss: 0.6490, Val Acc: 0.8129\n"
     ]
    },
    {
     "name": "stderr",
     "output_type": "stream",
     "text": [
      "Training: 100%|██████████| 436/436 [00:10<00:00, 41.86it/s]\n",
      "Evaluating: 100%|██████████| 124/124 [00:02<00:00, 46.71it/s]\n"
     ]
    },
    {
     "name": "stdout",
     "output_type": "stream",
     "text": [
      "\n",
      "Epoch 57/300\n",
      "Train Loss: 0.3094, Train Acc: 0.8850\n",
      "Val Loss: 0.6454, Val Acc: 0.8124\n"
     ]
    },
    {
     "name": "stderr",
     "output_type": "stream",
     "text": [
      "Training: 100%|██████████| 436/436 [00:10<00:00, 42.00it/s]\n",
      "Evaluating: 100%|██████████| 124/124 [00:02<00:00, 46.77it/s]\n"
     ]
    },
    {
     "name": "stdout",
     "output_type": "stream",
     "text": [
      "\n",
      "Epoch 58/300\n",
      "Train Loss: 0.3045, Train Acc: 0.8848\n",
      "Val Loss: 0.6292, Val Acc: 0.8165\n"
     ]
    },
    {
     "name": "stderr",
     "output_type": "stream",
     "text": [
      "Training: 100%|██████████| 436/436 [00:10<00:00, 42.12it/s]\n",
      "Evaluating: 100%|██████████| 124/124 [00:02<00:00, 47.11it/s]\n"
     ]
    },
    {
     "name": "stdout",
     "output_type": "stream",
     "text": [
      "\n",
      "Epoch 59/300\n",
      "Train Loss: 0.3025, Train Acc: 0.8834\n",
      "Val Loss: 0.6436, Val Acc: 0.8230\n"
     ]
    },
    {
     "name": "stderr",
     "output_type": "stream",
     "text": [
      "Training: 100%|██████████| 436/436 [00:10<00:00, 42.41it/s]\n",
      "Evaluating: 100%|██████████| 124/124 [00:02<00:00, 46.71it/s]\n"
     ]
    },
    {
     "name": "stdout",
     "output_type": "stream",
     "text": [
      "\n",
      "Epoch 60/300\n",
      "Train Loss: 0.2955, Train Acc: 0.8901\n",
      "Val Loss: 0.6731, Val Acc: 0.8225\n",
      "\n",
      "Validation Report:\n",
      "              precision    recall  f1-score   support\n",
      "\n",
      "      glioma       0.86      0.76      0.81      1208\n",
      "  meningioma       0.75      0.73      0.74       930\n",
      "        none       0.81      0.96      0.87       831\n",
      "   pituitary       0.87      0.88      0.87       992\n",
      "\n",
      "    accuracy                           0.82      3961\n",
      "   macro avg       0.82      0.83      0.82      3961\n",
      "weighted avg       0.82      0.82      0.82      3961\n",
      "\n"
     ]
    },
    {
     "name": "stderr",
     "output_type": "stream",
     "text": [
      "Training: 100%|██████████| 436/436 [00:10<00:00, 42.03it/s]\n",
      "Evaluating: 100%|██████████| 124/124 [00:02<00:00, 46.69it/s]\n"
     ]
    },
    {
     "name": "stdout",
     "output_type": "stream",
     "text": [
      "\n",
      "Epoch 61/300\n",
      "Train Loss: 0.2654, Train Acc: 0.9017\n",
      "Val Loss: 0.6148, Val Acc: 0.8336\n"
     ]
    },
    {
     "name": "stderr",
     "output_type": "stream",
     "text": [
      "Training: 100%|██████████| 436/436 [00:10<00:00, 41.85it/s]\n",
      "Evaluating: 100%|██████████| 124/124 [00:02<00:00, 46.67it/s]\n"
     ]
    },
    {
     "name": "stdout",
     "output_type": "stream",
     "text": [
      "\n",
      "Epoch 62/300\n",
      "Train Loss: 0.2583, Train Acc: 0.9039\n",
      "Val Loss: 0.6554, Val Acc: 0.8281\n"
     ]
    },
    {
     "name": "stderr",
     "output_type": "stream",
     "text": [
      "Training: 100%|██████████| 436/436 [00:10<00:00, 41.51it/s]\n",
      "Evaluating: 100%|██████████| 124/124 [00:02<00:00, 46.69it/s]\n"
     ]
    },
    {
     "name": "stdout",
     "output_type": "stream",
     "text": [
      "\n",
      "Epoch 63/300\n",
      "Train Loss: 0.2546, Train Acc: 0.9041\n",
      "Val Loss: 0.6259, Val Acc: 0.8321\n"
     ]
    },
    {
     "name": "stderr",
     "output_type": "stream",
     "text": [
      "Training: 100%|██████████| 436/436 [00:10<00:00, 42.38it/s]\n",
      "Evaluating: 100%|██████████| 124/124 [00:02<00:00, 47.01it/s]\n"
     ]
    },
    {
     "name": "stdout",
     "output_type": "stream",
     "text": [
      "\n",
      "Epoch 64/300\n",
      "Train Loss: 0.2520, Train Acc: 0.9046\n",
      "Val Loss: 0.6385, Val Acc: 0.8362\n"
     ]
    },
    {
     "name": "stderr",
     "output_type": "stream",
     "text": [
      "Training: 100%|██████████| 436/436 [00:10<00:00, 42.07it/s]\n",
      "Evaluating: 100%|██████████| 124/124 [00:02<00:00, 46.78it/s]\n"
     ]
    },
    {
     "name": "stdout",
     "output_type": "stream",
     "text": [
      "\n",
      "Epoch 65/300\n",
      "Train Loss: 0.2473, Train Acc: 0.9097\n",
      "Val Loss: 0.6199, Val Acc: 0.8367\n",
      "\n",
      "Validation Report:\n",
      "              precision    recall  f1-score   support\n",
      "\n",
      "      glioma       0.86      0.75      0.81      1208\n",
      "  meningioma       0.72      0.81      0.76       930\n",
      "        none       0.87      0.95      0.91       831\n",
      "   pituitary       0.91      0.86      0.88       992\n",
      "\n",
      "    accuracy                           0.84      3961\n",
      "   macro avg       0.84      0.85      0.84      3961\n",
      "weighted avg       0.84      0.84      0.84      3961\n",
      "\n"
     ]
    },
    {
     "name": "stderr",
     "output_type": "stream",
     "text": [
      "Training: 100%|██████████| 436/436 [00:10<00:00, 42.26it/s]\n",
      "Evaluating: 100%|██████████| 124/124 [00:02<00:00, 46.47it/s]\n"
     ]
    },
    {
     "name": "stdout",
     "output_type": "stream",
     "text": [
      "\n",
      "Epoch 66/300\n",
      "Train Loss: 0.2495, Train Acc: 0.9046\n",
      "Val Loss: 0.6245, Val Acc: 0.8437\n"
     ]
    },
    {
     "name": "stderr",
     "output_type": "stream",
     "text": [
      "Training: 100%|██████████| 436/436 [00:10<00:00, 42.21it/s]\n",
      "Evaluating: 100%|██████████| 124/124 [00:02<00:00, 47.11it/s]\n"
     ]
    },
    {
     "name": "stdout",
     "output_type": "stream",
     "text": [
      "\n",
      "Epoch 67/300\n",
      "Train Loss: 0.2410, Train Acc: 0.9098\n",
      "Val Loss: 0.6465, Val Acc: 0.8354\n"
     ]
    },
    {
     "name": "stderr",
     "output_type": "stream",
     "text": [
      "Training: 100%|██████████| 436/436 [00:10<00:00, 42.44it/s]\n",
      "Evaluating: 100%|██████████| 124/124 [00:02<00:00, 46.50it/s]\n"
     ]
    },
    {
     "name": "stdout",
     "output_type": "stream",
     "text": [
      "\n",
      "Epoch 68/300\n",
      "Train Loss: 0.2399, Train Acc: 0.9087\n",
      "Val Loss: 0.6473, Val Acc: 0.8362\n"
     ]
    },
    {
     "name": "stderr",
     "output_type": "stream",
     "text": [
      "Training: 100%|██████████| 436/436 [00:10<00:00, 41.87it/s]\n",
      "Evaluating: 100%|██████████| 124/124 [00:02<00:00, 46.67it/s]\n"
     ]
    },
    {
     "name": "stdout",
     "output_type": "stream",
     "text": [
      "\n",
      "Epoch 69/300\n",
      "Train Loss: 0.2368, Train Acc: 0.9115\n",
      "Val Loss: 0.6706, Val Acc: 0.8359\n"
     ]
    },
    {
     "name": "stderr",
     "output_type": "stream",
     "text": [
      "Training: 100%|██████████| 436/436 [00:10<00:00, 42.06it/s]\n",
      "Evaluating: 100%|██████████| 124/124 [00:02<00:00, 47.29it/s]\n"
     ]
    },
    {
     "name": "stdout",
     "output_type": "stream",
     "text": [
      "\n",
      "Epoch 70/300\n",
      "Train Loss: 0.2404, Train Acc: 0.9125\n",
      "Val Loss: 0.6115, Val Acc: 0.8417\n",
      "\n",
      "Validation Report:\n",
      "              precision    recall  f1-score   support\n",
      "\n",
      "      glioma       0.86      0.75      0.80      1208\n",
      "  meningioma       0.73      0.82      0.77       930\n",
      "        none       0.91      0.93      0.92       831\n",
      "   pituitary       0.88      0.91      0.89       992\n",
      "\n",
      "    accuracy                           0.84      3961\n",
      "   macro avg       0.84      0.85      0.85      3961\n",
      "weighted avg       0.84      0.84      0.84      3961\n",
      "\n"
     ]
    },
    {
     "name": "stderr",
     "output_type": "stream",
     "text": [
      "Training: 100%|██████████| 436/436 [00:10<00:00, 41.99it/s]\n",
      "Evaluating: 100%|██████████| 124/124 [00:02<00:00, 46.62it/s]\n"
     ]
    },
    {
     "name": "stdout",
     "output_type": "stream",
     "text": [
      "\n",
      "Epoch 71/300\n",
      "Train Loss: 0.2366, Train Acc: 0.9115\n",
      "Val Loss: 0.6402, Val Acc: 0.8379\n"
     ]
    },
    {
     "name": "stderr",
     "output_type": "stream",
     "text": [
      "Training: 100%|██████████| 436/436 [00:10<00:00, 41.73it/s]\n",
      "Evaluating: 100%|██████████| 124/124 [00:02<00:00, 47.02it/s]\n"
     ]
    },
    {
     "name": "stdout",
     "output_type": "stream",
     "text": [
      "\n",
      "Epoch 72/300\n",
      "Train Loss: 0.2365, Train Acc: 0.9095\n",
      "Val Loss: 0.6522, Val Acc: 0.8389\n"
     ]
    },
    {
     "name": "stderr",
     "output_type": "stream",
     "text": [
      "Training: 100%|██████████| 436/436 [00:10<00:00, 42.31it/s]\n",
      "Evaluating: 100%|██████████| 124/124 [00:02<00:00, 46.56it/s]\n"
     ]
    },
    {
     "name": "stdout",
     "output_type": "stream",
     "text": [
      "\n",
      "Epoch 73/300\n",
      "Train Loss: 0.2172, Train Acc: 0.9171\n",
      "Val Loss: 0.6364, Val Acc: 0.8463\n"
     ]
    },
    {
     "name": "stderr",
     "output_type": "stream",
     "text": [
      "Training: 100%|██████████| 436/436 [00:10<00:00, 41.56it/s]\n",
      "Evaluating: 100%|██████████| 124/124 [00:02<00:00, 46.58it/s]\n"
     ]
    },
    {
     "name": "stdout",
     "output_type": "stream",
     "text": [
      "\n",
      "Epoch 74/300\n",
      "Train Loss: 0.2144, Train Acc: 0.9215\n",
      "Val Loss: 0.6331, Val Acc: 0.8435\n"
     ]
    },
    {
     "name": "stderr",
     "output_type": "stream",
     "text": [
      "Training: 100%|██████████| 436/436 [00:10<00:00, 42.02it/s]\n",
      "Evaluating: 100%|██████████| 124/124 [00:02<00:00, 46.90it/s]\n"
     ]
    },
    {
     "name": "stdout",
     "output_type": "stream",
     "text": [
      "\n",
      "Epoch 75/300\n",
      "Train Loss: 0.2085, Train Acc: 0.9243\n",
      "Val Loss: 0.6294, Val Acc: 0.8500\n",
      "\n",
      "Validation Report:\n",
      "              precision    recall  f1-score   support\n",
      "\n",
      "      glioma       0.86      0.80      0.83      1208\n",
      "  meningioma       0.79      0.78      0.79       930\n",
      "        none       0.85      0.96      0.90       831\n",
      "   pituitary       0.89      0.89      0.89       992\n",
      "\n",
      "    accuracy                           0.85      3961\n",
      "   macro avg       0.85      0.86      0.85      3961\n",
      "weighted avg       0.85      0.85      0.85      3961\n",
      "\n"
     ]
    },
    {
     "name": "stderr",
     "output_type": "stream",
     "text": [
      "Training: 100%|██████████| 436/436 [00:10<00:00, 41.86it/s]\n",
      "Evaluating: 100%|██████████| 124/124 [00:02<00:00, 47.32it/s]\n"
     ]
    },
    {
     "name": "stdout",
     "output_type": "stream",
     "text": [
      "\n",
      "Epoch 76/300\n",
      "Train Loss: 0.2060, Train Acc: 0.9247\n",
      "Val Loss: 0.6339, Val Acc: 0.8397\n"
     ]
    },
    {
     "name": "stderr",
     "output_type": "stream",
     "text": [
      "Training: 100%|██████████| 436/436 [00:10<00:00, 41.76it/s]\n",
      "Evaluating: 100%|██████████| 124/124 [00:02<00:00, 47.04it/s]\n"
     ]
    },
    {
     "name": "stdout",
     "output_type": "stream",
     "text": [
      "\n",
      "Epoch 77/300\n",
      "Train Loss: 0.2059, Train Acc: 0.9229\n",
      "Val Loss: 0.6387, Val Acc: 0.8430\n"
     ]
    },
    {
     "name": "stderr",
     "output_type": "stream",
     "text": [
      "Training: 100%|██████████| 436/436 [00:10<00:00, 42.26it/s]\n",
      "Evaluating: 100%|██████████| 124/124 [00:02<00:00, 46.80it/s]\n"
     ]
    },
    {
     "name": "stdout",
     "output_type": "stream",
     "text": [
      "\n",
      "Epoch 78/300\n",
      "Train Loss: 0.2047, Train Acc: 0.9227\n",
      "Val Loss: 0.6352, Val Acc: 0.8498\n"
     ]
    },
    {
     "name": "stderr",
     "output_type": "stream",
     "text": [
      "Training: 100%|██████████| 436/436 [00:10<00:00, 41.83it/s]\n",
      "Evaluating: 100%|██████████| 124/124 [00:02<00:00, 46.55it/s]\n"
     ]
    },
    {
     "name": "stdout",
     "output_type": "stream",
     "text": [
      "\n",
      "Epoch 79/300\n",
      "Train Loss: 0.2034, Train Acc: 0.9242\n",
      "Val Loss: 0.6372, Val Acc: 0.8468\n"
     ]
    },
    {
     "name": "stderr",
     "output_type": "stream",
     "text": [
      "Training: 100%|██████████| 436/436 [00:10<00:00, 42.04it/s]\n",
      "Evaluating: 100%|██████████| 124/124 [00:02<00:00, 46.76it/s]\n"
     ]
    },
    {
     "name": "stdout",
     "output_type": "stream",
     "text": [
      "\n",
      "Epoch 80/300\n",
      "Train Loss: 0.2038, Train Acc: 0.9238\n",
      "Val Loss: 0.6365, Val Acc: 0.8427\n",
      "\n",
      "Validation Report:\n",
      "              precision    recall  f1-score   support\n",
      "\n",
      "      glioma       0.84      0.80      0.82      1208\n",
      "  meningioma       0.76      0.78      0.77       930\n",
      "        none       0.87      0.94      0.91       831\n",
      "   pituitary       0.90      0.86      0.88       992\n",
      "\n",
      "    accuracy                           0.84      3961\n",
      "   macro avg       0.84      0.85      0.85      3961\n",
      "weighted avg       0.84      0.84      0.84      3961\n",
      "\n"
     ]
    },
    {
     "name": "stderr",
     "output_type": "stream",
     "text": [
      "Training: 100%|██████████| 436/436 [00:10<00:00, 41.84it/s]\n",
      "Evaluating: 100%|██████████| 124/124 [00:02<00:00, 46.71it/s]\n"
     ]
    },
    {
     "name": "stdout",
     "output_type": "stream",
     "text": [
      "\n",
      "Epoch 81/300\n",
      "Train Loss: 0.2026, Train Acc: 0.9247\n",
      "Val Loss: 0.6539, Val Acc: 0.8521\n"
     ]
    },
    {
     "name": "stderr",
     "output_type": "stream",
     "text": [
      "Training: 100%|██████████| 436/436 [00:10<00:00, 42.24it/s]\n",
      "Evaluating: 100%|██████████| 124/124 [00:02<00:00, 46.30it/s]\n"
     ]
    },
    {
     "name": "stdout",
     "output_type": "stream",
     "text": [
      "\n",
      "Epoch 82/300\n",
      "Train Loss: 0.2030, Train Acc: 0.9222\n",
      "Val Loss: 0.6415, Val Acc: 0.8483\n"
     ]
    },
    {
     "name": "stderr",
     "output_type": "stream",
     "text": [
      "Training: 100%|██████████| 436/436 [00:10<00:00, 42.45it/s]\n",
      "Evaluating: 100%|██████████| 124/124 [00:02<00:00, 46.64it/s]\n"
     ]
    },
    {
     "name": "stdout",
     "output_type": "stream",
     "text": [
      "\n",
      "Epoch 83/300\n",
      "Train Loss: 0.1988, Train Acc: 0.9259\n",
      "Val Loss: 0.6546, Val Acc: 0.8432\n"
     ]
    },
    {
     "name": "stderr",
     "output_type": "stream",
     "text": [
      "Training: 100%|██████████| 436/436 [00:10<00:00, 42.08it/s]\n",
      "Evaluating: 100%|██████████| 124/124 [00:02<00:00, 46.59it/s]\n"
     ]
    },
    {
     "name": "stdout",
     "output_type": "stream",
     "text": [
      "\n",
      "Epoch 84/300\n",
      "Train Loss: 0.2044, Train Acc: 0.9218\n",
      "Val Loss: 0.6422, Val Acc: 0.8558\n"
     ]
    },
    {
     "name": "stderr",
     "output_type": "stream",
     "text": [
      "Training: 100%|██████████| 436/436 [00:10<00:00, 41.64it/s]\n",
      "Evaluating: 100%|██████████| 124/124 [00:02<00:00, 46.55it/s]\n"
     ]
    },
    {
     "name": "stdout",
     "output_type": "stream",
     "text": [
      "\n",
      "Epoch 85/300\n",
      "Train Loss: 0.1974, Train Acc: 0.9270\n",
      "Val Loss: 0.6698, Val Acc: 0.8475\n",
      "\n",
      "Validation Report:\n",
      "              precision    recall  f1-score   support\n",
      "\n",
      "      glioma       0.86      0.79      0.82      1208\n",
      "  meningioma       0.76      0.80      0.78       930\n",
      "        none       0.86      0.96      0.91       831\n",
      "   pituitary       0.91      0.86      0.89       992\n",
      "\n",
      "    accuracy                           0.85      3961\n",
      "   macro avg       0.85      0.85      0.85      3961\n",
      "weighted avg       0.85      0.85      0.85      3961\n",
      "\n"
     ]
    },
    {
     "name": "stderr",
     "output_type": "stream",
     "text": [
      "Training: 100%|██████████| 436/436 [00:10<00:00, 42.58it/s]\n",
      "Evaluating: 100%|██████████| 124/124 [00:02<00:00, 47.03it/s]\n"
     ]
    },
    {
     "name": "stdout",
     "output_type": "stream",
     "text": [
      "\n",
      "Epoch 86/300\n",
      "Train Loss: 0.1960, Train Acc: 0.9270\n",
      "Val Loss: 0.6558, Val Acc: 0.8500\n"
     ]
    },
    {
     "name": "stderr",
     "output_type": "stream",
     "text": [
      "Training: 100%|██████████| 436/436 [00:10<00:00, 41.76it/s]\n",
      "Evaluating: 100%|██████████| 124/124 [00:02<00:00, 46.62it/s]\n"
     ]
    },
    {
     "name": "stdout",
     "output_type": "stream",
     "text": [
      "\n",
      "Epoch 87/300\n",
      "Train Loss: 0.1918, Train Acc: 0.9286\n",
      "Val Loss: 0.6812, Val Acc: 0.8425\n"
     ]
    },
    {
     "name": "stderr",
     "output_type": "stream",
     "text": [
      "Training: 100%|██████████| 436/436 [00:10<00:00, 42.14it/s]\n",
      "Evaluating: 100%|██████████| 124/124 [00:02<00:00, 46.14it/s]\n"
     ]
    },
    {
     "name": "stdout",
     "output_type": "stream",
     "text": [
      "\n",
      "Epoch 88/300\n",
      "Train Loss: 0.1968, Train Acc: 0.9240\n",
      "Val Loss: 0.6662, Val Acc: 0.8402\n"
     ]
    },
    {
     "name": "stderr",
     "output_type": "stream",
     "text": [
      "Training: 100%|██████████| 436/436 [00:10<00:00, 41.99it/s]\n",
      "Evaluating: 100%|██████████| 124/124 [00:02<00:00, 46.43it/s]\n"
     ]
    },
    {
     "name": "stdout",
     "output_type": "stream",
     "text": [
      "\n",
      "Epoch 89/300\n",
      "Train Loss: 0.1956, Train Acc: 0.9278\n",
      "Val Loss: 0.6649, Val Acc: 0.8473\n"
     ]
    },
    {
     "name": "stderr",
     "output_type": "stream",
     "text": [
      "Training: 100%|██████████| 436/436 [00:10<00:00, 41.30it/s]\n",
      "Evaluating: 100%|██████████| 124/124 [00:02<00:00, 46.67it/s]\n"
     ]
    },
    {
     "name": "stdout",
     "output_type": "stream",
     "text": [
      "\n",
      "Epoch 90/300\n",
      "Train Loss: 0.1922, Train Acc: 0.9297\n",
      "Val Loss: 0.6749, Val Acc: 0.8455\n",
      "\n",
      "Validation Report:\n",
      "              precision    recall  f1-score   support\n",
      "\n",
      "      glioma       0.84      0.79      0.81      1208\n",
      "  meningioma       0.74      0.82      0.78       930\n",
      "        none       0.90      0.95      0.92       831\n",
      "   pituitary       0.93      0.85      0.89       992\n",
      "\n",
      "    accuracy                           0.85      3961\n",
      "   macro avg       0.85      0.85      0.85      3961\n",
      "weighted avg       0.85      0.85      0.85      3961\n",
      "\n"
     ]
    },
    {
     "name": "stderr",
     "output_type": "stream",
     "text": [
      "Training: 100%|██████████| 436/436 [00:10<00:00, 41.80it/s]\n",
      "Evaluating: 100%|██████████| 124/124 [00:02<00:00, 46.58it/s]\n"
     ]
    },
    {
     "name": "stdout",
     "output_type": "stream",
     "text": [
      "\n",
      "Epoch 91/300\n",
      "Train Loss: 0.1861, Train Acc: 0.9316\n",
      "Val Loss: 0.6556, Val Acc: 0.8566\n"
     ]
    },
    {
     "name": "stderr",
     "output_type": "stream",
     "text": [
      "Training: 100%|██████████| 436/436 [00:10<00:00, 42.22it/s]\n",
      "Evaluating: 100%|██████████| 124/124 [00:02<00:00, 46.46it/s]\n"
     ]
    },
    {
     "name": "stdout",
     "output_type": "stream",
     "text": [
      "\n",
      "Epoch 92/300\n",
      "Train Loss: 0.1819, Train Acc: 0.9318\n",
      "Val Loss: 0.6643, Val Acc: 0.8533\n"
     ]
    },
    {
     "name": "stderr",
     "output_type": "stream",
     "text": [
      "Training: 100%|██████████| 436/436 [00:10<00:00, 42.11it/s]\n",
      "Evaluating: 100%|██████████| 124/124 [00:02<00:00, 46.29it/s]\n"
     ]
    },
    {
     "name": "stdout",
     "output_type": "stream",
     "text": [
      "\n",
      "Epoch 93/300\n",
      "Train Loss: 0.1801, Train Acc: 0.9341\n",
      "Val Loss: 0.6517, Val Acc: 0.8579\n"
     ]
    },
    {
     "name": "stderr",
     "output_type": "stream",
     "text": [
      "Training: 100%|██████████| 436/436 [00:10<00:00, 41.97it/s]\n",
      "Evaluating: 100%|██████████| 124/124 [00:02<00:00, 46.76it/s]\n"
     ]
    },
    {
     "name": "stdout",
     "output_type": "stream",
     "text": [
      "\n",
      "Epoch 94/300\n",
      "Train Loss: 0.1791, Train Acc: 0.9328\n",
      "Val Loss: 0.6847, Val Acc: 0.8533\n"
     ]
    },
    {
     "name": "stderr",
     "output_type": "stream",
     "text": [
      "Training: 100%|██████████| 436/436 [00:10<00:00, 42.27it/s]\n",
      "Evaluating: 100%|██████████| 124/124 [00:02<00:00, 46.83it/s]\n"
     ]
    },
    {
     "name": "stdout",
     "output_type": "stream",
     "text": [
      "\n",
      "Epoch 95/300\n",
      "Train Loss: 0.1786, Train Acc: 0.9337\n",
      "Val Loss: 0.6749, Val Acc: 0.8551\n",
      "\n",
      "Validation Report:\n",
      "              precision    recall  f1-score   support\n",
      "\n",
      "      glioma       0.87      0.79      0.83      1208\n",
      "  meningioma       0.76      0.82      0.79       930\n",
      "        none       0.89      0.95      0.92       831\n",
      "   pituitary       0.90      0.89      0.89       992\n",
      "\n",
      "    accuracy                           0.86      3961\n",
      "   macro avg       0.86      0.86      0.86      3961\n",
      "weighted avg       0.86      0.86      0.85      3961\n",
      "\n"
     ]
    },
    {
     "name": "stderr",
     "output_type": "stream",
     "text": [
      "Training: 100%|██████████| 436/436 [00:10<00:00, 41.95it/s]\n",
      "Evaluating: 100%|██████████| 124/124 [00:02<00:00, 46.26it/s]\n"
     ]
    },
    {
     "name": "stdout",
     "output_type": "stream",
     "text": [
      "\n",
      "Epoch 96/300\n",
      "Train Loss: 0.1786, Train Acc: 0.9329\n",
      "Val Loss: 0.6515, Val Acc: 0.8553\n"
     ]
    },
    {
     "name": "stderr",
     "output_type": "stream",
     "text": [
      "Training: 100%|██████████| 436/436 [00:10<00:00, 42.50it/s]\n",
      "Evaluating: 100%|██████████| 124/124 [00:02<00:00, 46.64it/s]\n"
     ]
    },
    {
     "name": "stdout",
     "output_type": "stream",
     "text": [
      "\n",
      "Epoch 97/300\n",
      "Train Loss: 0.1755, Train Acc: 0.9342\n",
      "Val Loss: 0.6608, Val Acc: 0.8533\n"
     ]
    },
    {
     "name": "stderr",
     "output_type": "stream",
     "text": [
      "Training: 100%|██████████| 436/436 [00:10<00:00, 41.67it/s]\n",
      "Evaluating: 100%|██████████| 124/124 [00:02<00:00, 46.55it/s]\n"
     ]
    },
    {
     "name": "stdout",
     "output_type": "stream",
     "text": [
      "\n",
      "Epoch 98/300\n",
      "Train Loss: 0.1746, Train Acc: 0.9342\n",
      "Val Loss: 0.6723, Val Acc: 0.8531\n"
     ]
    },
    {
     "name": "stderr",
     "output_type": "stream",
     "text": [
      "Training: 100%|██████████| 436/436 [00:10<00:00, 41.95it/s]\n",
      "Evaluating: 100%|██████████| 124/124 [00:02<00:00, 46.75it/s]\n"
     ]
    },
    {
     "name": "stdout",
     "output_type": "stream",
     "text": [
      "\n",
      "Epoch 99/300\n",
      "Train Loss: 0.1763, Train Acc: 0.9339\n",
      "Val Loss: 0.6654, Val Acc: 0.8563\n"
     ]
    },
    {
     "name": "stderr",
     "output_type": "stream",
     "text": [
      "Training: 100%|██████████| 436/436 [00:10<00:00, 42.02it/s]\n",
      "Evaluating: 100%|██████████| 124/124 [00:02<00:00, 46.20it/s]\n"
     ]
    },
    {
     "name": "stdout",
     "output_type": "stream",
     "text": [
      "\n",
      "Epoch 100/300\n",
      "Train Loss: 0.1725, Train Acc: 0.9360\n",
      "Val Loss: 0.6668, Val Acc: 0.8563\n",
      "\n",
      "Validation Report:\n",
      "              precision    recall  f1-score   support\n",
      "\n",
      "      glioma       0.86      0.81      0.83      1208\n",
      "  meningioma       0.77      0.81      0.79       930\n",
      "        none       0.89      0.95      0.92       831\n",
      "   pituitary       0.92      0.88      0.90       992\n",
      "\n",
      "    accuracy                           0.86      3961\n",
      "   macro avg       0.86      0.86      0.86      3961\n",
      "weighted avg       0.86      0.86      0.86      3961\n",
      "\n"
     ]
    },
    {
     "name": "stderr",
     "output_type": "stream",
     "text": [
      "Training: 100%|██████████| 436/436 [00:10<00:00, 42.17it/s]\n",
      "Evaluating: 100%|██████████| 124/124 [00:02<00:00, 46.78it/s]\n"
     ]
    },
    {
     "name": "stdout",
     "output_type": "stream",
     "text": [
      "\n",
      "Epoch 101/300\n",
      "Train Loss: 0.1666, Train Acc: 0.9398\n",
      "Val Loss: 0.6615, Val Acc: 0.8576\n"
     ]
    },
    {
     "name": "stderr",
     "output_type": "stream",
     "text": [
      "Training: 100%|██████████| 436/436 [00:10<00:00, 41.66it/s]\n",
      "Evaluating: 100%|██████████| 124/124 [00:02<00:00, 46.82it/s]\n"
     ]
    },
    {
     "name": "stdout",
     "output_type": "stream",
     "text": [
      "\n",
      "Epoch 102/300\n",
      "Train Loss: 0.1676, Train Acc: 0.9385\n",
      "Val Loss: 0.6837, Val Acc: 0.8510\n"
     ]
    },
    {
     "name": "stderr",
     "output_type": "stream",
     "text": [
      "Training: 100%|██████████| 436/436 [00:10<00:00, 42.19it/s]\n",
      "Evaluating: 100%|██████████| 124/124 [00:02<00:00, 46.94it/s]\n"
     ]
    },
    {
     "name": "stdout",
     "output_type": "stream",
     "text": [
      "\n",
      "Epoch 103/300\n",
      "Train Loss: 0.1715, Train Acc: 0.9369\n",
      "Val Loss: 0.6708, Val Acc: 0.8574\n"
     ]
    },
    {
     "name": "stderr",
     "output_type": "stream",
     "text": [
      "Training: 100%|██████████| 436/436 [00:10<00:00, 41.71it/s]\n",
      "Evaluating: 100%|██████████| 124/124 [00:02<00:00, 46.42it/s]\n"
     ]
    },
    {
     "name": "stdout",
     "output_type": "stream",
     "text": [
      "\n",
      "Epoch 104/300\n",
      "Train Loss: 0.1680, Train Acc: 0.9368\n",
      "Val Loss: 0.6549, Val Acc: 0.8596\n"
     ]
    },
    {
     "name": "stderr",
     "output_type": "stream",
     "text": [
      "Training: 100%|██████████| 436/436 [00:10<00:00, 41.89it/s]\n",
      "Evaluating: 100%|██████████| 124/124 [00:02<00:00, 46.66it/s]\n"
     ]
    },
    {
     "name": "stdout",
     "output_type": "stream",
     "text": [
      "\n",
      "Epoch 105/300\n",
      "Train Loss: 0.1661, Train Acc: 0.9368\n",
      "Val Loss: 0.6688, Val Acc: 0.8531\n",
      "\n",
      "Validation Report:\n",
      "              precision    recall  f1-score   support\n",
      "\n",
      "      glioma       0.87      0.79      0.83      1208\n",
      "  meningioma       0.76      0.83      0.79       930\n",
      "        none       0.87      0.96      0.91       831\n",
      "   pituitary       0.92      0.86      0.89       992\n",
      "\n",
      "    accuracy                           0.85      3961\n",
      "   macro avg       0.85      0.86      0.86      3961\n",
      "weighted avg       0.86      0.85      0.85      3961\n",
      "\n"
     ]
    },
    {
     "name": "stderr",
     "output_type": "stream",
     "text": [
      "Training: 100%|██████████| 436/436 [00:10<00:00, 42.35it/s]\n",
      "Evaluating: 100%|██████████| 124/124 [00:02<00:00, 46.26it/s]\n"
     ]
    },
    {
     "name": "stdout",
     "output_type": "stream",
     "text": [
      "\n",
      "Epoch 106/300\n",
      "Train Loss: 0.1689, Train Acc: 0.9362\n",
      "Val Loss: 0.6711, Val Acc: 0.8574\n"
     ]
    },
    {
     "name": "stderr",
     "output_type": "stream",
     "text": [
      "Training: 100%|██████████| 436/436 [00:10<00:00, 41.86it/s]\n",
      "Evaluating: 100%|██████████| 124/124 [00:02<00:00, 47.21it/s]\n"
     ]
    },
    {
     "name": "stdout",
     "output_type": "stream",
     "text": [
      "\n",
      "Epoch 107/300\n",
      "Train Loss: 0.1655, Train Acc: 0.9383\n",
      "Val Loss: 0.6765, Val Acc: 0.8579\n"
     ]
    },
    {
     "name": "stderr",
     "output_type": "stream",
     "text": [
      "Training: 100%|██████████| 436/436 [00:10<00:00, 41.96it/s]\n",
      "Evaluating: 100%|██████████| 124/124 [00:02<00:00, 46.20it/s]\n"
     ]
    },
    {
     "name": "stdout",
     "output_type": "stream",
     "text": [
      "\n",
      "Epoch 108/300\n",
      "Train Loss: 0.1697, Train Acc: 0.9377\n",
      "Val Loss: 0.6760, Val Acc: 0.8541\n"
     ]
    },
    {
     "name": "stderr",
     "output_type": "stream",
     "text": [
      "Training: 100%|██████████| 436/436 [00:10<00:00, 41.92it/s]\n",
      "Evaluating: 100%|██████████| 124/124 [00:02<00:00, 46.58it/s]\n"
     ]
    },
    {
     "name": "stdout",
     "output_type": "stream",
     "text": [
      "\n",
      "Epoch 109/300\n",
      "Train Loss: 0.1665, Train Acc: 0.9388\n",
      "Val Loss: 0.6798, Val Acc: 0.8508\n"
     ]
    },
    {
     "name": "stderr",
     "output_type": "stream",
     "text": [
      "Training: 100%|██████████| 436/436 [00:10<00:00, 42.45it/s]\n",
      "Evaluating: 100%|██████████| 124/124 [00:02<00:00, 46.25it/s]\n"
     ]
    },
    {
     "name": "stdout",
     "output_type": "stream",
     "text": [
      "\n",
      "Epoch 110/300\n",
      "Train Loss: 0.1676, Train Acc: 0.9395\n",
      "Val Loss: 0.6609, Val Acc: 0.8584\n",
      "\n",
      "Validation Report:\n",
      "              precision    recall  f1-score   support\n",
      "\n",
      "      glioma       0.86      0.80      0.83      1208\n",
      "  meningioma       0.78      0.81      0.80       930\n",
      "        none       0.89      0.95      0.92       831\n",
      "   pituitary       0.90      0.90      0.90       992\n",
      "\n",
      "    accuracy                           0.86      3961\n",
      "   macro avg       0.86      0.86      0.86      3961\n",
      "weighted avg       0.86      0.86      0.86      3961\n",
      "\n"
     ]
    },
    {
     "name": "stderr",
     "output_type": "stream",
     "text": [
      "Training: 100%|██████████| 436/436 [00:10<00:00, 41.92it/s]\n",
      "Evaluating: 100%|██████████| 124/124 [00:02<00:00, 46.83it/s]\n"
     ]
    },
    {
     "name": "stdout",
     "output_type": "stream",
     "text": [
      "\n",
      "Epoch 111/300\n",
      "Train Loss: 0.1582, Train Acc: 0.9434\n",
      "Val Loss: 0.6656, Val Acc: 0.8566\n"
     ]
    },
    {
     "name": "stderr",
     "output_type": "stream",
     "text": [
      "Training: 100%|██████████| 436/436 [00:10<00:00, 42.33it/s]\n",
      "Evaluating: 100%|██████████| 124/124 [00:02<00:00, 46.57it/s]\n"
     ]
    },
    {
     "name": "stdout",
     "output_type": "stream",
     "text": [
      "\n",
      "Epoch 112/300\n",
      "Train Loss: 0.1621, Train Acc: 0.9418\n",
      "Val Loss: 0.6706, Val Acc: 0.8571\n"
     ]
    },
    {
     "name": "stderr",
     "output_type": "stream",
     "text": [
      "Training: 100%|██████████| 436/436 [00:10<00:00, 42.54it/s]\n",
      "Evaluating: 100%|██████████| 124/124 [00:02<00:00, 46.79it/s]\n"
     ]
    },
    {
     "name": "stdout",
     "output_type": "stream",
     "text": [
      "\n",
      "Epoch 113/300\n",
      "Train Loss: 0.1630, Train Acc: 0.9388\n",
      "Val Loss: 0.6702, Val Acc: 0.8569\n"
     ]
    },
    {
     "name": "stderr",
     "output_type": "stream",
     "text": [
      "Training: 100%|██████████| 436/436 [00:10<00:00, 42.59it/s]\n",
      "Evaluating: 100%|██████████| 124/124 [00:02<00:00, 46.46it/s]\n"
     ]
    },
    {
     "name": "stdout",
     "output_type": "stream",
     "text": [
      "\n",
      "Epoch 114/300\n",
      "Train Loss: 0.1618, Train Acc: 0.9407\n",
      "Val Loss: 0.6709, Val Acc: 0.8569\n"
     ]
    },
    {
     "name": "stderr",
     "output_type": "stream",
     "text": [
      "Training: 100%|██████████| 436/436 [00:10<00:00, 42.53it/s]\n",
      "Evaluating: 100%|██████████| 124/124 [00:02<00:00, 46.62it/s]\n"
     ]
    },
    {
     "name": "stdout",
     "output_type": "stream",
     "text": [
      "\n",
      "Epoch 115/300\n",
      "Train Loss: 0.1604, Train Acc: 0.9411\n",
      "Val Loss: 0.6708, Val Acc: 0.8574\n",
      "\n",
      "Validation Report:\n",
      "              precision    recall  f1-score   support\n",
      "\n",
      "      glioma       0.86      0.80      0.83      1208\n",
      "  meningioma       0.77      0.82      0.79       930\n",
      "        none       0.88      0.95      0.92       831\n",
      "   pituitary       0.91      0.88      0.90       992\n",
      "\n",
      "    accuracy                           0.86      3961\n",
      "   macro avg       0.86      0.86      0.86      3961\n",
      "weighted avg       0.86      0.86      0.86      3961\n",
      "\n"
     ]
    },
    {
     "name": "stderr",
     "output_type": "stream",
     "text": [
      "Training: 100%|██████████| 436/436 [00:10<00:00, 41.90it/s]\n",
      "Evaluating: 100%|██████████| 124/124 [00:02<00:00, 46.70it/s]\n"
     ]
    },
    {
     "name": "stdout",
     "output_type": "stream",
     "text": [
      "\n",
      "Epoch 116/300\n",
      "Train Loss: 0.1613, Train Acc: 0.9406\n",
      "Val Loss: 0.6820, Val Acc: 0.8574\n"
     ]
    },
    {
     "name": "stderr",
     "output_type": "stream",
     "text": [
      "Training: 100%|██████████| 436/436 [00:10<00:00, 41.92it/s]\n",
      "Evaluating: 100%|██████████| 124/124 [00:02<00:00, 46.88it/s]\n"
     ]
    },
    {
     "name": "stdout",
     "output_type": "stream",
     "text": [
      "\n",
      "Epoch 117/300\n",
      "Train Loss: 0.1577, Train Acc: 0.9425\n",
      "Val Loss: 0.6806, Val Acc: 0.8581\n"
     ]
    },
    {
     "name": "stderr",
     "output_type": "stream",
     "text": [
      "Training: 100%|██████████| 436/436 [00:10<00:00, 41.82it/s]\n",
      "Evaluating: 100%|██████████| 124/124 [00:02<00:00, 46.64it/s]\n"
     ]
    },
    {
     "name": "stdout",
     "output_type": "stream",
     "text": [
      "\n",
      "Epoch 118/300\n",
      "Train Loss: 0.1600, Train Acc: 0.9421\n",
      "Val Loss: 0.6792, Val Acc: 0.8584\n"
     ]
    },
    {
     "name": "stderr",
     "output_type": "stream",
     "text": [
      "Training: 100%|██████████| 436/436 [00:10<00:00, 42.03it/s]\n",
      "Evaluating: 100%|██████████| 124/124 [00:02<00:00, 46.98it/s]\n"
     ]
    },
    {
     "name": "stdout",
     "output_type": "stream",
     "text": [
      "\n",
      "Epoch 119/300\n",
      "Train Loss: 0.1606, Train Acc: 0.9393\n",
      "Val Loss: 0.6763, Val Acc: 0.8581\n"
     ]
    },
    {
     "name": "stderr",
     "output_type": "stream",
     "text": [
      "Training: 100%|██████████| 436/436 [00:10<00:00, 41.34it/s]\n",
      "Evaluating: 100%|██████████| 124/124 [00:02<00:00, 46.82it/s]\n"
     ]
    },
    {
     "name": "stdout",
     "output_type": "stream",
     "text": [
      "\n",
      "Epoch 120/300\n",
      "Train Loss: 0.1592, Train Acc: 0.9411\n",
      "Val Loss: 0.6758, Val Acc: 0.8596\n",
      "\n",
      "Validation Report:\n",
      "              precision    recall  f1-score   support\n",
      "\n",
      "      glioma       0.86      0.80      0.83      1208\n",
      "  meningioma       0.78      0.82      0.80       930\n",
      "        none       0.89      0.95      0.92       831\n",
      "   pituitary       0.91      0.89      0.90       992\n",
      "\n",
      "    accuracy                           0.86      3961\n",
      "   macro avg       0.86      0.87      0.86      3961\n",
      "weighted avg       0.86      0.86      0.86      3961\n",
      "\n"
     ]
    },
    {
     "name": "stderr",
     "output_type": "stream",
     "text": [
      "Training: 100%|██████████| 436/436 [00:10<00:00, 41.81it/s]\n",
      "Evaluating: 100%|██████████| 124/124 [00:02<00:00, 46.88it/s]\n"
     ]
    },
    {
     "name": "stdout",
     "output_type": "stream",
     "text": [
      "\n",
      "Epoch 121/300\n",
      "Train Loss: 0.1584, Train Acc: 0.9401\n",
      "Val Loss: 0.6752, Val Acc: 0.8591\n"
     ]
    },
    {
     "name": "stderr",
     "output_type": "stream",
     "text": [
      "Training: 100%|██████████| 436/436 [00:10<00:00, 41.70it/s]\n",
      "Evaluating: 100%|██████████| 124/124 [00:02<00:00, 46.76it/s]\n"
     ]
    },
    {
     "name": "stdout",
     "output_type": "stream",
     "text": [
      "\n",
      "Epoch 122/300\n",
      "Train Loss: 0.1572, Train Acc: 0.9435\n",
      "Val Loss: 0.6770, Val Acc: 0.8596\n"
     ]
    },
    {
     "name": "stderr",
     "output_type": "stream",
     "text": [
      "Training: 100%|██████████| 436/436 [00:10<00:00, 41.66it/s]\n",
      "Evaluating: 100%|██████████| 124/124 [00:02<00:00, 46.45it/s]\n"
     ]
    },
    {
     "name": "stdout",
     "output_type": "stream",
     "text": [
      "\n",
      "Epoch 123/300\n",
      "Train Loss: 0.1562, Train Acc: 0.9439\n",
      "Val Loss: 0.6747, Val Acc: 0.8596\n"
     ]
    },
    {
     "name": "stderr",
     "output_type": "stream",
     "text": [
      "Training: 100%|██████████| 436/436 [00:10<00:00, 41.89it/s]\n",
      "Evaluating: 100%|██████████| 124/124 [00:02<00:00, 46.70it/s]\n"
     ]
    },
    {
     "name": "stdout",
     "output_type": "stream",
     "text": [
      "\n",
      "Epoch 124/300\n",
      "Train Loss: 0.1583, Train Acc: 0.9421\n",
      "Val Loss: 0.6791, Val Acc: 0.8584\n"
     ]
    },
    {
     "name": "stderr",
     "output_type": "stream",
     "text": [
      "Training: 100%|██████████| 436/436 [00:10<00:00, 42.05it/s]\n",
      "Evaluating: 100%|██████████| 124/124 [00:02<00:00, 46.23it/s]\n"
     ]
    },
    {
     "name": "stdout",
     "output_type": "stream",
     "text": [
      "\n",
      "Epoch 125/300\n",
      "Train Loss: 0.1555, Train Acc: 0.9421\n",
      "Val Loss: 0.6760, Val Acc: 0.8589\n",
      "\n",
      "Validation Report:\n",
      "              precision    recall  f1-score   support\n",
      "\n",
      "      glioma       0.86      0.81      0.83      1208\n",
      "  meningioma       0.78      0.81      0.79       930\n",
      "        none       0.89      0.95      0.92       831\n",
      "   pituitary       0.92      0.89      0.90       992\n",
      "\n",
      "    accuracy                           0.86      3961\n",
      "   macro avg       0.86      0.86      0.86      3961\n",
      "weighted avg       0.86      0.86      0.86      3961\n",
      "\n"
     ]
    },
    {
     "name": "stderr",
     "output_type": "stream",
     "text": [
      "Training: 100%|██████████| 436/436 [00:10<00:00, 41.98it/s]\n",
      "Evaluating: 100%|██████████| 124/124 [00:02<00:00, 46.71it/s]\n"
     ]
    },
    {
     "name": "stdout",
     "output_type": "stream",
     "text": [
      "\n",
      "Epoch 126/300\n",
      "Train Loss: 0.1562, Train Acc: 0.9431\n",
      "Val Loss: 0.6791, Val Acc: 0.8574\n"
     ]
    },
    {
     "name": "stderr",
     "output_type": "stream",
     "text": [
      "Training: 100%|██████████| 436/436 [00:10<00:00, 41.95it/s]\n",
      "Evaluating: 100%|██████████| 124/124 [00:02<00:00, 47.32it/s]\n"
     ]
    },
    {
     "name": "stdout",
     "output_type": "stream",
     "text": [
      "\n",
      "Epoch 127/300\n",
      "Train Loss: 0.1561, Train Acc: 0.9428\n",
      "Val Loss: 0.6785, Val Acc: 0.8589\n"
     ]
    },
    {
     "name": "stderr",
     "output_type": "stream",
     "text": [
      "Training: 100%|██████████| 436/436 [00:10<00:00, 42.15it/s]\n",
      "Evaluating: 100%|██████████| 124/124 [00:02<00:00, 46.48it/s]\n"
     ]
    },
    {
     "name": "stdout",
     "output_type": "stream",
     "text": [
      "\n",
      "Epoch 128/300\n",
      "Train Loss: 0.1601, Train Acc: 0.9413\n",
      "Val Loss: 0.6771, Val Acc: 0.8594\n"
     ]
    },
    {
     "name": "stderr",
     "output_type": "stream",
     "text": [
      "Training: 100%|██████████| 436/436 [00:10<00:00, 41.50it/s]\n",
      "Evaluating: 100%|██████████| 124/124 [00:02<00:00, 46.73it/s]\n"
     ]
    },
    {
     "name": "stdout",
     "output_type": "stream",
     "text": [
      "\n",
      "Epoch 129/300\n",
      "Train Loss: 0.1569, Train Acc: 0.9428\n",
      "Val Loss: 0.6755, Val Acc: 0.8594\n"
     ]
    },
    {
     "name": "stderr",
     "output_type": "stream",
     "text": [
      "Training: 100%|██████████| 436/436 [00:10<00:00, 42.01it/s]\n",
      "Evaluating: 100%|██████████| 124/124 [00:02<00:00, 46.81it/s]\n"
     ]
    },
    {
     "name": "stdout",
     "output_type": "stream",
     "text": [
      "\n",
      "Epoch 130/300\n",
      "Train Loss: 0.1604, Train Acc: 0.9404\n",
      "Val Loss: 0.6750, Val Acc: 0.8584\n",
      "\n",
      "Validation Report:\n",
      "              precision    recall  f1-score   support\n",
      "\n",
      "      glioma       0.86      0.80      0.83      1208\n",
      "  meningioma       0.77      0.82      0.79       930\n",
      "        none       0.89      0.95      0.92       831\n",
      "   pituitary       0.91      0.89      0.90       992\n",
      "\n",
      "    accuracy                           0.86      3961\n",
      "   macro avg       0.86      0.86      0.86      3961\n",
      "weighted avg       0.86      0.86      0.86      3961\n",
      "\n"
     ]
    },
    {
     "name": "stderr",
     "output_type": "stream",
     "text": [
      "Training: 100%|██████████| 436/436 [00:10<00:00, 42.21it/s]\n",
      "Evaluating: 100%|██████████| 124/124 [00:02<00:00, 46.89it/s]\n"
     ]
    },
    {
     "name": "stdout",
     "output_type": "stream",
     "text": [
      "\n",
      "Epoch 131/300\n",
      "Train Loss: 0.1594, Train Acc: 0.9404\n",
      "Val Loss: 0.6749, Val Acc: 0.8591\n"
     ]
    },
    {
     "name": "stderr",
     "output_type": "stream",
     "text": [
      "Training: 100%|██████████| 436/436 [00:10<00:00, 41.55it/s]\n",
      "Evaluating: 100%|██████████| 124/124 [00:02<00:00, 46.62it/s]\n"
     ]
    },
    {
     "name": "stdout",
     "output_type": "stream",
     "text": [
      "\n",
      "Epoch 132/300\n",
      "Train Loss: 0.1595, Train Acc: 0.9416\n",
      "Val Loss: 0.6748, Val Acc: 0.8594\n"
     ]
    },
    {
     "name": "stderr",
     "output_type": "stream",
     "text": [
      "Training: 100%|██████████| 436/436 [00:10<00:00, 41.66it/s]\n",
      "Evaluating: 100%|██████████| 124/124 [00:02<00:00, 46.95it/s]\n"
     ]
    },
    {
     "name": "stdout",
     "output_type": "stream",
     "text": [
      "\n",
      "Epoch 133/300\n",
      "Train Loss: 0.1590, Train Acc: 0.9413\n",
      "Val Loss: 0.6747, Val Acc: 0.8599\n"
     ]
    },
    {
     "name": "stderr",
     "output_type": "stream",
     "text": [
      "Training: 100%|██████████| 436/436 [00:10<00:00, 42.09it/s]\n",
      "Evaluating: 100%|██████████| 124/124 [00:02<00:00, 46.85it/s]\n"
     ]
    },
    {
     "name": "stdout",
     "output_type": "stream",
     "text": [
      "\n",
      "Epoch 134/300\n",
      "Train Loss: 0.1603, Train Acc: 0.9410\n",
      "Val Loss: 0.6750, Val Acc: 0.8599\n"
     ]
    },
    {
     "name": "stderr",
     "output_type": "stream",
     "text": [
      "Training: 100%|██████████| 436/436 [00:10<00:00, 41.86it/s]\n",
      "Evaluating: 100%|██████████| 124/124 [00:02<00:00, 47.24it/s]\n"
     ]
    },
    {
     "name": "stdout",
     "output_type": "stream",
     "text": [
      "\n",
      "Epoch 135/300\n",
      "Train Loss: 0.1581, Train Acc: 0.9439\n",
      "Val Loss: 0.6754, Val Acc: 0.8599\n",
      "\n",
      "Validation Report:\n",
      "              precision    recall  f1-score   support\n",
      "\n",
      "      glioma       0.86      0.80      0.83      1208\n",
      "  meningioma       0.78      0.82      0.80       930\n",
      "        none       0.89      0.95      0.92       831\n",
      "   pituitary       0.92      0.89      0.90       992\n",
      "\n",
      "    accuracy                           0.86      3961\n",
      "   macro avg       0.86      0.87      0.86      3961\n",
      "weighted avg       0.86      0.86      0.86      3961\n",
      "\n"
     ]
    },
    {
     "name": "stderr",
     "output_type": "stream",
     "text": [
      "Training: 100%|██████████| 436/436 [00:10<00:00, 41.73it/s]\n",
      "Evaluating: 100%|██████████| 124/124 [00:02<00:00, 46.44it/s]\n"
     ]
    },
    {
     "name": "stdout",
     "output_type": "stream",
     "text": [
      "\n",
      "Epoch 136/300\n",
      "Train Loss: 0.1560, Train Acc: 0.9395\n",
      "Val Loss: 0.6757, Val Acc: 0.8584\n"
     ]
    },
    {
     "name": "stderr",
     "output_type": "stream",
     "text": [
      "Training: 100%|██████████| 436/436 [00:10<00:00, 42.20it/s]\n",
      "Evaluating: 100%|██████████| 124/124 [00:02<00:00, 46.56it/s]\n"
     ]
    },
    {
     "name": "stdout",
     "output_type": "stream",
     "text": [
      "\n",
      "Epoch 137/300\n",
      "Train Loss: 0.1578, Train Acc: 0.9419\n",
      "Val Loss: 0.6755, Val Acc: 0.8596\n"
     ]
    },
    {
     "name": "stderr",
     "output_type": "stream",
     "text": [
      "Training: 100%|██████████| 436/436 [00:10<00:00, 42.22it/s]\n",
      "Evaluating: 100%|██████████| 124/124 [00:02<00:00, 46.82it/s]\n"
     ]
    },
    {
     "name": "stdout",
     "output_type": "stream",
     "text": [
      "\n",
      "Epoch 138/300\n",
      "Train Loss: 0.1610, Train Acc: 0.9422\n",
      "Val Loss: 0.6749, Val Acc: 0.8599\n"
     ]
    },
    {
     "name": "stderr",
     "output_type": "stream",
     "text": [
      "Training: 100%|██████████| 436/436 [00:10<00:00, 41.48it/s]\n",
      "Evaluating: 100%|██████████| 124/124 [00:02<00:00, 46.47it/s]\n"
     ]
    },
    {
     "name": "stdout",
     "output_type": "stream",
     "text": [
      "\n",
      "Epoch 139/300\n",
      "Train Loss: 0.1546, Train Acc: 0.9428\n",
      "Val Loss: 0.6761, Val Acc: 0.8596\n"
     ]
    },
    {
     "name": "stderr",
     "output_type": "stream",
     "text": [
      "Training: 100%|██████████| 436/436 [00:10<00:00, 42.23it/s]\n",
      "Evaluating: 100%|██████████| 124/124 [00:02<00:00, 46.71it/s]\n"
     ]
    },
    {
     "name": "stdout",
     "output_type": "stream",
     "text": [
      "\n",
      "Epoch 140/300\n",
      "Train Loss: 0.1584, Train Acc: 0.9434\n",
      "Val Loss: 0.6762, Val Acc: 0.8594\n",
      "\n",
      "Validation Report:\n",
      "              precision    recall  f1-score   support\n",
      "\n",
      "      glioma       0.86      0.80      0.83      1208\n",
      "  meningioma       0.77      0.82      0.80       930\n",
      "        none       0.89      0.95      0.92       831\n",
      "   pituitary       0.91      0.89      0.90       992\n",
      "\n",
      "    accuracy                           0.86      3961\n",
      "   macro avg       0.86      0.87      0.86      3961\n",
      "weighted avg       0.86      0.86      0.86      3961\n",
      "\n"
     ]
    },
    {
     "name": "stderr",
     "output_type": "stream",
     "text": [
      "Training: 100%|██████████| 436/436 [00:10<00:00, 41.45it/s]\n",
      "Evaluating: 100%|██████████| 124/124 [00:02<00:00, 46.80it/s]\n"
     ]
    },
    {
     "name": "stdout",
     "output_type": "stream",
     "text": [
      "\n",
      "Epoch 141/300\n",
      "Train Loss: 0.1522, Train Acc: 0.9429\n",
      "Val Loss: 0.6761, Val Acc: 0.8594\n"
     ]
    },
    {
     "name": "stderr",
     "output_type": "stream",
     "text": [
      "Training: 100%|██████████| 436/436 [00:10<00:00, 41.62it/s]\n",
      "Evaluating: 100%|██████████| 124/124 [00:02<00:00, 47.04it/s]\n"
     ]
    },
    {
     "name": "stdout",
     "output_type": "stream",
     "text": [
      "\n",
      "Epoch 142/300\n",
      "Train Loss: 0.1592, Train Acc: 0.9441\n",
      "Val Loss: 0.6764, Val Acc: 0.8589\n"
     ]
    },
    {
     "name": "stderr",
     "output_type": "stream",
     "text": [
      "Training: 100%|██████████| 436/436 [00:10<00:00, 41.41it/s]\n",
      "Evaluating: 100%|██████████| 124/124 [00:02<00:00, 46.58it/s]\n"
     ]
    },
    {
     "name": "stdout",
     "output_type": "stream",
     "text": [
      "\n",
      "Epoch 143/300\n",
      "Train Loss: 0.1610, Train Acc: 0.9384\n",
      "Val Loss: 0.6765, Val Acc: 0.8596\n"
     ]
    },
    {
     "name": "stderr",
     "output_type": "stream",
     "text": [
      "Training: 100%|██████████| 436/436 [00:10<00:00, 41.74it/s]\n",
      "Evaluating: 100%|██████████| 124/124 [00:02<00:00, 46.34it/s]\n"
     ]
    },
    {
     "name": "stdout",
     "output_type": "stream",
     "text": [
      "\n",
      "Epoch 144/300\n",
      "Train Loss: 0.1551, Train Acc: 0.9434\n",
      "Val Loss: 0.6767, Val Acc: 0.8601\n"
     ]
    },
    {
     "name": "stderr",
     "output_type": "stream",
     "text": [
      "Training: 100%|██████████| 436/436 [00:10<00:00, 42.30it/s]\n",
      "Evaluating: 100%|██████████| 124/124 [00:02<00:00, 47.00it/s]\n"
     ]
    },
    {
     "name": "stdout",
     "output_type": "stream",
     "text": [
      "\n",
      "Epoch 145/300\n",
      "Train Loss: 0.1530, Train Acc: 0.9424\n",
      "Val Loss: 0.6771, Val Acc: 0.8596\n",
      "\n",
      "Validation Report:\n",
      "              precision    recall  f1-score   support\n",
      "\n",
      "      glioma       0.87      0.80      0.83      1208\n",
      "  meningioma       0.77      0.82      0.80       930\n",
      "        none       0.89      0.95      0.92       831\n",
      "   pituitary       0.92      0.89      0.90       992\n",
      "\n",
      "    accuracy                           0.86      3961\n",
      "   macro avg       0.86      0.87      0.86      3961\n",
      "weighted avg       0.86      0.86      0.86      3961\n",
      "\n"
     ]
    },
    {
     "name": "stderr",
     "output_type": "stream",
     "text": [
      "Training: 100%|██████████| 436/436 [00:10<00:00, 42.06it/s]\n",
      "Evaluating: 100%|██████████| 124/124 [00:02<00:00, 46.28it/s]\n"
     ]
    },
    {
     "name": "stdout",
     "output_type": "stream",
     "text": [
      "\n",
      "Epoch 146/300\n",
      "Train Loss: 0.1581, Train Acc: 0.9414\n",
      "Val Loss: 0.6775, Val Acc: 0.8596\n"
     ]
    },
    {
     "name": "stderr",
     "output_type": "stream",
     "text": [
      "Training: 100%|██████████| 436/436 [00:10<00:00, 41.99it/s]\n",
      "Evaluating: 100%|██████████| 124/124 [00:02<00:00, 46.89it/s]\n"
     ]
    },
    {
     "name": "stdout",
     "output_type": "stream",
     "text": [
      "\n",
      "Epoch 147/300\n",
      "Train Loss: 0.1534, Train Acc: 0.9432\n",
      "Val Loss: 0.6781, Val Acc: 0.8591\n"
     ]
    },
    {
     "name": "stderr",
     "output_type": "stream",
     "text": [
      "Training: 100%|██████████| 436/436 [00:10<00:00, 42.01it/s]\n",
      "Evaluating: 100%|██████████| 124/124 [00:02<00:00, 46.74it/s]\n"
     ]
    },
    {
     "name": "stdout",
     "output_type": "stream",
     "text": [
      "\n",
      "Epoch 148/300\n",
      "Train Loss: 0.1561, Train Acc: 0.9435\n",
      "Val Loss: 0.6779, Val Acc: 0.8591\n"
     ]
    },
    {
     "name": "stderr",
     "output_type": "stream",
     "text": [
      "Training: 100%|██████████| 436/436 [00:10<00:00, 41.83it/s]\n",
      "Evaluating: 100%|██████████| 124/124 [00:02<00:00, 46.60it/s]\n"
     ]
    },
    {
     "name": "stdout",
     "output_type": "stream",
     "text": [
      "\n",
      "Epoch 149/300\n",
      "Train Loss: 0.1576, Train Acc: 0.9414\n",
      "Val Loss: 0.6785, Val Acc: 0.8586\n"
     ]
    },
    {
     "name": "stderr",
     "output_type": "stream",
     "text": [
      "Training: 100%|██████████| 436/436 [00:10<00:00, 42.48it/s]\n",
      "Evaluating: 100%|██████████| 124/124 [00:02<00:00, 46.85it/s]\n"
     ]
    },
    {
     "name": "stdout",
     "output_type": "stream",
     "text": [
      "\n",
      "Epoch 150/300\n",
      "Train Loss: 0.1561, Train Acc: 0.9433\n",
      "Val Loss: 0.6785, Val Acc: 0.8591\n",
      "\n",
      "Validation Report:\n",
      "              precision    recall  f1-score   support\n",
      "\n",
      "      glioma       0.86      0.80      0.83      1208\n",
      "  meningioma       0.77      0.82      0.79       930\n",
      "        none       0.89      0.95      0.92       831\n",
      "   pituitary       0.91      0.89      0.90       992\n",
      "\n",
      "    accuracy                           0.86      3961\n",
      "   macro avg       0.86      0.87      0.86      3961\n",
      "weighted avg       0.86      0.86      0.86      3961\n",
      "\n"
     ]
    },
    {
     "name": "stderr",
     "output_type": "stream",
     "text": [
      "Training: 100%|██████████| 436/436 [00:10<00:00, 41.85it/s]\n",
      "Evaluating: 100%|██████████| 124/124 [00:02<00:00, 46.67it/s]\n"
     ]
    },
    {
     "name": "stdout",
     "output_type": "stream",
     "text": [
      "\n",
      "Epoch 151/300\n",
      "Train Loss: 0.1577, Train Acc: 0.9413\n",
      "Val Loss: 0.6791, Val Acc: 0.8589\n"
     ]
    },
    {
     "name": "stderr",
     "output_type": "stream",
     "text": [
      "Training: 100%|██████████| 436/436 [00:10<00:00, 42.05it/s]\n",
      "Evaluating: 100%|██████████| 124/124 [00:02<00:00, 47.02it/s]\n"
     ]
    },
    {
     "name": "stdout",
     "output_type": "stream",
     "text": [
      "\n",
      "Epoch 152/300\n",
      "Train Loss: 0.1576, Train Acc: 0.9431\n",
      "Val Loss: 0.6788, Val Acc: 0.8589\n"
     ]
    },
    {
     "name": "stderr",
     "output_type": "stream",
     "text": [
      "Training: 100%|██████████| 436/436 [00:10<00:00, 42.08it/s]\n",
      "Evaluating: 100%|██████████| 124/124 [00:02<00:00, 46.69it/s]\n"
     ]
    },
    {
     "name": "stdout",
     "output_type": "stream",
     "text": [
      "\n",
      "Epoch 153/300\n",
      "Train Loss: 0.1561, Train Acc: 0.9426\n",
      "Val Loss: 0.6786, Val Acc: 0.8596\n"
     ]
    },
    {
     "name": "stderr",
     "output_type": "stream",
     "text": [
      "Training: 100%|██████████| 436/436 [00:10<00:00, 41.66it/s]\n",
      "Evaluating: 100%|██████████| 124/124 [00:02<00:00, 47.29it/s]\n"
     ]
    },
    {
     "name": "stdout",
     "output_type": "stream",
     "text": [
      "\n",
      "Epoch 154/300\n",
      "Train Loss: 0.1560, Train Acc: 0.9433\n",
      "Val Loss: 0.6784, Val Acc: 0.8594\n"
     ]
    },
    {
     "name": "stderr",
     "output_type": "stream",
     "text": [
      "Training: 100%|██████████| 436/436 [00:10<00:00, 41.74it/s]\n",
      "Evaluating: 100%|██████████| 124/124 [00:02<00:00, 46.84it/s]\n"
     ]
    },
    {
     "name": "stdout",
     "output_type": "stream",
     "text": [
      "\n",
      "Epoch 155/300\n",
      "Train Loss: 0.1547, Train Acc: 0.9416\n",
      "Val Loss: 0.6781, Val Acc: 0.8596\n",
      "\n",
      "Validation Report:\n",
      "              precision    recall  f1-score   support\n",
      "\n",
      "      glioma       0.86      0.80      0.83      1208\n",
      "  meningioma       0.77      0.82      0.80       930\n",
      "        none       0.89      0.95      0.92       831\n",
      "   pituitary       0.92      0.89      0.90       992\n",
      "\n",
      "    accuracy                           0.86      3961\n",
      "   macro avg       0.86      0.87      0.86      3961\n",
      "weighted avg       0.86      0.86      0.86      3961\n",
      "\n"
     ]
    },
    {
     "name": "stderr",
     "output_type": "stream",
     "text": [
      "Training: 100%|██████████| 436/436 [00:10<00:00, 42.44it/s]\n",
      "Evaluating: 100%|██████████| 124/124 [00:02<00:00, 46.68it/s]\n"
     ]
    },
    {
     "name": "stdout",
     "output_type": "stream",
     "text": [
      "\n",
      "Epoch 156/300\n",
      "Train Loss: 0.1572, Train Acc: 0.9434\n",
      "Val Loss: 0.6783, Val Acc: 0.8589\n"
     ]
    },
    {
     "name": "stderr",
     "output_type": "stream",
     "text": [
      "Training: 100%|██████████| 436/436 [00:10<00:00, 42.60it/s]\n",
      "Evaluating: 100%|██████████| 124/124 [00:02<00:00, 46.25it/s]\n"
     ]
    },
    {
     "name": "stdout",
     "output_type": "stream",
     "text": [
      "\n",
      "Epoch 157/300\n",
      "Train Loss: 0.1594, Train Acc: 0.9421\n",
      "Val Loss: 0.6785, Val Acc: 0.8594\n"
     ]
    },
    {
     "name": "stderr",
     "output_type": "stream",
     "text": [
      "Training: 100%|██████████| 436/436 [00:10<00:00, 42.53it/s]\n",
      "Evaluating: 100%|██████████| 124/124 [00:02<00:00, 46.72it/s]\n"
     ]
    },
    {
     "name": "stdout",
     "output_type": "stream",
     "text": [
      "\n",
      "Epoch 158/300\n",
      "Train Loss: 0.1574, Train Acc: 0.9418\n",
      "Val Loss: 0.6786, Val Acc: 0.8586\n"
     ]
    },
    {
     "name": "stderr",
     "output_type": "stream",
     "text": [
      "Training: 100%|██████████| 436/436 [00:10<00:00, 41.88it/s]\n",
      "Evaluating: 100%|██████████| 124/124 [00:02<00:00, 47.07it/s]\n"
     ]
    },
    {
     "name": "stdout",
     "output_type": "stream",
     "text": [
      "\n",
      "Epoch 159/300\n",
      "Train Loss: 0.1575, Train Acc: 0.9402\n",
      "Val Loss: 0.6785, Val Acc: 0.8589\n"
     ]
    },
    {
     "name": "stderr",
     "output_type": "stream",
     "text": [
      "Training: 100%|██████████| 436/436 [00:10<00:00, 41.76it/s]\n",
      "Evaluating: 100%|██████████| 124/124 [00:02<00:00, 46.93it/s]\n"
     ]
    },
    {
     "name": "stdout",
     "output_type": "stream",
     "text": [
      "\n",
      "Epoch 160/300\n",
      "Train Loss: 0.1578, Train Acc: 0.9410\n",
      "Val Loss: 0.6782, Val Acc: 0.8596\n",
      "\n",
      "Validation Report:\n",
      "              precision    recall  f1-score   support\n",
      "\n",
      "      glioma       0.86      0.80      0.83      1208\n",
      "  meningioma       0.78      0.82      0.80       930\n",
      "        none       0.89      0.95      0.92       831\n",
      "   pituitary       0.92      0.89      0.90       992\n",
      "\n",
      "    accuracy                           0.86      3961\n",
      "   macro avg       0.86      0.87      0.86      3961\n",
      "weighted avg       0.86      0.86      0.86      3961\n",
      "\n"
     ]
    },
    {
     "name": "stderr",
     "output_type": "stream",
     "text": [
      "Training: 100%|██████████| 436/436 [00:10<00:00, 41.79it/s]\n",
      "Evaluating: 100%|██████████| 124/124 [00:02<00:00, 47.03it/s]\n"
     ]
    },
    {
     "name": "stdout",
     "output_type": "stream",
     "text": [
      "\n",
      "Epoch 161/300\n",
      "Train Loss: 0.1534, Train Acc: 0.9449\n",
      "Val Loss: 0.6780, Val Acc: 0.8599\n"
     ]
    },
    {
     "name": "stderr",
     "output_type": "stream",
     "text": [
      "Training: 100%|██████████| 436/436 [00:10<00:00, 41.84it/s]\n",
      "Evaluating: 100%|██████████| 124/124 [00:02<00:00, 46.92it/s]\n"
     ]
    },
    {
     "name": "stdout",
     "output_type": "stream",
     "text": [
      "\n",
      "Epoch 162/300\n",
      "Train Loss: 0.1544, Train Acc: 0.9439\n",
      "Val Loss: 0.6777, Val Acc: 0.8594\n"
     ]
    },
    {
     "name": "stderr",
     "output_type": "stream",
     "text": [
      "Training: 100%|██████████| 436/436 [00:10<00:00, 42.22it/s]\n",
      "Evaluating: 100%|██████████| 124/124 [00:02<00:00, 46.96it/s]\n"
     ]
    },
    {
     "name": "stdout",
     "output_type": "stream",
     "text": [
      "\n",
      "Epoch 163/300\n",
      "Train Loss: 0.1531, Train Acc: 0.9456\n",
      "Val Loss: 0.6775, Val Acc: 0.8596\n"
     ]
    },
    {
     "name": "stderr",
     "output_type": "stream",
     "text": [
      "Training: 100%|██████████| 436/436 [00:10<00:00, 41.89it/s]\n",
      "Evaluating: 100%|██████████| 124/124 [00:02<00:00, 46.97it/s]\n"
     ]
    },
    {
     "name": "stdout",
     "output_type": "stream",
     "text": [
      "\n",
      "Epoch 164/300\n",
      "Train Loss: 0.1541, Train Acc: 0.9431\n",
      "Val Loss: 0.6775, Val Acc: 0.8596\n"
     ]
    },
    {
     "name": "stderr",
     "output_type": "stream",
     "text": [
      "Training: 100%|██████████| 436/436 [00:10<00:00, 41.99it/s]\n",
      "Evaluating: 100%|██████████| 124/124 [00:02<00:00, 47.20it/s]\n"
     ]
    },
    {
     "name": "stdout",
     "output_type": "stream",
     "text": [
      "\n",
      "Epoch 165/300\n",
      "Train Loss: 0.1593, Train Acc: 0.9410\n",
      "Val Loss: 0.6774, Val Acc: 0.8596\n",
      "\n",
      "Validation Report:\n",
      "              precision    recall  f1-score   support\n",
      "\n",
      "      glioma       0.86      0.80      0.83      1208\n",
      "  meningioma       0.78      0.82      0.80       930\n",
      "        none       0.89      0.95      0.92       831\n",
      "   pituitary       0.92      0.89      0.90       992\n",
      "\n",
      "    accuracy                           0.86      3961\n",
      "   macro avg       0.86      0.87      0.86      3961\n",
      "weighted avg       0.86      0.86      0.86      3961\n",
      "\n"
     ]
    },
    {
     "name": "stderr",
     "output_type": "stream",
     "text": [
      "Training: 100%|██████████| 436/436 [00:10<00:00, 42.16it/s]\n",
      "Evaluating: 100%|██████████| 124/124 [00:02<00:00, 46.94it/s]\n"
     ]
    },
    {
     "name": "stdout",
     "output_type": "stream",
     "text": [
      "\n",
      "Epoch 166/300\n",
      "Train Loss: 0.1532, Train Acc: 0.9429\n",
      "Val Loss: 0.6775, Val Acc: 0.8594\n"
     ]
    },
    {
     "name": "stderr",
     "output_type": "stream",
     "text": [
      "Training: 100%|██████████| 436/436 [00:10<00:00, 42.17it/s]\n",
      "Evaluating: 100%|██████████| 124/124 [00:02<00:00, 47.06it/s]\n"
     ]
    },
    {
     "name": "stdout",
     "output_type": "stream",
     "text": [
      "\n",
      "Epoch 167/300\n",
      "Train Loss: 0.1554, Train Acc: 0.9419\n",
      "Val Loss: 0.6774, Val Acc: 0.8594\n"
     ]
    },
    {
     "name": "stderr",
     "output_type": "stream",
     "text": [
      "Training: 100%|██████████| 436/436 [00:10<00:00, 42.09it/s]\n",
      "Evaluating: 100%|██████████| 124/124 [00:02<00:00, 47.02it/s]\n"
     ]
    },
    {
     "name": "stdout",
     "output_type": "stream",
     "text": [
      "\n",
      "Epoch 168/300\n",
      "Train Loss: 0.1580, Train Acc: 0.9421\n",
      "Val Loss: 0.6774, Val Acc: 0.8594\n"
     ]
    },
    {
     "name": "stderr",
     "output_type": "stream",
     "text": [
      "Training: 100%|██████████| 436/436 [00:10<00:00, 41.92it/s]\n",
      "Evaluating: 100%|██████████| 124/124 [00:02<00:00, 46.49it/s]\n"
     ]
    },
    {
     "name": "stdout",
     "output_type": "stream",
     "text": [
      "\n",
      "Epoch 169/300\n",
      "Train Loss: 0.1516, Train Acc: 0.9459\n",
      "Val Loss: 0.6775, Val Acc: 0.8591\n"
     ]
    },
    {
     "name": "stderr",
     "output_type": "stream",
     "text": [
      "Training: 100%|██████████| 436/436 [00:10<00:00, 41.62it/s]\n",
      "Evaluating: 100%|██████████| 124/124 [00:02<00:00, 47.16it/s]\n"
     ]
    },
    {
     "name": "stdout",
     "output_type": "stream",
     "text": [
      "\n",
      "Epoch 170/300\n",
      "Train Loss: 0.1578, Train Acc: 0.9407\n",
      "Val Loss: 0.6775, Val Acc: 0.8596\n",
      "\n",
      "Validation Report:\n",
      "              precision    recall  f1-score   support\n",
      "\n",
      "      glioma       0.86      0.80      0.83      1208\n",
      "  meningioma       0.78      0.82      0.80       930\n",
      "        none       0.89      0.95      0.92       831\n",
      "   pituitary       0.91      0.89      0.90       992\n",
      "\n",
      "    accuracy                           0.86      3961\n",
      "   macro avg       0.86      0.87      0.86      3961\n",
      "weighted avg       0.86      0.86      0.86      3961\n",
      "\n"
     ]
    },
    {
     "name": "stderr",
     "output_type": "stream",
     "text": [
      "Training: 100%|██████████| 436/436 [00:10<00:00, 41.95it/s]\n",
      "Evaluating: 100%|██████████| 124/124 [00:02<00:00, 47.03it/s]\n"
     ]
    },
    {
     "name": "stdout",
     "output_type": "stream",
     "text": [
      "\n",
      "Epoch 171/300\n",
      "Train Loss: 0.1578, Train Acc: 0.9414\n",
      "Val Loss: 0.6775, Val Acc: 0.8596\n"
     ]
    },
    {
     "name": "stderr",
     "output_type": "stream",
     "text": [
      "Training: 100%|██████████| 436/436 [00:10<00:00, 41.64it/s]\n",
      "Evaluating: 100%|██████████| 124/124 [00:02<00:00, 46.72it/s]\n"
     ]
    },
    {
     "name": "stdout",
     "output_type": "stream",
     "text": [
      "\n",
      "Epoch 172/300\n",
      "Train Loss: 0.1537, Train Acc: 0.9431\n",
      "Val Loss: 0.6775, Val Acc: 0.8596\n"
     ]
    },
    {
     "name": "stderr",
     "output_type": "stream",
     "text": [
      "Training: 100%|██████████| 436/436 [00:10<00:00, 42.17it/s]\n",
      "Evaluating: 100%|██████████| 124/124 [00:02<00:00, 46.92it/s]\n"
     ]
    },
    {
     "name": "stdout",
     "output_type": "stream",
     "text": [
      "\n",
      "Epoch 173/300\n",
      "Train Loss: 0.1543, Train Acc: 0.9444\n",
      "Val Loss: 0.6775, Val Acc: 0.8591\n"
     ]
    },
    {
     "name": "stderr",
     "output_type": "stream",
     "text": [
      "Training: 100%|██████████| 436/436 [00:10<00:00, 41.70it/s]\n",
      "Evaluating: 100%|██████████| 124/124 [00:02<00:00, 46.94it/s]\n"
     ]
    },
    {
     "name": "stdout",
     "output_type": "stream",
     "text": [
      "\n",
      "Epoch 174/300\n",
      "Train Loss: 0.1562, Train Acc: 0.9416\n",
      "Val Loss: 0.6775, Val Acc: 0.8591\n"
     ]
    },
    {
     "name": "stderr",
     "output_type": "stream",
     "text": [
      "Training: 100%|██████████| 436/436 [00:10<00:00, 41.32it/s]\n",
      "Evaluating: 100%|██████████| 124/124 [00:02<00:00, 46.63it/s]\n"
     ]
    },
    {
     "name": "stdout",
     "output_type": "stream",
     "text": [
      "\n",
      "Epoch 175/300\n",
      "Train Loss: 0.1565, Train Acc: 0.9436\n",
      "Val Loss: 0.6775, Val Acc: 0.8594\n",
      "\n",
      "Validation Report:\n",
      "              precision    recall  f1-score   support\n",
      "\n",
      "      glioma       0.86      0.80      0.83      1208\n",
      "  meningioma       0.77      0.82      0.80       930\n",
      "        none       0.89      0.95      0.92       831\n",
      "   pituitary       0.91      0.89      0.90       992\n",
      "\n",
      "    accuracy                           0.86      3961\n",
      "   macro avg       0.86      0.87      0.86      3961\n",
      "weighted avg       0.86      0.86      0.86      3961\n",
      "\n"
     ]
    },
    {
     "name": "stderr",
     "output_type": "stream",
     "text": [
      "Training: 100%|██████████| 436/436 [00:10<00:00, 41.96it/s]\n",
      "Evaluating: 100%|██████████| 124/124 [00:02<00:00, 46.97it/s]\n"
     ]
    },
    {
     "name": "stdout",
     "output_type": "stream",
     "text": [
      "\n",
      "Epoch 176/300\n",
      "Train Loss: 0.1553, Train Acc: 0.9432\n",
      "Val Loss: 0.6775, Val Acc: 0.8594\n"
     ]
    },
    {
     "name": "stderr",
     "output_type": "stream",
     "text": [
      "Training: 100%|██████████| 436/436 [00:10<00:00, 42.04it/s]\n",
      "Evaluating: 100%|██████████| 124/124 [00:02<00:00, 46.87it/s]\n"
     ]
    },
    {
     "name": "stdout",
     "output_type": "stream",
     "text": [
      "\n",
      "Epoch 177/300\n",
      "Train Loss: 0.1569, Train Acc: 0.9400\n",
      "Val Loss: 0.6775, Val Acc: 0.8596\n"
     ]
    },
    {
     "name": "stderr",
     "output_type": "stream",
     "text": [
      "Training: 100%|██████████| 436/436 [00:10<00:00, 42.69it/s]\n",
      "Evaluating: 100%|██████████| 124/124 [00:02<00:00, 46.92it/s]\n"
     ]
    },
    {
     "name": "stdout",
     "output_type": "stream",
     "text": [
      "\n",
      "Epoch 178/300\n",
      "Train Loss: 0.1563, Train Acc: 0.9439\n",
      "Val Loss: 0.6775, Val Acc: 0.8596\n"
     ]
    },
    {
     "name": "stderr",
     "output_type": "stream",
     "text": [
      "Training: 100%|██████████| 436/436 [00:10<00:00, 42.21it/s]\n",
      "Evaluating: 100%|██████████| 124/124 [00:02<00:00, 46.82it/s]\n"
     ]
    },
    {
     "name": "stdout",
     "output_type": "stream",
     "text": [
      "\n",
      "Epoch 179/300\n",
      "Train Loss: 0.1602, Train Acc: 0.9412\n",
      "Val Loss: 0.6775, Val Acc: 0.8596\n"
     ]
    },
    {
     "name": "stderr",
     "output_type": "stream",
     "text": [
      "Training: 100%|██████████| 436/436 [00:10<00:00, 42.41it/s]\n",
      "Evaluating: 100%|██████████| 124/124 [00:02<00:00, 47.04it/s]\n"
     ]
    },
    {
     "name": "stdout",
     "output_type": "stream",
     "text": [
      "\n",
      "Epoch 180/300\n",
      "Train Loss: 0.1559, Train Acc: 0.9423\n",
      "Val Loss: 0.6775, Val Acc: 0.8596\n",
      "\n",
      "Validation Report:\n",
      "              precision    recall  f1-score   support\n",
      "\n",
      "      glioma       0.86      0.80      0.83      1208\n",
      "  meningioma       0.78      0.82      0.80       930\n",
      "        none       0.89      0.95      0.92       831\n",
      "   pituitary       0.91      0.89      0.90       992\n",
      "\n",
      "    accuracy                           0.86      3961\n",
      "   macro avg       0.86      0.87      0.86      3961\n",
      "weighted avg       0.86      0.86      0.86      3961\n",
      "\n"
     ]
    },
    {
     "name": "stderr",
     "output_type": "stream",
     "text": [
      "Training: 100%|██████████| 436/436 [00:10<00:00, 42.03it/s]\n",
      "Evaluating: 100%|██████████| 124/124 [00:02<00:00, 47.04it/s]\n"
     ]
    },
    {
     "name": "stdout",
     "output_type": "stream",
     "text": [
      "\n",
      "Epoch 181/300\n",
      "Train Loss: 0.1567, Train Acc: 0.9421\n",
      "Val Loss: 0.6775, Val Acc: 0.8594\n"
     ]
    },
    {
     "name": "stderr",
     "output_type": "stream",
     "text": [
      "Training: 100%|██████████| 436/436 [00:10<00:00, 42.07it/s]\n",
      "Evaluating: 100%|██████████| 124/124 [00:02<00:00, 47.01it/s]\n"
     ]
    },
    {
     "name": "stdout",
     "output_type": "stream",
     "text": [
      "\n",
      "Epoch 182/300\n",
      "Train Loss: 0.1548, Train Acc: 0.9449\n",
      "Val Loss: 0.6775, Val Acc: 0.8594\n"
     ]
    },
    {
     "name": "stderr",
     "output_type": "stream",
     "text": [
      "Training: 100%|██████████| 436/436 [00:10<00:00, 41.88it/s]\n",
      "Evaluating: 100%|██████████| 124/124 [00:02<00:00, 46.54it/s]\n"
     ]
    },
    {
     "name": "stdout",
     "output_type": "stream",
     "text": [
      "\n",
      "Epoch 183/300\n",
      "Train Loss: 0.1527, Train Acc: 0.9428\n",
      "Val Loss: 0.6775, Val Acc: 0.8596\n"
     ]
    },
    {
     "name": "stderr",
     "output_type": "stream",
     "text": [
      "Training: 100%|██████████| 436/436 [00:10<00:00, 41.71it/s]\n",
      "Evaluating: 100%|██████████| 124/124 [00:02<00:00, 46.70it/s]\n"
     ]
    },
    {
     "name": "stdout",
     "output_type": "stream",
     "text": [
      "\n",
      "Epoch 184/300\n",
      "Train Loss: 0.1574, Train Acc: 0.9418\n",
      "Val Loss: 0.6775, Val Acc: 0.8596\n"
     ]
    },
    {
     "name": "stderr",
     "output_type": "stream",
     "text": [
      "Training: 100%|██████████| 436/436 [00:10<00:00, 42.08it/s]\n",
      "Evaluating: 100%|██████████| 124/124 [00:02<00:00, 46.74it/s]\n"
     ]
    },
    {
     "name": "stdout",
     "output_type": "stream",
     "text": [
      "\n",
      "Epoch 185/300\n",
      "Train Loss: 0.1563, Train Acc: 0.9436\n",
      "Val Loss: 0.6775, Val Acc: 0.8596\n",
      "\n",
      "Validation Report:\n",
      "              precision    recall  f1-score   support\n",
      "\n",
      "      glioma       0.86      0.80      0.83      1208\n",
      "  meningioma       0.78      0.82      0.80       930\n",
      "        none       0.89      0.95      0.92       831\n",
      "   pituitary       0.91      0.89      0.90       992\n",
      "\n",
      "    accuracy                           0.86      3961\n",
      "   macro avg       0.86      0.87      0.86      3961\n",
      "weighted avg       0.86      0.86      0.86      3961\n",
      "\n"
     ]
    },
    {
     "name": "stderr",
     "output_type": "stream",
     "text": [
      "Training: 100%|██████████| 436/436 [00:10<00:00, 42.07it/s]\n",
      "Evaluating: 100%|██████████| 124/124 [00:02<00:00, 46.29it/s]\n"
     ]
    },
    {
     "name": "stdout",
     "output_type": "stream",
     "text": [
      "\n",
      "Epoch 186/300\n",
      "Train Loss: 0.1578, Train Acc: 0.9438\n",
      "Val Loss: 0.6775, Val Acc: 0.8596\n"
     ]
    },
    {
     "name": "stderr",
     "output_type": "stream",
     "text": [
      "Training: 100%|██████████| 436/436 [00:10<00:00, 42.29it/s]\n",
      "Evaluating: 100%|██████████| 124/124 [00:02<00:00, 47.05it/s]\n"
     ]
    },
    {
     "name": "stdout",
     "output_type": "stream",
     "text": [
      "\n",
      "Epoch 187/300\n",
      "Train Loss: 0.1560, Train Acc: 0.9421\n",
      "Val Loss: 0.6775, Val Acc: 0.8596\n"
     ]
    },
    {
     "name": "stderr",
     "output_type": "stream",
     "text": [
      "Training: 100%|██████████| 436/436 [00:10<00:00, 42.03it/s]\n",
      "Evaluating: 100%|██████████| 124/124 [00:02<00:00, 47.09it/s]\n"
     ]
    },
    {
     "name": "stdout",
     "output_type": "stream",
     "text": [
      "\n",
      "Epoch 188/300\n",
      "Train Loss: 0.1612, Train Acc: 0.9400\n",
      "Val Loss: 0.6775, Val Acc: 0.8596\n"
     ]
    },
    {
     "name": "stderr",
     "output_type": "stream",
     "text": [
      "Training: 100%|██████████| 436/436 [00:10<00:00, 42.56it/s]\n",
      "Evaluating: 100%|██████████| 124/124 [00:02<00:00, 46.76it/s]\n"
     ]
    },
    {
     "name": "stdout",
     "output_type": "stream",
     "text": [
      "\n",
      "Epoch 189/300\n",
      "Train Loss: 0.1551, Train Acc: 0.9452\n",
      "Val Loss: 0.6775, Val Acc: 0.8596\n"
     ]
    },
    {
     "name": "stderr",
     "output_type": "stream",
     "text": [
      "Training: 100%|██████████| 436/436 [00:10<00:00, 42.02it/s]\n",
      "Evaluating: 100%|██████████| 124/124 [00:02<00:00, 46.95it/s]\n"
     ]
    },
    {
     "name": "stdout",
     "output_type": "stream",
     "text": [
      "\n",
      "Epoch 190/300\n",
      "Train Loss: 0.1561, Train Acc: 0.9408\n",
      "Val Loss: 0.6775, Val Acc: 0.8596\n",
      "\n",
      "Validation Report:\n",
      "              precision    recall  f1-score   support\n",
      "\n",
      "      glioma       0.86      0.80      0.83      1208\n",
      "  meningioma       0.77      0.82      0.80       930\n",
      "        none       0.89      0.95      0.92       831\n",
      "   pituitary       0.91      0.89      0.90       992\n",
      "\n",
      "    accuracy                           0.86      3961\n",
      "   macro avg       0.86      0.87      0.86      3961\n",
      "weighted avg       0.86      0.86      0.86      3961\n",
      "\n"
     ]
    },
    {
     "name": "stderr",
     "output_type": "stream",
     "text": [
      "Training: 100%|██████████| 436/436 [00:10<00:00, 41.75it/s]\n",
      "Evaluating: 100%|██████████| 124/124 [00:02<00:00, 46.56it/s]\n"
     ]
    },
    {
     "name": "stdout",
     "output_type": "stream",
     "text": [
      "\n",
      "Epoch 191/300\n",
      "Train Loss: 0.1554, Train Acc: 0.9428\n",
      "Val Loss: 0.6775, Val Acc: 0.8596\n"
     ]
    },
    {
     "name": "stderr",
     "output_type": "stream",
     "text": [
      "Training: 100%|██████████| 436/436 [00:10<00:00, 41.53it/s]\n",
      "Evaluating: 100%|██████████| 124/124 [00:02<00:00, 46.96it/s]\n"
     ]
    },
    {
     "name": "stdout",
     "output_type": "stream",
     "text": [
      "\n",
      "Epoch 192/300\n",
      "Train Loss: 0.1553, Train Acc: 0.9443\n",
      "Val Loss: 0.6775, Val Acc: 0.8596\n"
     ]
    },
    {
     "name": "stderr",
     "output_type": "stream",
     "text": [
      "Training: 100%|██████████| 436/436 [00:10<00:00, 41.86it/s]\n",
      "Evaluating: 100%|██████████| 124/124 [00:02<00:00, 46.77it/s]\n"
     ]
    },
    {
     "name": "stdout",
     "output_type": "stream",
     "text": [
      "\n",
      "Epoch 193/300\n",
      "Train Loss: 0.1587, Train Acc: 0.9418\n",
      "Val Loss: 0.6775, Val Acc: 0.8596\n"
     ]
    },
    {
     "name": "stderr",
     "output_type": "stream",
     "text": [
      "Training: 100%|██████████| 436/436 [00:10<00:00, 42.29it/s]\n",
      "Evaluating: 100%|██████████| 124/124 [00:02<00:00, 46.66it/s]\n"
     ]
    },
    {
     "name": "stdout",
     "output_type": "stream",
     "text": [
      "\n",
      "Epoch 194/300\n",
      "Train Loss: 0.1552, Train Acc: 0.9423\n",
      "Val Loss: 0.6775, Val Acc: 0.8596\n"
     ]
    },
    {
     "name": "stderr",
     "output_type": "stream",
     "text": [
      "Training: 100%|██████████| 436/436 [00:10<00:00, 42.11it/s]\n",
      "Evaluating: 100%|██████████| 124/124 [00:02<00:00, 46.52it/s]\n"
     ]
    },
    {
     "name": "stdout",
     "output_type": "stream",
     "text": [
      "\n",
      "Epoch 195/300\n",
      "Train Loss: 0.1564, Train Acc: 0.9439\n",
      "Val Loss: 0.6775, Val Acc: 0.8596\n",
      "\n",
      "Validation Report:\n",
      "              precision    recall  f1-score   support\n",
      "\n",
      "      glioma       0.86      0.80      0.83      1208\n",
      "  meningioma       0.77      0.82      0.80       930\n",
      "        none       0.89      0.95      0.92       831\n",
      "   pituitary       0.91      0.89      0.90       992\n",
      "\n",
      "    accuracy                           0.86      3961\n",
      "   macro avg       0.86      0.87      0.86      3961\n",
      "weighted avg       0.86      0.86      0.86      3961\n",
      "\n"
     ]
    },
    {
     "name": "stderr",
     "output_type": "stream",
     "text": [
      "Training: 100%|██████████| 436/436 [00:10<00:00, 41.73it/s]\n",
      "Evaluating: 100%|██████████| 124/124 [00:02<00:00, 46.83it/s]\n"
     ]
    },
    {
     "name": "stdout",
     "output_type": "stream",
     "text": [
      "\n",
      "Epoch 196/300\n",
      "Train Loss: 0.1506, Train Acc: 0.9449\n",
      "Val Loss: 0.6775, Val Acc: 0.8596\n"
     ]
    },
    {
     "name": "stderr",
     "output_type": "stream",
     "text": [
      "Training: 100%|██████████| 436/436 [00:10<00:00, 42.09it/s]\n",
      "Evaluating: 100%|██████████| 124/124 [00:02<00:00, 46.49it/s]\n"
     ]
    },
    {
     "name": "stdout",
     "output_type": "stream",
     "text": [
      "\n",
      "Epoch 197/300\n",
      "Train Loss: 0.1591, Train Acc: 0.9405\n",
      "Val Loss: 0.6775, Val Acc: 0.8596\n"
     ]
    },
    {
     "name": "stderr",
     "output_type": "stream",
     "text": [
      "Training: 100%|██████████| 436/436 [00:10<00:00, 42.14it/s]\n",
      "Evaluating: 100%|██████████| 124/124 [00:02<00:00, 46.98it/s]\n"
     ]
    },
    {
     "name": "stdout",
     "output_type": "stream",
     "text": [
      "\n",
      "Epoch 198/300\n",
      "Train Loss: 0.1545, Train Acc: 0.9427\n",
      "Val Loss: 0.6775, Val Acc: 0.8596\n"
     ]
    },
    {
     "name": "stderr",
     "output_type": "stream",
     "text": [
      "Training: 100%|██████████| 436/436 [00:10<00:00, 42.14it/s]\n",
      "Evaluating: 100%|██████████| 124/124 [00:02<00:00, 47.04it/s]\n"
     ]
    },
    {
     "name": "stdout",
     "output_type": "stream",
     "text": [
      "\n",
      "Epoch 199/300\n",
      "Train Loss: 0.1522, Train Acc: 0.9452\n",
      "Val Loss: 0.6775, Val Acc: 0.8596\n"
     ]
    },
    {
     "name": "stderr",
     "output_type": "stream",
     "text": [
      "Training: 100%|██████████| 436/436 [00:10<00:00, 42.00it/s]\n",
      "Evaluating: 100%|██████████| 124/124 [00:02<00:00, 47.05it/s]\n"
     ]
    },
    {
     "name": "stdout",
     "output_type": "stream",
     "text": [
      "\n",
      "Epoch 200/300\n",
      "Train Loss: 0.1582, Train Acc: 0.9405\n",
      "Val Loss: 0.6775, Val Acc: 0.8596\n",
      "\n",
      "Validation Report:\n",
      "              precision    recall  f1-score   support\n",
      "\n",
      "      glioma       0.86      0.80      0.83      1208\n",
      "  meningioma       0.77      0.82      0.80       930\n",
      "        none       0.89      0.95      0.92       831\n",
      "   pituitary       0.91      0.89      0.90       992\n",
      "\n",
      "    accuracy                           0.86      3961\n",
      "   macro avg       0.86      0.87      0.86      3961\n",
      "weighted avg       0.86      0.86      0.86      3961\n",
      "\n"
     ]
    },
    {
     "name": "stderr",
     "output_type": "stream",
     "text": [
      "Training: 100%|██████████| 436/436 [00:10<00:00, 42.44it/s]\n",
      "Evaluating: 100%|██████████| 124/124 [00:02<00:00, 46.33it/s]\n"
     ]
    },
    {
     "name": "stdout",
     "output_type": "stream",
     "text": [
      "\n",
      "Epoch 201/300\n",
      "Train Loss: 0.1566, Train Acc: 0.9423\n",
      "Val Loss: 0.6775, Val Acc: 0.8596\n"
     ]
    },
    {
     "name": "stderr",
     "output_type": "stream",
     "text": [
      "Training: 100%|██████████| 436/436 [00:10<00:00, 42.09it/s]\n",
      "Evaluating: 100%|██████████| 124/124 [00:02<00:00, 46.54it/s]\n"
     ]
    },
    {
     "name": "stdout",
     "output_type": "stream",
     "text": [
      "\n",
      "Epoch 202/300\n",
      "Train Loss: 0.1524, Train Acc: 0.9439\n",
      "Val Loss: 0.6775, Val Acc: 0.8596\n"
     ]
    },
    {
     "name": "stderr",
     "output_type": "stream",
     "text": [
      "Training: 100%|██████████| 436/436 [00:10<00:00, 41.99it/s]\n",
      "Evaluating: 100%|██████████| 124/124 [00:02<00:00, 47.03it/s]\n"
     ]
    },
    {
     "name": "stdout",
     "output_type": "stream",
     "text": [
      "\n",
      "Epoch 203/300\n",
      "Train Loss: 0.1545, Train Acc: 0.9441\n",
      "Val Loss: 0.6775, Val Acc: 0.8596\n"
     ]
    },
    {
     "name": "stderr",
     "output_type": "stream",
     "text": [
      "Training: 100%|██████████| 436/436 [00:10<00:00, 41.43it/s]\n",
      "Evaluating: 100%|██████████| 124/124 [00:02<00:00, 46.24it/s]\n"
     ]
    },
    {
     "name": "stdout",
     "output_type": "stream",
     "text": [
      "\n",
      "Epoch 204/300\n",
      "Train Loss: 0.1562, Train Acc: 0.9423\n",
      "Val Loss: 0.6775, Val Acc: 0.8596\n"
     ]
    },
    {
     "name": "stderr",
     "output_type": "stream",
     "text": [
      "Training: 100%|██████████| 436/436 [00:10<00:00, 40.86it/s]\n",
      "Evaluating: 100%|██████████| 124/124 [00:02<00:00, 46.51it/s]\n"
     ]
    },
    {
     "name": "stdout",
     "output_type": "stream",
     "text": [
      "\n",
      "Epoch 205/300\n",
      "Train Loss: 0.1583, Train Acc: 0.9413\n",
      "Val Loss: 0.6775, Val Acc: 0.8596\n",
      "\n",
      "Validation Report:\n",
      "              precision    recall  f1-score   support\n",
      "\n",
      "      glioma       0.86      0.80      0.83      1208\n",
      "  meningioma       0.77      0.82      0.80       930\n",
      "        none       0.89      0.95      0.92       831\n",
      "   pituitary       0.91      0.89      0.90       992\n",
      "\n",
      "    accuracy                           0.86      3961\n",
      "   macro avg       0.86      0.87      0.86      3961\n",
      "weighted avg       0.86      0.86      0.86      3961\n",
      "\n"
     ]
    },
    {
     "name": "stderr",
     "output_type": "stream",
     "text": [
      "Training: 100%|██████████| 436/436 [00:10<00:00, 42.36it/s]\n",
      "Evaluating: 100%|██████████| 124/124 [00:02<00:00, 46.44it/s]\n"
     ]
    },
    {
     "name": "stdout",
     "output_type": "stream",
     "text": [
      "\n",
      "Epoch 206/300\n",
      "Train Loss: 0.1566, Train Acc: 0.9421\n",
      "Val Loss: 0.6775, Val Acc: 0.8596\n"
     ]
    },
    {
     "name": "stderr",
     "output_type": "stream",
     "text": [
      "Training: 100%|██████████| 436/436 [00:10<00:00, 42.60it/s]\n",
      "Evaluating: 100%|██████████| 124/124 [00:02<00:00, 47.16it/s]\n"
     ]
    },
    {
     "name": "stdout",
     "output_type": "stream",
     "text": [
      "\n",
      "Epoch 207/300\n",
      "Train Loss: 0.1516, Train Acc: 0.9456\n",
      "Val Loss: 0.6775, Val Acc: 0.8596\n"
     ]
    },
    {
     "name": "stderr",
     "output_type": "stream",
     "text": [
      "Training: 100%|██████████| 436/436 [00:10<00:00, 41.91it/s]\n",
      "Evaluating: 100%|██████████| 124/124 [00:02<00:00, 46.50it/s]\n"
     ]
    },
    {
     "name": "stdout",
     "output_type": "stream",
     "text": [
      "\n",
      "Epoch 208/300\n",
      "Train Loss: 0.1592, Train Acc: 0.9413\n",
      "Val Loss: 0.6775, Val Acc: 0.8596\n"
     ]
    },
    {
     "name": "stderr",
     "output_type": "stream",
     "text": [
      "Training: 100%|██████████| 436/436 [00:10<00:00, 41.89it/s]\n",
      "Evaluating: 100%|██████████| 124/124 [00:02<00:00, 46.97it/s]\n"
     ]
    },
    {
     "name": "stdout",
     "output_type": "stream",
     "text": [
      "\n",
      "Epoch 209/300\n",
      "Train Loss: 0.1518, Train Acc: 0.9436\n",
      "Val Loss: 0.6775, Val Acc: 0.8596\n"
     ]
    },
    {
     "name": "stderr",
     "output_type": "stream",
     "text": [
      "Training: 100%|██████████| 436/436 [00:10<00:00, 41.98it/s]\n",
      "Evaluating: 100%|██████████| 124/124 [00:02<00:00, 47.35it/s]\n"
     ]
    },
    {
     "name": "stdout",
     "output_type": "stream",
     "text": [
      "\n",
      "Epoch 210/300\n",
      "Train Loss: 0.1577, Train Acc: 0.9420\n",
      "Val Loss: 0.6775, Val Acc: 0.8596\n",
      "\n",
      "Validation Report:\n",
      "              precision    recall  f1-score   support\n",
      "\n",
      "      glioma       0.86      0.80      0.83      1208\n",
      "  meningioma       0.77      0.82      0.80       930\n",
      "        none       0.89      0.95      0.92       831\n",
      "   pituitary       0.91      0.89      0.90       992\n",
      "\n",
      "    accuracy                           0.86      3961\n",
      "   macro avg       0.86      0.87      0.86      3961\n",
      "weighted avg       0.86      0.86      0.86      3961\n",
      "\n"
     ]
    },
    {
     "name": "stderr",
     "output_type": "stream",
     "text": [
      "Training: 100%|██████████| 436/436 [00:10<00:00, 42.24it/s]\n",
      "Evaluating: 100%|██████████| 124/124 [00:02<00:00, 46.81it/s]\n"
     ]
    },
    {
     "name": "stdout",
     "output_type": "stream",
     "text": [
      "\n",
      "Epoch 211/300\n",
      "Train Loss: 0.1591, Train Acc: 0.9409\n",
      "Val Loss: 0.6775, Val Acc: 0.8596\n"
     ]
    },
    {
     "name": "stderr",
     "output_type": "stream",
     "text": [
      "Training: 100%|██████████| 436/436 [00:10<00:00, 42.09it/s]\n",
      "Evaluating: 100%|██████████| 124/124 [00:02<00:00, 46.58it/s]\n"
     ]
    },
    {
     "name": "stdout",
     "output_type": "stream",
     "text": [
      "\n",
      "Epoch 212/300\n",
      "Train Loss: 0.1485, Train Acc: 0.9453\n",
      "Val Loss: 0.6775, Val Acc: 0.8596\n"
     ]
    },
    {
     "name": "stderr",
     "output_type": "stream",
     "text": [
      "Training: 100%|██████████| 436/436 [00:10<00:00, 41.84it/s]\n",
      "Evaluating: 100%|██████████| 124/124 [00:02<00:00, 46.50it/s]\n"
     ]
    },
    {
     "name": "stdout",
     "output_type": "stream",
     "text": [
      "\n",
      "Epoch 213/300\n",
      "Train Loss: 0.1559, Train Acc: 0.9405\n",
      "Val Loss: 0.6775, Val Acc: 0.8596\n"
     ]
    },
    {
     "name": "stderr",
     "output_type": "stream",
     "text": [
      "Training: 100%|██████████| 436/436 [00:10<00:00, 41.62it/s]\n",
      "Evaluating: 100%|██████████| 124/124 [00:02<00:00, 46.48it/s]\n"
     ]
    },
    {
     "name": "stdout",
     "output_type": "stream",
     "text": [
      "\n",
      "Epoch 214/300\n",
      "Train Loss: 0.1549, Train Acc: 0.9439\n",
      "Val Loss: 0.6775, Val Acc: 0.8596\n"
     ]
    },
    {
     "name": "stderr",
     "output_type": "stream",
     "text": [
      "Training: 100%|██████████| 436/436 [00:10<00:00, 42.11it/s]\n",
      "Evaluating: 100%|██████████| 124/124 [00:02<00:00, 47.04it/s]\n"
     ]
    },
    {
     "name": "stdout",
     "output_type": "stream",
     "text": [
      "\n",
      "Epoch 215/300\n",
      "Train Loss: 0.1600, Train Acc: 0.9404\n",
      "Val Loss: 0.6775, Val Acc: 0.8596\n",
      "\n",
      "Validation Report:\n",
      "              precision    recall  f1-score   support\n",
      "\n",
      "      glioma       0.86      0.80      0.83      1208\n",
      "  meningioma       0.77      0.82      0.80       930\n",
      "        none       0.89      0.95      0.92       831\n",
      "   pituitary       0.91      0.89      0.90       992\n",
      "\n",
      "    accuracy                           0.86      3961\n",
      "   macro avg       0.86      0.87      0.86      3961\n",
      "weighted avg       0.86      0.86      0.86      3961\n",
      "\n"
     ]
    },
    {
     "name": "stderr",
     "output_type": "stream",
     "text": [
      "Training: 100%|██████████| 436/436 [00:10<00:00, 42.00it/s]\n",
      "Evaluating: 100%|██████████| 124/124 [00:02<00:00, 46.98it/s]\n"
     ]
    },
    {
     "name": "stdout",
     "output_type": "stream",
     "text": [
      "\n",
      "Epoch 216/300\n",
      "Train Loss: 0.1560, Train Acc: 0.9426\n",
      "Val Loss: 0.6775, Val Acc: 0.8596\n"
     ]
    },
    {
     "name": "stderr",
     "output_type": "stream",
     "text": [
      "Training: 100%|██████████| 436/436 [00:10<00:00, 41.92it/s]\n",
      "Evaluating: 100%|██████████| 124/124 [00:02<00:00, 46.68it/s]\n"
     ]
    },
    {
     "name": "stdout",
     "output_type": "stream",
     "text": [
      "\n",
      "Epoch 217/300\n",
      "Train Loss: 0.1552, Train Acc: 0.9443\n",
      "Val Loss: 0.6775, Val Acc: 0.8596\n"
     ]
    },
    {
     "name": "stderr",
     "output_type": "stream",
     "text": [
      "Training: 100%|██████████| 436/436 [00:10<00:00, 41.88it/s]\n",
      "Evaluating: 100%|██████████| 124/124 [00:02<00:00, 46.48it/s]\n"
     ]
    },
    {
     "name": "stdout",
     "output_type": "stream",
     "text": [
      "\n",
      "Epoch 218/300\n",
      "Train Loss: 0.1550, Train Acc: 0.9433\n",
      "Val Loss: 0.6775, Val Acc: 0.8596\n"
     ]
    },
    {
     "name": "stderr",
     "output_type": "stream",
     "text": [
      "Training: 100%|██████████| 436/436 [00:10<00:00, 42.04it/s]\n",
      "Evaluating: 100%|██████████| 124/124 [00:02<00:00, 46.77it/s]\n"
     ]
    },
    {
     "name": "stdout",
     "output_type": "stream",
     "text": [
      "\n",
      "Epoch 219/300\n",
      "Train Loss: 0.1586, Train Acc: 0.9424\n",
      "Val Loss: 0.6775, Val Acc: 0.8596\n"
     ]
    },
    {
     "name": "stderr",
     "output_type": "stream",
     "text": [
      "Training: 100%|██████████| 436/436 [00:10<00:00, 42.08it/s]\n",
      "Evaluating: 100%|██████████| 124/124 [00:02<00:00, 46.49it/s]\n"
     ]
    },
    {
     "name": "stdout",
     "output_type": "stream",
     "text": [
      "\n",
      "Epoch 220/300\n",
      "Train Loss: 0.1556, Train Acc: 0.9433\n",
      "Val Loss: 0.6775, Val Acc: 0.8596\n",
      "\n",
      "Validation Report:\n",
      "              precision    recall  f1-score   support\n",
      "\n",
      "      glioma       0.86      0.80      0.83      1208\n",
      "  meningioma       0.77      0.82      0.80       930\n",
      "        none       0.89      0.95      0.92       831\n",
      "   pituitary       0.91      0.89      0.90       992\n",
      "\n",
      "    accuracy                           0.86      3961\n",
      "   macro avg       0.86      0.87      0.86      3961\n",
      "weighted avg       0.86      0.86      0.86      3961\n",
      "\n"
     ]
    },
    {
     "name": "stderr",
     "output_type": "stream",
     "text": [
      "Training: 100%|██████████| 436/436 [00:10<00:00, 41.97it/s]\n",
      "Evaluating: 100%|██████████| 124/124 [00:02<00:00, 46.63it/s]\n"
     ]
    },
    {
     "name": "stdout",
     "output_type": "stream",
     "text": [
      "\n",
      "Epoch 221/300\n",
      "Train Loss: 0.1555, Train Acc: 0.9436\n",
      "Val Loss: 0.6775, Val Acc: 0.8596\n"
     ]
    },
    {
     "name": "stderr",
     "output_type": "stream",
     "text": [
      "Training: 100%|██████████| 436/436 [00:10<00:00, 42.21it/s]\n",
      "Evaluating: 100%|██████████| 124/124 [00:02<00:00, 46.95it/s]\n"
     ]
    },
    {
     "name": "stdout",
     "output_type": "stream",
     "text": [
      "\n",
      "Epoch 222/300\n",
      "Train Loss: 0.1564, Train Acc: 0.9417\n",
      "Val Loss: 0.6775, Val Acc: 0.8596\n"
     ]
    },
    {
     "name": "stderr",
     "output_type": "stream",
     "text": [
      "Training: 100%|██████████| 436/436 [00:10<00:00, 41.88it/s]\n",
      "Evaluating: 100%|██████████| 124/124 [00:02<00:00, 46.82it/s]\n"
     ]
    },
    {
     "name": "stdout",
     "output_type": "stream",
     "text": [
      "\n",
      "Epoch 223/300\n",
      "Train Loss: 0.1570, Train Acc: 0.9423\n",
      "Val Loss: 0.6775, Val Acc: 0.8596\n"
     ]
    },
    {
     "name": "stderr",
     "output_type": "stream",
     "text": [
      "Training: 100%|██████████| 436/436 [00:10<00:00, 41.71it/s]\n",
      "Evaluating: 100%|██████████| 124/124 [00:02<00:00, 46.97it/s]\n"
     ]
    },
    {
     "name": "stdout",
     "output_type": "stream",
     "text": [
      "\n",
      "Epoch 224/300\n",
      "Train Loss: 0.1554, Train Acc: 0.9440\n",
      "Val Loss: 0.6775, Val Acc: 0.8596\n"
     ]
    },
    {
     "name": "stderr",
     "output_type": "stream",
     "text": [
      "Training: 100%|██████████| 436/436 [00:10<00:00, 41.78it/s]\n",
      "Evaluating: 100%|██████████| 124/124 [00:02<00:00, 46.88it/s]\n"
     ]
    },
    {
     "name": "stdout",
     "output_type": "stream",
     "text": [
      "\n",
      "Epoch 225/300\n",
      "Train Loss: 0.1530, Train Acc: 0.9448\n",
      "Val Loss: 0.6775, Val Acc: 0.8596\n",
      "\n",
      "Validation Report:\n",
      "              precision    recall  f1-score   support\n",
      "\n",
      "      glioma       0.86      0.80      0.83      1208\n",
      "  meningioma       0.77      0.82      0.80       930\n",
      "        none       0.89      0.95      0.92       831\n",
      "   pituitary       0.91      0.89      0.90       992\n",
      "\n",
      "    accuracy                           0.86      3961\n",
      "   macro avg       0.86      0.87      0.86      3961\n",
      "weighted avg       0.86      0.86      0.86      3961\n",
      "\n"
     ]
    },
    {
     "name": "stderr",
     "output_type": "stream",
     "text": [
      "Training: 100%|██████████| 436/436 [00:10<00:00, 41.82it/s]\n",
      "Evaluating: 100%|██████████| 124/124 [00:02<00:00, 46.99it/s]\n"
     ]
    },
    {
     "name": "stdout",
     "output_type": "stream",
     "text": [
      "\n",
      "Epoch 226/300\n",
      "Train Loss: 0.1552, Train Acc: 0.9414\n",
      "Val Loss: 0.6775, Val Acc: 0.8596\n"
     ]
    },
    {
     "name": "stderr",
     "output_type": "stream",
     "text": [
      "Training: 100%|██████████| 436/436 [00:10<00:00, 41.43it/s]\n",
      "Evaluating: 100%|██████████| 124/124 [00:02<00:00, 46.39it/s]\n"
     ]
    },
    {
     "name": "stdout",
     "output_type": "stream",
     "text": [
      "\n",
      "Epoch 227/300\n",
      "Train Loss: 0.1524, Train Acc: 0.9445\n",
      "Val Loss: 0.6775, Val Acc: 0.8596\n"
     ]
    },
    {
     "name": "stderr",
     "output_type": "stream",
     "text": [
      "Training: 100%|██████████| 436/436 [00:10<00:00, 41.47it/s]\n",
      "Evaluating: 100%|██████████| 124/124 [00:02<00:00, 46.82it/s]\n"
     ]
    },
    {
     "name": "stdout",
     "output_type": "stream",
     "text": [
      "\n",
      "Epoch 228/300\n",
      "Train Loss: 0.1585, Train Acc: 0.9400\n",
      "Val Loss: 0.6775, Val Acc: 0.8596\n"
     ]
    },
    {
     "name": "stderr",
     "output_type": "stream",
     "text": [
      "Training: 100%|██████████| 436/436 [00:10<00:00, 41.97it/s]\n",
      "Evaluating: 100%|██████████| 124/124 [00:02<00:00, 47.06it/s]\n"
     ]
    },
    {
     "name": "stdout",
     "output_type": "stream",
     "text": [
      "\n",
      "Epoch 229/300\n",
      "Train Loss: 0.1576, Train Acc: 0.9412\n",
      "Val Loss: 0.6775, Val Acc: 0.8596\n"
     ]
    },
    {
     "name": "stderr",
     "output_type": "stream",
     "text": [
      "Training: 100%|██████████| 436/436 [00:10<00:00, 42.38it/s]\n",
      "Evaluating: 100%|██████████| 124/124 [00:02<00:00, 47.08it/s]\n"
     ]
    },
    {
     "name": "stdout",
     "output_type": "stream",
     "text": [
      "\n",
      "Epoch 230/300\n",
      "Train Loss: 0.1559, Train Acc: 0.9444\n",
      "Val Loss: 0.6775, Val Acc: 0.8596\n",
      "\n",
      "Validation Report:\n",
      "              precision    recall  f1-score   support\n",
      "\n",
      "      glioma       0.86      0.80      0.83      1208\n",
      "  meningioma       0.77      0.82      0.80       930\n",
      "        none       0.89      0.95      0.92       831\n",
      "   pituitary       0.91      0.89      0.90       992\n",
      "\n",
      "    accuracy                           0.86      3961\n",
      "   macro avg       0.86      0.87      0.86      3961\n",
      "weighted avg       0.86      0.86      0.86      3961\n",
      "\n"
     ]
    },
    {
     "name": "stderr",
     "output_type": "stream",
     "text": [
      "Training: 100%|██████████| 436/436 [00:10<00:00, 42.25it/s]\n",
      "Evaluating: 100%|██████████| 124/124 [00:02<00:00, 47.05it/s]\n"
     ]
    },
    {
     "name": "stdout",
     "output_type": "stream",
     "text": [
      "\n",
      "Epoch 231/300\n",
      "Train Loss: 0.1566, Train Acc: 0.9401\n",
      "Val Loss: 0.6775, Val Acc: 0.8596\n"
     ]
    },
    {
     "name": "stderr",
     "output_type": "stream",
     "text": [
      "Training: 100%|██████████| 436/436 [00:10<00:00, 42.00it/s]\n",
      "Evaluating: 100%|██████████| 124/124 [00:02<00:00, 46.62it/s]\n"
     ]
    },
    {
     "name": "stdout",
     "output_type": "stream",
     "text": [
      "\n",
      "Epoch 232/300\n",
      "Train Loss: 0.1546, Train Acc: 0.9438\n",
      "Val Loss: 0.6775, Val Acc: 0.8596\n"
     ]
    },
    {
     "name": "stderr",
     "output_type": "stream",
     "text": [
      "Training: 100%|██████████| 436/436 [00:10<00:00, 42.02it/s]\n",
      "Evaluating: 100%|██████████| 124/124 [00:02<00:00, 46.55it/s]\n"
     ]
    },
    {
     "name": "stdout",
     "output_type": "stream",
     "text": [
      "\n",
      "Epoch 233/300\n",
      "Train Loss: 0.1588, Train Acc: 0.9396\n",
      "Val Loss: 0.6775, Val Acc: 0.8596\n"
     ]
    },
    {
     "name": "stderr",
     "output_type": "stream",
     "text": [
      "Training: 100%|██████████| 436/436 [00:10<00:00, 41.87it/s]\n",
      "Evaluating: 100%|██████████| 124/124 [00:02<00:00, 46.67it/s]\n"
     ]
    },
    {
     "name": "stdout",
     "output_type": "stream",
     "text": [
      "\n",
      "Epoch 234/300\n",
      "Train Loss: 0.1554, Train Acc: 0.9429\n",
      "Val Loss: 0.6775, Val Acc: 0.8596\n"
     ]
    },
    {
     "name": "stderr",
     "output_type": "stream",
     "text": [
      "Training: 100%|██████████| 436/436 [00:10<00:00, 41.76it/s]\n",
      "Evaluating: 100%|██████████| 124/124 [00:02<00:00, 46.47it/s]\n"
     ]
    },
    {
     "name": "stdout",
     "output_type": "stream",
     "text": [
      "\n",
      "Epoch 235/300\n",
      "Train Loss: 0.1552, Train Acc: 0.9418\n",
      "Val Loss: 0.6775, Val Acc: 0.8596\n",
      "\n",
      "Validation Report:\n",
      "              precision    recall  f1-score   support\n",
      "\n",
      "      glioma       0.86      0.80      0.83      1208\n",
      "  meningioma       0.77      0.82      0.80       930\n",
      "        none       0.89      0.95      0.92       831\n",
      "   pituitary       0.91      0.89      0.90       992\n",
      "\n",
      "    accuracy                           0.86      3961\n",
      "   macro avg       0.86      0.87      0.86      3961\n",
      "weighted avg       0.86      0.86      0.86      3961\n",
      "\n"
     ]
    },
    {
     "name": "stderr",
     "output_type": "stream",
     "text": [
      "Training: 100%|██████████| 436/436 [00:10<00:00, 41.48it/s]\n",
      "Evaluating: 100%|██████████| 124/124 [00:02<00:00, 46.36it/s]\n"
     ]
    },
    {
     "name": "stdout",
     "output_type": "stream",
     "text": [
      "\n",
      "Epoch 236/300\n",
      "Train Loss: 0.1561, Train Acc: 0.9431\n",
      "Val Loss: 0.6775, Val Acc: 0.8596\n"
     ]
    },
    {
     "name": "stderr",
     "output_type": "stream",
     "text": [
      "Training: 100%|██████████| 436/436 [00:10<00:00, 41.57it/s]\n",
      "Evaluating: 100%|██████████| 124/124 [00:02<00:00, 46.20it/s]\n"
     ]
    },
    {
     "name": "stdout",
     "output_type": "stream",
     "text": [
      "\n",
      "Epoch 237/300\n",
      "Train Loss: 0.1546, Train Acc: 0.9413\n",
      "Val Loss: 0.6775, Val Acc: 0.8596\n"
     ]
    },
    {
     "name": "stderr",
     "output_type": "stream",
     "text": [
      "Training: 100%|██████████| 436/436 [00:10<00:00, 42.40it/s]\n",
      "Evaluating: 100%|██████████| 124/124 [00:02<00:00, 46.47it/s]\n"
     ]
    },
    {
     "name": "stdout",
     "output_type": "stream",
     "text": [
      "\n",
      "Epoch 238/300\n",
      "Train Loss: 0.1551, Train Acc: 0.9441\n",
      "Val Loss: 0.6775, Val Acc: 0.8596\n"
     ]
    },
    {
     "name": "stderr",
     "output_type": "stream",
     "text": [
      "Training: 100%|██████████| 436/436 [00:10<00:00, 41.27it/s]\n",
      "Evaluating: 100%|██████████| 124/124 [00:02<00:00, 47.02it/s]\n"
     ]
    },
    {
     "name": "stdout",
     "output_type": "stream",
     "text": [
      "\n",
      "Epoch 239/300\n",
      "Train Loss: 0.1566, Train Acc: 0.9436\n",
      "Val Loss: 0.6775, Val Acc: 0.8596\n"
     ]
    },
    {
     "name": "stderr",
     "output_type": "stream",
     "text": [
      "Training: 100%|██████████| 436/436 [00:10<00:00, 41.78it/s]\n",
      "Evaluating: 100%|██████████| 124/124 [00:02<00:00, 46.74it/s]\n"
     ]
    },
    {
     "name": "stdout",
     "output_type": "stream",
     "text": [
      "\n",
      "Epoch 240/300\n",
      "Train Loss: 0.1589, Train Acc: 0.9417\n",
      "Val Loss: 0.6775, Val Acc: 0.8596\n",
      "\n",
      "Validation Report:\n",
      "              precision    recall  f1-score   support\n",
      "\n",
      "      glioma       0.86      0.80      0.83      1208\n",
      "  meningioma       0.77      0.82      0.80       930\n",
      "        none       0.89      0.95      0.92       831\n",
      "   pituitary       0.91      0.89      0.90       992\n",
      "\n",
      "    accuracy                           0.86      3961\n",
      "   macro avg       0.86      0.87      0.86      3961\n",
      "weighted avg       0.86      0.86      0.86      3961\n",
      "\n"
     ]
    },
    {
     "name": "stderr",
     "output_type": "stream",
     "text": [
      "Training: 100%|██████████| 436/436 [00:10<00:00, 41.51it/s]\n",
      "Evaluating: 100%|██████████| 124/124 [00:02<00:00, 46.62it/s]\n"
     ]
    },
    {
     "name": "stdout",
     "output_type": "stream",
     "text": [
      "\n",
      "Epoch 241/300\n",
      "Train Loss: 0.1579, Train Acc: 0.9429\n",
      "Val Loss: 0.6775, Val Acc: 0.8596\n"
     ]
    },
    {
     "name": "stderr",
     "output_type": "stream",
     "text": [
      "Training: 100%|██████████| 436/436 [00:10<00:00, 41.89it/s]\n",
      "Evaluating: 100%|██████████| 124/124 [00:02<00:00, 47.02it/s]\n"
     ]
    },
    {
     "name": "stdout",
     "output_type": "stream",
     "text": [
      "\n",
      "Epoch 242/300\n",
      "Train Loss: 0.1589, Train Acc: 0.9399\n",
      "Val Loss: 0.6775, Val Acc: 0.8596\n"
     ]
    },
    {
     "name": "stderr",
     "output_type": "stream",
     "text": [
      "Training: 100%|██████████| 436/436 [00:10<00:00, 41.59it/s]\n",
      "Evaluating: 100%|██████████| 124/124 [00:02<00:00, 46.21it/s]\n"
     ]
    },
    {
     "name": "stdout",
     "output_type": "stream",
     "text": [
      "\n",
      "Epoch 243/300\n",
      "Train Loss: 0.1595, Train Acc: 0.9418\n",
      "Val Loss: 0.6775, Val Acc: 0.8596\n"
     ]
    },
    {
     "name": "stderr",
     "output_type": "stream",
     "text": [
      "Training: 100%|██████████| 436/436 [00:10<00:00, 41.61it/s]\n",
      "Evaluating: 100%|██████████| 124/124 [00:02<00:00, 46.75it/s]\n"
     ]
    },
    {
     "name": "stdout",
     "output_type": "stream",
     "text": [
      "\n",
      "Epoch 244/300\n",
      "Train Loss: 0.1552, Train Acc: 0.9433\n",
      "Val Loss: 0.6775, Val Acc: 0.8596\n"
     ]
    },
    {
     "name": "stderr",
     "output_type": "stream",
     "text": [
      "Training: 100%|██████████| 436/436 [00:10<00:00, 42.52it/s]\n",
      "Evaluating: 100%|██████████| 124/124 [00:02<00:00, 46.50it/s]\n"
     ]
    },
    {
     "name": "stdout",
     "output_type": "stream",
     "text": [
      "\n",
      "Epoch 245/300\n",
      "Train Loss: 0.1568, Train Acc: 0.9427\n",
      "Val Loss: 0.6775, Val Acc: 0.8596\n",
      "\n",
      "Validation Report:\n",
      "              precision    recall  f1-score   support\n",
      "\n",
      "      glioma       0.86      0.80      0.83      1208\n",
      "  meningioma       0.77      0.82      0.80       930\n",
      "        none       0.89      0.95      0.92       831\n",
      "   pituitary       0.91      0.89      0.90       992\n",
      "\n",
      "    accuracy                           0.86      3961\n",
      "   macro avg       0.86      0.87      0.86      3961\n",
      "weighted avg       0.86      0.86      0.86      3961\n",
      "\n"
     ]
    },
    {
     "name": "stderr",
     "output_type": "stream",
     "text": [
      "Training: 100%|██████████| 436/436 [00:10<00:00, 41.97it/s]\n",
      "Evaluating: 100%|██████████| 124/124 [00:02<00:00, 46.71it/s]\n"
     ]
    },
    {
     "name": "stdout",
     "output_type": "stream",
     "text": [
      "\n",
      "Epoch 246/300\n",
      "Train Loss: 0.1588, Train Acc: 0.9409\n",
      "Val Loss: 0.6775, Val Acc: 0.8596\n"
     ]
    },
    {
     "name": "stderr",
     "output_type": "stream",
     "text": [
      "Training: 100%|██████████| 436/436 [00:10<00:00, 41.92it/s]\n",
      "Evaluating: 100%|██████████| 124/124 [00:02<00:00, 46.74it/s]\n"
     ]
    },
    {
     "name": "stdout",
     "output_type": "stream",
     "text": [
      "\n",
      "Epoch 247/300\n",
      "Train Loss: 0.1543, Train Acc: 0.9442\n",
      "Val Loss: 0.6775, Val Acc: 0.8596\n"
     ]
    },
    {
     "name": "stderr",
     "output_type": "stream",
     "text": [
      "Training: 100%|██████████| 436/436 [00:10<00:00, 42.55it/s]\n",
      "Evaluating: 100%|██████████| 124/124 [00:02<00:00, 46.77it/s]\n"
     ]
    },
    {
     "name": "stdout",
     "output_type": "stream",
     "text": [
      "\n",
      "Epoch 248/300\n",
      "Train Loss: 0.1595, Train Acc: 0.9413\n",
      "Val Loss: 0.6775, Val Acc: 0.8596\n"
     ]
    },
    {
     "name": "stderr",
     "output_type": "stream",
     "text": [
      "Training: 100%|██████████| 436/436 [00:10<00:00, 41.54it/s]\n",
      "Evaluating: 100%|██████████| 124/124 [00:02<00:00, 46.83it/s]\n"
     ]
    },
    {
     "name": "stdout",
     "output_type": "stream",
     "text": [
      "\n",
      "Epoch 249/300\n",
      "Train Loss: 0.1571, Train Acc: 0.9428\n",
      "Val Loss: 0.6775, Val Acc: 0.8596\n"
     ]
    },
    {
     "name": "stderr",
     "output_type": "stream",
     "text": [
      "Training: 100%|██████████| 436/436 [00:10<00:00, 42.00it/s]\n",
      "Evaluating: 100%|██████████| 124/124 [00:02<00:00, 47.36it/s]\n"
     ]
    },
    {
     "name": "stdout",
     "output_type": "stream",
     "text": [
      "\n",
      "Epoch 250/300\n",
      "Train Loss: 0.1534, Train Acc: 0.9446\n",
      "Val Loss: 0.6775, Val Acc: 0.8596\n",
      "\n",
      "Validation Report:\n",
      "              precision    recall  f1-score   support\n",
      "\n",
      "      glioma       0.86      0.80      0.83      1208\n",
      "  meningioma       0.77      0.82      0.80       930\n",
      "        none       0.89      0.95      0.92       831\n",
      "   pituitary       0.91      0.89      0.90       992\n",
      "\n",
      "    accuracy                           0.86      3961\n",
      "   macro avg       0.86      0.87      0.86      3961\n",
      "weighted avg       0.86      0.86      0.86      3961\n",
      "\n"
     ]
    },
    {
     "name": "stderr",
     "output_type": "stream",
     "text": [
      "Training: 100%|██████████| 436/436 [00:10<00:00, 42.91it/s]\n",
      "Evaluating: 100%|██████████| 124/124 [00:02<00:00, 47.35it/s]\n"
     ]
    },
    {
     "name": "stdout",
     "output_type": "stream",
     "text": [
      "\n",
      "Epoch 251/300\n",
      "Train Loss: 0.1573, Train Acc: 0.9431\n",
      "Val Loss: 0.6775, Val Acc: 0.8596\n"
     ]
    },
    {
     "name": "stderr",
     "output_type": "stream",
     "text": [
      "Training: 100%|██████████| 436/436 [00:10<00:00, 42.34it/s]\n",
      "Evaluating: 100%|██████████| 124/124 [00:02<00:00, 47.52it/s]\n"
     ]
    },
    {
     "name": "stdout",
     "output_type": "stream",
     "text": [
      "\n",
      "Epoch 252/300\n",
      "Train Loss: 0.1558, Train Acc: 0.9428\n",
      "Val Loss: 0.6775, Val Acc: 0.8596\n"
     ]
    },
    {
     "name": "stderr",
     "output_type": "stream",
     "text": [
      "Training: 100%|██████████| 436/436 [00:10<00:00, 42.49it/s]\n",
      "Evaluating: 100%|██████████| 124/124 [00:02<00:00, 47.42it/s]\n"
     ]
    },
    {
     "name": "stdout",
     "output_type": "stream",
     "text": [
      "\n",
      "Epoch 253/300\n",
      "Train Loss: 0.1545, Train Acc: 0.9424\n",
      "Val Loss: 0.6775, Val Acc: 0.8596\n"
     ]
    },
    {
     "name": "stderr",
     "output_type": "stream",
     "text": [
      "Training: 100%|██████████| 436/436 [00:10<00:00, 42.30it/s]\n",
      "Evaluating: 100%|██████████| 124/124 [00:02<00:00, 47.61it/s]\n"
     ]
    },
    {
     "name": "stdout",
     "output_type": "stream",
     "text": [
      "\n",
      "Epoch 254/300\n",
      "Train Loss: 0.1603, Train Acc: 0.9395\n",
      "Val Loss: 0.6775, Val Acc: 0.8596\n"
     ]
    },
    {
     "name": "stderr",
     "output_type": "stream",
     "text": [
      "Training: 100%|██████████| 436/436 [00:10<00:00, 43.03it/s]\n",
      "Evaluating: 100%|██████████| 124/124 [00:02<00:00, 47.99it/s]\n"
     ]
    },
    {
     "name": "stdout",
     "output_type": "stream",
     "text": [
      "\n",
      "Epoch 255/300\n",
      "Train Loss: 0.1562, Train Acc: 0.9427\n",
      "Val Loss: 0.6775, Val Acc: 0.8596\n",
      "\n",
      "Validation Report:\n",
      "              precision    recall  f1-score   support\n",
      "\n",
      "      glioma       0.86      0.80      0.83      1208\n",
      "  meningioma       0.77      0.82      0.80       930\n",
      "        none       0.89      0.95      0.92       831\n",
      "   pituitary       0.91      0.89      0.90       992\n",
      "\n",
      "    accuracy                           0.86      3961\n",
      "   macro avg       0.86      0.87      0.86      3961\n",
      "weighted avg       0.86      0.86      0.86      3961\n",
      "\n"
     ]
    },
    {
     "name": "stderr",
     "output_type": "stream",
     "text": [
      "Training: 100%|██████████| 436/436 [00:10<00:00, 43.00it/s]\n",
      "Evaluating: 100%|██████████| 124/124 [00:02<00:00, 47.14it/s]\n"
     ]
    },
    {
     "name": "stdout",
     "output_type": "stream",
     "text": [
      "\n",
      "Epoch 256/300\n",
      "Train Loss: 0.1557, Train Acc: 0.9441\n",
      "Val Loss: 0.6775, Val Acc: 0.8596\n"
     ]
    },
    {
     "name": "stderr",
     "output_type": "stream",
     "text": [
      "Training: 100%|██████████| 436/436 [00:10<00:00, 43.06it/s]\n",
      "Evaluating: 100%|██████████| 124/124 [00:02<00:00, 47.33it/s]\n"
     ]
    },
    {
     "name": "stdout",
     "output_type": "stream",
     "text": [
      "\n",
      "Epoch 257/300\n",
      "Train Loss: 0.1535, Train Acc: 0.9442\n",
      "Val Loss: 0.6775, Val Acc: 0.8596\n"
     ]
    },
    {
     "name": "stderr",
     "output_type": "stream",
     "text": [
      "Training: 100%|██████████| 436/436 [00:10<00:00, 42.05it/s]\n",
      "Evaluating: 100%|██████████| 124/124 [00:02<00:00, 47.58it/s]\n"
     ]
    },
    {
     "name": "stdout",
     "output_type": "stream",
     "text": [
      "\n",
      "Epoch 258/300\n",
      "Train Loss: 0.1559, Train Acc: 0.9443\n",
      "Val Loss: 0.6775, Val Acc: 0.8596\n"
     ]
    },
    {
     "name": "stderr",
     "output_type": "stream",
     "text": [
      "Training: 100%|██████████| 436/436 [00:10<00:00, 42.56it/s]\n",
      "Evaluating: 100%|██████████| 124/124 [00:02<00:00, 47.76it/s]\n"
     ]
    },
    {
     "name": "stdout",
     "output_type": "stream",
     "text": [
      "\n",
      "Epoch 259/300\n",
      "Train Loss: 0.1598, Train Acc: 0.9400\n",
      "Val Loss: 0.6775, Val Acc: 0.8596\n"
     ]
    },
    {
     "name": "stderr",
     "output_type": "stream",
     "text": [
      "Training: 100%|██████████| 436/436 [00:10<00:00, 42.88it/s]\n",
      "Evaluating: 100%|██████████| 124/124 [00:02<00:00, 47.56it/s]\n"
     ]
    },
    {
     "name": "stdout",
     "output_type": "stream",
     "text": [
      "\n",
      "Epoch 260/300\n",
      "Train Loss: 0.1565, Train Acc: 0.9428\n",
      "Val Loss: 0.6775, Val Acc: 0.8596\n",
      "\n",
      "Validation Report:\n",
      "              precision    recall  f1-score   support\n",
      "\n",
      "      glioma       0.86      0.80      0.83      1208\n",
      "  meningioma       0.77      0.82      0.80       930\n",
      "        none       0.89      0.95      0.92       831\n",
      "   pituitary       0.91      0.89      0.90       992\n",
      "\n",
      "    accuracy                           0.86      3961\n",
      "   macro avg       0.86      0.87      0.86      3961\n",
      "weighted avg       0.86      0.86      0.86      3961\n",
      "\n"
     ]
    },
    {
     "name": "stderr",
     "output_type": "stream",
     "text": [
      "Training: 100%|██████████| 436/436 [00:10<00:00, 42.69it/s]\n",
      "Evaluating: 100%|██████████| 124/124 [00:02<00:00, 47.61it/s]\n"
     ]
    },
    {
     "name": "stdout",
     "output_type": "stream",
     "text": [
      "\n",
      "Epoch 261/300\n",
      "Train Loss: 0.1597, Train Acc: 0.9408\n",
      "Val Loss: 0.6775, Val Acc: 0.8596\n"
     ]
    },
    {
     "name": "stderr",
     "output_type": "stream",
     "text": [
      "Training: 100%|██████████| 436/436 [00:10<00:00, 43.17it/s]\n",
      "Evaluating: 100%|██████████| 124/124 [00:02<00:00, 47.69it/s]\n"
     ]
    },
    {
     "name": "stdout",
     "output_type": "stream",
     "text": [
      "\n",
      "Epoch 262/300\n",
      "Train Loss: 0.1570, Train Acc: 0.9431\n",
      "Val Loss: 0.6775, Val Acc: 0.8596\n"
     ]
    },
    {
     "name": "stderr",
     "output_type": "stream",
     "text": [
      "Training: 100%|██████████| 436/436 [00:10<00:00, 42.91it/s]\n",
      "Evaluating: 100%|██████████| 124/124 [00:02<00:00, 47.31it/s]\n"
     ]
    },
    {
     "name": "stdout",
     "output_type": "stream",
     "text": [
      "\n",
      "Epoch 263/300\n",
      "Train Loss: 0.1558, Train Acc: 0.9436\n",
      "Val Loss: 0.6775, Val Acc: 0.8596\n"
     ]
    },
    {
     "name": "stderr",
     "output_type": "stream",
     "text": [
      "Training: 100%|██████████| 436/436 [00:10<00:00, 42.72it/s]\n",
      "Evaluating: 100%|██████████| 124/124 [00:02<00:00, 47.78it/s]\n"
     ]
    },
    {
     "name": "stdout",
     "output_type": "stream",
     "text": [
      "\n",
      "Epoch 264/300\n",
      "Train Loss: 0.1556, Train Acc: 0.9435\n",
      "Val Loss: 0.6775, Val Acc: 0.8596\n"
     ]
    },
    {
     "name": "stderr",
     "output_type": "stream",
     "text": [
      "Training: 100%|██████████| 436/436 [00:10<00:00, 42.76it/s]\n",
      "Evaluating: 100%|██████████| 124/124 [00:02<00:00, 47.34it/s]\n"
     ]
    },
    {
     "name": "stdout",
     "output_type": "stream",
     "text": [
      "\n",
      "Epoch 265/300\n",
      "Train Loss: 0.1552, Train Acc: 0.9415\n",
      "Val Loss: 0.6775, Val Acc: 0.8596\n",
      "\n",
      "Validation Report:\n",
      "              precision    recall  f1-score   support\n",
      "\n",
      "      glioma       0.86      0.80      0.83      1208\n",
      "  meningioma       0.77      0.82      0.80       930\n",
      "        none       0.89      0.95      0.92       831\n",
      "   pituitary       0.91      0.89      0.90       992\n",
      "\n",
      "    accuracy                           0.86      3961\n",
      "   macro avg       0.86      0.87      0.86      3961\n",
      "weighted avg       0.86      0.86      0.86      3961\n",
      "\n"
     ]
    },
    {
     "name": "stderr",
     "output_type": "stream",
     "text": [
      "Training: 100%|██████████| 436/436 [00:10<00:00, 42.23it/s]\n",
      "Evaluating: 100%|██████████| 124/124 [00:02<00:00, 47.39it/s]\n"
     ]
    },
    {
     "name": "stdout",
     "output_type": "stream",
     "text": [
      "\n",
      "Epoch 266/300\n",
      "Train Loss: 0.1555, Train Acc: 0.9432\n",
      "Val Loss: 0.6775, Val Acc: 0.8596\n"
     ]
    },
    {
     "name": "stderr",
     "output_type": "stream",
     "text": [
      "Training: 100%|██████████| 436/436 [00:10<00:00, 42.54it/s]\n",
      "Evaluating: 100%|██████████| 124/124 [00:02<00:00, 47.70it/s]\n"
     ]
    },
    {
     "name": "stdout",
     "output_type": "stream",
     "text": [
      "\n",
      "Epoch 267/300\n",
      "Train Loss: 0.1584, Train Acc: 0.9424\n",
      "Val Loss: 0.6775, Val Acc: 0.8596\n"
     ]
    },
    {
     "name": "stderr",
     "output_type": "stream",
     "text": [
      "Training: 100%|██████████| 436/436 [00:10<00:00, 42.79it/s]\n",
      "Evaluating: 100%|██████████| 124/124 [00:02<00:00, 47.63it/s]\n"
     ]
    },
    {
     "name": "stdout",
     "output_type": "stream",
     "text": [
      "\n",
      "Epoch 268/300\n",
      "Train Loss: 0.1578, Train Acc: 0.9428\n",
      "Val Loss: 0.6775, Val Acc: 0.8596\n"
     ]
    },
    {
     "name": "stderr",
     "output_type": "stream",
     "text": [
      "Training: 100%|██████████| 436/436 [00:10<00:00, 42.16it/s]\n",
      "Evaluating: 100%|██████████| 124/124 [00:02<00:00, 47.81it/s]\n"
     ]
    },
    {
     "name": "stdout",
     "output_type": "stream",
     "text": [
      "\n",
      "Epoch 269/300\n",
      "Train Loss: 0.1581, Train Acc: 0.9423\n",
      "Val Loss: 0.6775, Val Acc: 0.8596\n"
     ]
    },
    {
     "name": "stderr",
     "output_type": "stream",
     "text": [
      "Training: 100%|██████████| 436/436 [00:10<00:00, 42.34it/s]\n",
      "Evaluating: 100%|██████████| 124/124 [00:02<00:00, 47.56it/s]\n"
     ]
    },
    {
     "name": "stdout",
     "output_type": "stream",
     "text": [
      "\n",
      "Epoch 270/300\n",
      "Train Loss: 0.1586, Train Acc: 0.9413\n",
      "Val Loss: 0.6775, Val Acc: 0.8596\n",
      "\n",
      "Validation Report:\n",
      "              precision    recall  f1-score   support\n",
      "\n",
      "      glioma       0.86      0.80      0.83      1208\n",
      "  meningioma       0.77      0.82      0.80       930\n",
      "        none       0.89      0.95      0.92       831\n",
      "   pituitary       0.91      0.89      0.90       992\n",
      "\n",
      "    accuracy                           0.86      3961\n",
      "   macro avg       0.86      0.87      0.86      3961\n",
      "weighted avg       0.86      0.86      0.86      3961\n",
      "\n"
     ]
    },
    {
     "name": "stderr",
     "output_type": "stream",
     "text": [
      "Training: 100%|██████████| 436/436 [00:10<00:00, 42.04it/s]\n",
      "Evaluating: 100%|██████████| 124/124 [00:02<00:00, 47.97it/s]\n"
     ]
    },
    {
     "name": "stdout",
     "output_type": "stream",
     "text": [
      "\n",
      "Epoch 271/300\n",
      "Train Loss: 0.1554, Train Acc: 0.9439\n",
      "Val Loss: 0.6774, Val Acc: 0.8596\n"
     ]
    },
    {
     "name": "stderr",
     "output_type": "stream",
     "text": [
      "Training: 100%|██████████| 436/436 [00:10<00:00, 42.80it/s]\n",
      "Evaluating: 100%|██████████| 124/124 [00:02<00:00, 47.81it/s]\n"
     ]
    },
    {
     "name": "stdout",
     "output_type": "stream",
     "text": [
      "\n",
      "Epoch 272/300\n",
      "Train Loss: 0.1540, Train Acc: 0.9437\n",
      "Val Loss: 0.6775, Val Acc: 0.8596\n"
     ]
    },
    {
     "name": "stderr",
     "output_type": "stream",
     "text": [
      "Training: 100%|██████████| 436/436 [00:10<00:00, 43.16it/s]\n",
      "Evaluating: 100%|██████████| 124/124 [00:02<00:00, 47.92it/s]\n"
     ]
    },
    {
     "name": "stdout",
     "output_type": "stream",
     "text": [
      "\n",
      "Epoch 273/300\n",
      "Train Loss: 0.1533, Train Acc: 0.9426\n",
      "Val Loss: 0.6775, Val Acc: 0.8596\n"
     ]
    },
    {
     "name": "stderr",
     "output_type": "stream",
     "text": [
      "Training: 100%|██████████| 436/436 [00:10<00:00, 42.88it/s]\n",
      "Evaluating: 100%|██████████| 124/124 [00:02<00:00, 47.14it/s]\n"
     ]
    },
    {
     "name": "stdout",
     "output_type": "stream",
     "text": [
      "\n",
      "Epoch 274/300\n",
      "Train Loss: 0.1548, Train Acc: 0.9432\n",
      "Val Loss: 0.6774, Val Acc: 0.8596\n"
     ]
    },
    {
     "name": "stderr",
     "output_type": "stream",
     "text": [
      "Training: 100%|██████████| 436/436 [00:10<00:00, 42.70it/s]\n",
      "Evaluating: 100%|██████████| 124/124 [00:02<00:00, 47.60it/s]\n"
     ]
    },
    {
     "name": "stdout",
     "output_type": "stream",
     "text": [
      "\n",
      "Epoch 275/300\n",
      "Train Loss: 0.1555, Train Acc: 0.9423\n",
      "Val Loss: 0.6774, Val Acc: 0.8596\n",
      "\n",
      "Validation Report:\n",
      "              precision    recall  f1-score   support\n",
      "\n",
      "      glioma       0.86      0.80      0.83      1208\n",
      "  meningioma       0.77      0.82      0.80       930\n",
      "        none       0.89      0.95      0.92       831\n",
      "   pituitary       0.91      0.89      0.90       992\n",
      "\n",
      "    accuracy                           0.86      3961\n",
      "   macro avg       0.86      0.87      0.86      3961\n",
      "weighted avg       0.86      0.86      0.86      3961\n",
      "\n"
     ]
    },
    {
     "name": "stderr",
     "output_type": "stream",
     "text": [
      "Training: 100%|██████████| 436/436 [00:10<00:00, 42.13it/s]\n",
      "Evaluating: 100%|██████████| 124/124 [00:02<00:00, 47.89it/s]\n"
     ]
    },
    {
     "name": "stdout",
     "output_type": "stream",
     "text": [
      "\n",
      "Epoch 276/300\n",
      "Train Loss: 0.1536, Train Acc: 0.9446\n",
      "Val Loss: 0.6774, Val Acc: 0.8596\n"
     ]
    },
    {
     "name": "stderr",
     "output_type": "stream",
     "text": [
      "Training: 100%|██████████| 436/436 [00:10<00:00, 42.53it/s]\n",
      "Evaluating: 100%|██████████| 124/124 [00:02<00:00, 47.73it/s]\n"
     ]
    },
    {
     "name": "stdout",
     "output_type": "stream",
     "text": [
      "\n",
      "Epoch 277/300\n",
      "Train Loss: 0.1564, Train Acc: 0.9441\n",
      "Val Loss: 0.6774, Val Acc: 0.8596\n"
     ]
    },
    {
     "name": "stderr",
     "output_type": "stream",
     "text": [
      "Training: 100%|██████████| 436/436 [00:10<00:00, 42.87it/s]\n",
      "Evaluating: 100%|██████████| 124/124 [00:02<00:00, 47.66it/s]\n"
     ]
    },
    {
     "name": "stdout",
     "output_type": "stream",
     "text": [
      "\n",
      "Epoch 278/300\n",
      "Train Loss: 0.1557, Train Acc: 0.9441\n",
      "Val Loss: 0.6774, Val Acc: 0.8596\n"
     ]
    },
    {
     "name": "stderr",
     "output_type": "stream",
     "text": [
      "Training: 100%|██████████| 436/436 [00:10<00:00, 42.99it/s]\n",
      "Evaluating: 100%|██████████| 124/124 [00:02<00:00, 48.08it/s]\n"
     ]
    },
    {
     "name": "stdout",
     "output_type": "stream",
     "text": [
      "\n",
      "Epoch 279/300\n",
      "Train Loss: 0.1598, Train Acc: 0.9412\n",
      "Val Loss: 0.6774, Val Acc: 0.8596\n"
     ]
    },
    {
     "name": "stderr",
     "output_type": "stream",
     "text": [
      "Training: 100%|██████████| 436/436 [00:10<00:00, 42.74it/s]\n",
      "Evaluating: 100%|██████████| 124/124 [00:02<00:00, 47.99it/s]\n"
     ]
    },
    {
     "name": "stdout",
     "output_type": "stream",
     "text": [
      "\n",
      "Epoch 280/300\n",
      "Train Loss: 0.1564, Train Acc: 0.9416\n",
      "Val Loss: 0.6774, Val Acc: 0.8596\n",
      "\n",
      "Validation Report:\n",
      "              precision    recall  f1-score   support\n",
      "\n",
      "      glioma       0.86      0.80      0.83      1208\n",
      "  meningioma       0.77      0.82      0.80       930\n",
      "        none       0.89      0.95      0.92       831\n",
      "   pituitary       0.91      0.89      0.90       992\n",
      "\n",
      "    accuracy                           0.86      3961\n",
      "   macro avg       0.86      0.87      0.86      3961\n",
      "weighted avg       0.86      0.86      0.86      3961\n",
      "\n"
     ]
    },
    {
     "name": "stderr",
     "output_type": "stream",
     "text": [
      "Training: 100%|██████████| 436/436 [00:10<00:00, 42.31it/s]\n",
      "Evaluating: 100%|██████████| 124/124 [00:02<00:00, 47.26it/s]\n"
     ]
    },
    {
     "name": "stdout",
     "output_type": "stream",
     "text": [
      "\n",
      "Epoch 281/300\n",
      "Train Loss: 0.1573, Train Acc: 0.9402\n",
      "Val Loss: 0.6774, Val Acc: 0.8596\n"
     ]
    },
    {
     "name": "stderr",
     "output_type": "stream",
     "text": [
      "Training: 100%|██████████| 436/436 [00:10<00:00, 42.39it/s]\n",
      "Evaluating: 100%|██████████| 124/124 [00:02<00:00, 47.60it/s]\n"
     ]
    },
    {
     "name": "stdout",
     "output_type": "stream",
     "text": [
      "\n",
      "Epoch 282/300\n",
      "Train Loss: 0.1505, Train Acc: 0.9431\n",
      "Val Loss: 0.6774, Val Acc: 0.8596\n"
     ]
    },
    {
     "name": "stderr",
     "output_type": "stream",
     "text": [
      "Training: 100%|██████████| 436/436 [00:10<00:00, 42.16it/s]\n",
      "Evaluating: 100%|██████████| 124/124 [00:02<00:00, 47.51it/s]\n"
     ]
    },
    {
     "name": "stdout",
     "output_type": "stream",
     "text": [
      "\n",
      "Epoch 283/300\n",
      "Train Loss: 0.1565, Train Acc: 0.9451\n",
      "Val Loss: 0.6774, Val Acc: 0.8596\n"
     ]
    },
    {
     "name": "stderr",
     "output_type": "stream",
     "text": [
      "Training: 100%|██████████| 436/436 [00:10<00:00, 42.45it/s]\n",
      "Evaluating: 100%|██████████| 124/124 [00:02<00:00, 47.78it/s]\n"
     ]
    },
    {
     "name": "stdout",
     "output_type": "stream",
     "text": [
      "\n",
      "Epoch 284/300\n",
      "Train Loss: 0.1604, Train Acc: 0.9426\n",
      "Val Loss: 0.6774, Val Acc: 0.8596\n"
     ]
    },
    {
     "name": "stderr",
     "output_type": "stream",
     "text": [
      "Training: 100%|██████████| 436/436 [00:10<00:00, 42.33it/s]\n",
      "Evaluating: 100%|██████████| 124/124 [00:02<00:00, 47.61it/s]\n"
     ]
    },
    {
     "name": "stdout",
     "output_type": "stream",
     "text": [
      "\n",
      "Epoch 285/300\n",
      "Train Loss: 0.1551, Train Acc: 0.9468\n",
      "Val Loss: 0.6774, Val Acc: 0.8596\n",
      "\n",
      "Validation Report:\n",
      "              precision    recall  f1-score   support\n",
      "\n",
      "      glioma       0.86      0.80      0.83      1208\n",
      "  meningioma       0.77      0.82      0.80       930\n",
      "        none       0.89      0.95      0.92       831\n",
      "   pituitary       0.91      0.89      0.90       992\n",
      "\n",
      "    accuracy                           0.86      3961\n",
      "   macro avg       0.86      0.87      0.86      3961\n",
      "weighted avg       0.86      0.86      0.86      3961\n",
      "\n"
     ]
    },
    {
     "name": "stderr",
     "output_type": "stream",
     "text": [
      "Training: 100%|██████████| 436/436 [00:10<00:00, 42.75it/s]\n",
      "Evaluating: 100%|██████████| 124/124 [00:02<00:00, 47.72it/s]\n"
     ]
    },
    {
     "name": "stdout",
     "output_type": "stream",
     "text": [
      "\n",
      "Epoch 286/300\n",
      "Train Loss: 0.1526, Train Acc: 0.9441\n",
      "Val Loss: 0.6774, Val Acc: 0.8596\n"
     ]
    },
    {
     "name": "stderr",
     "output_type": "stream",
     "text": [
      "Training: 100%|██████████| 436/436 [00:10<00:00, 42.25it/s]\n",
      "Evaluating: 100%|██████████| 124/124 [00:02<00:00, 47.66it/s]\n"
     ]
    },
    {
     "name": "stdout",
     "output_type": "stream",
     "text": [
      "\n",
      "Epoch 287/300\n",
      "Train Loss: 0.1572, Train Acc: 0.9427\n",
      "Val Loss: 0.6774, Val Acc: 0.8596\n"
     ]
    },
    {
     "name": "stderr",
     "output_type": "stream",
     "text": [
      "Training: 100%|██████████| 436/436 [00:10<00:00, 42.42it/s]\n",
      "Evaluating: 100%|██████████| 124/124 [00:02<00:00, 47.23it/s]\n"
     ]
    },
    {
     "name": "stdout",
     "output_type": "stream",
     "text": [
      "\n",
      "Epoch 288/300\n",
      "Train Loss: 0.1584, Train Acc: 0.9437\n",
      "Val Loss: 0.6774, Val Acc: 0.8596\n"
     ]
    },
    {
     "name": "stderr",
     "output_type": "stream",
     "text": [
      "Training: 100%|██████████| 436/436 [00:10<00:00, 42.52it/s]\n",
      "Evaluating: 100%|██████████| 124/124 [00:02<00:00, 47.49it/s]\n"
     ]
    },
    {
     "name": "stdout",
     "output_type": "stream",
     "text": [
      "\n",
      "Epoch 289/300\n",
      "Train Loss: 0.1586, Train Acc: 0.9416\n",
      "Val Loss: 0.6774, Val Acc: 0.8596\n"
     ]
    },
    {
     "name": "stderr",
     "output_type": "stream",
     "text": [
      "Training: 100%|██████████| 436/436 [00:10<00:00, 41.98it/s]\n",
      "Evaluating: 100%|██████████| 124/124 [00:02<00:00, 47.51it/s]\n"
     ]
    },
    {
     "name": "stdout",
     "output_type": "stream",
     "text": [
      "\n",
      "Epoch 290/300\n",
      "Train Loss: 0.1585, Train Acc: 0.9439\n",
      "Val Loss: 0.6774, Val Acc: 0.8596\n",
      "\n",
      "Validation Report:\n",
      "              precision    recall  f1-score   support\n",
      "\n",
      "      glioma       0.86      0.80      0.83      1208\n",
      "  meningioma       0.77      0.82      0.80       930\n",
      "        none       0.89      0.95      0.92       831\n",
      "   pituitary       0.91      0.89      0.90       992\n",
      "\n",
      "    accuracy                           0.86      3961\n",
      "   macro avg       0.86      0.87      0.86      3961\n",
      "weighted avg       0.86      0.86      0.86      3961\n",
      "\n"
     ]
    },
    {
     "name": "stderr",
     "output_type": "stream",
     "text": [
      "Training: 100%|██████████| 436/436 [00:10<00:00, 42.81it/s]\n",
      "Evaluating: 100%|██████████| 124/124 [00:02<00:00, 47.27it/s]\n"
     ]
    },
    {
     "name": "stdout",
     "output_type": "stream",
     "text": [
      "\n",
      "Epoch 291/300\n",
      "Train Loss: 0.1613, Train Acc: 0.9403\n",
      "Val Loss: 0.6774, Val Acc: 0.8596\n"
     ]
    },
    {
     "name": "stderr",
     "output_type": "stream",
     "text": [
      "Training: 100%|██████████| 436/436 [00:10<00:00, 42.45it/s]\n",
      "Evaluating: 100%|██████████| 124/124 [00:02<00:00, 47.63it/s]\n"
     ]
    },
    {
     "name": "stdout",
     "output_type": "stream",
     "text": [
      "\n",
      "Epoch 292/300\n",
      "Train Loss: 0.1558, Train Acc: 0.9431\n",
      "Val Loss: 0.6774, Val Acc: 0.8596\n"
     ]
    },
    {
     "name": "stderr",
     "output_type": "stream",
     "text": [
      "Training: 100%|██████████| 436/436 [00:10<00:00, 42.49it/s]\n",
      "Evaluating: 100%|██████████| 124/124 [00:02<00:00, 47.35it/s]\n"
     ]
    },
    {
     "name": "stdout",
     "output_type": "stream",
     "text": [
      "\n",
      "Epoch 293/300\n",
      "Train Loss: 0.1567, Train Acc: 0.9420\n",
      "Val Loss: 0.6774, Val Acc: 0.8596\n"
     ]
    },
    {
     "name": "stderr",
     "output_type": "stream",
     "text": [
      "Training: 100%|██████████| 436/436 [00:10<00:00, 41.86it/s]\n",
      "Evaluating: 100%|██████████| 124/124 [00:02<00:00, 47.50it/s]\n"
     ]
    },
    {
     "name": "stdout",
     "output_type": "stream",
     "text": [
      "\n",
      "Epoch 294/300\n",
      "Train Loss: 0.1564, Train Acc: 0.9424\n",
      "Val Loss: 0.6774, Val Acc: 0.8596\n"
     ]
    },
    {
     "name": "stderr",
     "output_type": "stream",
     "text": [
      "Training: 100%|██████████| 436/436 [00:10<00:00, 42.48it/s]\n",
      "Evaluating: 100%|██████████| 124/124 [00:02<00:00, 46.57it/s]\n"
     ]
    },
    {
     "name": "stdout",
     "output_type": "stream",
     "text": [
      "\n",
      "Epoch 295/300\n",
      "Train Loss: 0.1557, Train Acc: 0.9431\n",
      "Val Loss: 0.6774, Val Acc: 0.8596\n",
      "\n",
      "Validation Report:\n",
      "              precision    recall  f1-score   support\n",
      "\n",
      "      glioma       0.86      0.80      0.83      1208\n",
      "  meningioma       0.77      0.82      0.80       930\n",
      "        none       0.89      0.95      0.92       831\n",
      "   pituitary       0.91      0.89      0.90       992\n",
      "\n",
      "    accuracy                           0.86      3961\n",
      "   macro avg       0.86      0.87      0.86      3961\n",
      "weighted avg       0.86      0.86      0.86      3961\n",
      "\n"
     ]
    },
    {
     "name": "stderr",
     "output_type": "stream",
     "text": [
      "Training: 100%|██████████| 436/436 [00:10<00:00, 41.83it/s]\n",
      "Evaluating: 100%|██████████| 124/124 [00:02<00:00, 46.51it/s]\n"
     ]
    },
    {
     "name": "stdout",
     "output_type": "stream",
     "text": [
      "\n",
      "Epoch 296/300\n",
      "Train Loss: 0.1571, Train Acc: 0.9410\n",
      "Val Loss: 0.6774, Val Acc: 0.8596\n"
     ]
    },
    {
     "name": "stderr",
     "output_type": "stream",
     "text": [
      "Training: 100%|██████████| 436/436 [00:10<00:00, 42.10it/s]\n",
      "Evaluating: 100%|██████████| 124/124 [00:02<00:00, 46.64it/s]\n"
     ]
    },
    {
     "name": "stdout",
     "output_type": "stream",
     "text": [
      "\n",
      "Epoch 297/300\n",
      "Train Loss: 0.1610, Train Acc: 0.9402\n",
      "Val Loss: 0.6774, Val Acc: 0.8596\n"
     ]
    },
    {
     "name": "stderr",
     "output_type": "stream",
     "text": [
      "Training: 100%|██████████| 436/436 [00:10<00:00, 41.26it/s]\n",
      "Evaluating: 100%|██████████| 124/124 [00:02<00:00, 46.80it/s]\n"
     ]
    },
    {
     "name": "stdout",
     "output_type": "stream",
     "text": [
      "\n",
      "Epoch 298/300\n",
      "Train Loss: 0.1542, Train Acc: 0.9420\n",
      "Val Loss: 0.6774, Val Acc: 0.8596\n"
     ]
    },
    {
     "name": "stderr",
     "output_type": "stream",
     "text": [
      "Training: 100%|██████████| 436/436 [00:10<00:00, 42.21it/s]\n",
      "Evaluating: 100%|██████████| 124/124 [00:02<00:00, 46.69it/s]\n"
     ]
    },
    {
     "name": "stdout",
     "output_type": "stream",
     "text": [
      "\n",
      "Epoch 299/300\n",
      "Train Loss: 0.1574, Train Acc: 0.9421\n",
      "Val Loss: 0.6774, Val Acc: 0.8596\n"
     ]
    },
    {
     "name": "stderr",
     "output_type": "stream",
     "text": [
      "Training: 100%|██████████| 436/436 [00:10<00:00, 42.62it/s]\n",
      "Evaluating: 100%|██████████| 124/124 [00:02<00:00, 46.68it/s]\n"
     ]
    },
    {
     "name": "stdout",
     "output_type": "stream",
     "text": [
      "\n",
      "Epoch 300/300\n",
      "Train Loss: 0.1545, Train Acc: 0.9433\n",
      "Val Loss: 0.6774, Val Acc: 0.8596\n",
      "\n",
      "Validation Report:\n",
      "              precision    recall  f1-score   support\n",
      "\n",
      "      glioma       0.86      0.80      0.83      1208\n",
      "  meningioma       0.77      0.82      0.80       930\n",
      "        none       0.89      0.95      0.92       831\n",
      "   pituitary       0.91      0.89      0.90       992\n",
      "\n",
      "    accuracy                           0.86      3961\n",
      "   macro avg       0.86      0.87      0.86      3961\n",
      "weighted avg       0.86      0.86      0.86      3961\n",
      "\n",
      "\n",
      "Loading best model for final evaluation...\n"
     ]
    },
    {
     "name": "stderr",
     "output_type": "stream",
     "text": [
      "Evaluating: 100%|██████████| 124/124 [00:02<00:00, 47.07it/s]"
     ]
    },
    {
     "name": "stdout",
     "output_type": "stream",
     "text": [
      "\n",
      "Final Test Results:\n",
      "Test Accuracy: 0.8601\n",
      "\n",
      "Detailed Classification Report:\n",
      "              precision    recall  f1-score   support\n",
      "\n",
      "      glioma       0.86      0.80      0.83      1208\n",
      "  meningioma       0.77      0.82      0.80       930\n",
      "        none       0.89      0.95      0.92       831\n",
      "   pituitary       0.92      0.89      0.90       992\n",
      "\n",
      "    accuracy                           0.86      3961\n",
      "   macro avg       0.86      0.87      0.86      3961\n",
      "weighted avg       0.86      0.86      0.86      3961\n",
      "\n"
     ]
    },
    {
     "name": "stderr",
     "output_type": "stream",
     "text": [
      "\n"
     ]
    }
   ],
   "source": [
    "def train_epoch(model, loader, criterion, optimizer, device):\n",
    "    model.train()\n",
    "    running_loss = 0.0\n",
    "    all_preds = []\n",
    "    all_labels = []\n",
    "    \n",
    "    for images, labels in tqdm(loader, desc='Training'):\n",
    "        images = images.to(device)\n",
    "        labels = labels.to(device)\n",
    "        \n",
    "        # Forward pass\n",
    "        outputs = model(images)\n",
    "        loss = criterion(outputs, labels)\n",
    "        \n",
    "        # Backward pass and optimize\n",
    "        optimizer.zero_grad()\n",
    "        loss.backward()\n",
    "        optimizer.step()\n",
    "        \n",
    "        # Track metrics\n",
    "        running_loss += loss.item()\n",
    "        preds = torch.argmax(outputs, dim=1)\n",
    "        all_preds.extend(preds.cpu().numpy())\n",
    "        all_labels.extend(labels.cpu().numpy())\n",
    "    \n",
    "    # Compute epoch metrics\n",
    "    epoch_loss = running_loss / len(loader)\n",
    "    epoch_acc = accuracy_score(all_labels, all_preds)\n",
    "    \n",
    "    return epoch_loss, epoch_acc\n",
    "\n",
    "# First, store the class names before creating the subsets\n",
    "original_train_dataset = datasets.ImageFolder(TRAIN_DIR)\n",
    "class_names = original_train_dataset.classes\n",
    "\n",
    "# Now modify the evaluate function\n",
    "def evaluate(model, loader, criterion, device):\n",
    "    model.eval()\n",
    "    running_loss = 0.0\n",
    "    all_preds = []\n",
    "    all_labels = []\n",
    "    \n",
    "    with torch.no_grad():\n",
    "        for images, labels in tqdm(loader, desc='Evaluating'):\n",
    "            images = images.to(device)\n",
    "            labels = labels.to(device)\n",
    "            \n",
    "            outputs = model(images)\n",
    "            loss = criterion(outputs, labels)\n",
    "            \n",
    "            running_loss += loss.item()\n",
    "            preds = torch.argmax(outputs, dim=1)\n",
    "            all_preds.extend(preds.cpu().numpy())\n",
    "            all_labels.extend(labels.cpu().numpy())\n",
    "    \n",
    "    # Compute metrics\n",
    "    avg_loss = running_loss / len(loader)\n",
    "    accuracy = accuracy_score(all_labels, all_preds)\n",
    "    report = classification_report(all_labels, all_preds, \n",
    "                                target_names=class_names)  # Use the stored class_names here\n",
    "    \n",
    "    return avg_loss, accuracy, report\n",
    "\n",
    "# Define number of epochs\n",
    "num_epochs = 300  # Set an appropriate number of epochs\n",
    "\n",
    "# The rest of your training loop remains unchanged\n",
    "best_acc = 0.0\n",
    "\n",
    "train_losses = []\n",
    "train_accs = []\n",
    "val_losses = []\n",
    "val_accs = []\n",
    "\n",
    "for epoch in range(1, num_epochs + 1):\n",
    "    # Training phase\n",
    "    train_loss, train_acc = train_epoch(model, train_loader, criterion, \n",
    "                                      optimizer, device)\n",
    "    train_losses.append(train_loss)\n",
    "    train_accs.append(train_acc)\n",
    "\n",
    "    # Evaluation phase\n",
    "    val_loss, val_acc, val_report = evaluate(model, test_loader, criterion, device)\n",
    "    val_losses.append(val_loss)\n",
    "    val_accs.append(val_acc)\n",
    "\n",
    "    # Learning rate scheduling\n",
    "    scheduler.step(val_acc)\n",
    "    \n",
    "    # Save best model\n",
    "    if val_acc > best_acc:\n",
    "        best_acc = val_acc\n",
    "        torch.save(model.state_dict(), 'kan_best_model.pth')\n",
    "\n",
    "    # Print epoch results\n",
    "    print(f\"\\nEpoch {epoch}/{num_epochs}\")\n",
    "    print(f\"Train Loss: {train_loss:.4f}, Train Acc: {train_acc:.4f}\")\n",
    "    print(f\"Val Loss: {val_loss:.4f}, Val Acc: {val_acc:.4f}\")\n",
    "    \n",
    "    # Print detailed validation report every 5 epochs\n",
    "    if epoch % 5 == 0:\n",
    "        print(\"\\nValidation Report:\")\n",
    "        print(val_report)\n",
    "\n",
    "# Final evaluation\n",
    "print(\"\\nLoading best model for final evaluation...\")\n",
    "model.load_state_dict(torch.load('kan_best_model.pth'))\n",
    "test_loss, test_acc, test_report = evaluate(model, test_loader, criterion, device)\n",
    "\n",
    "print(\"\\nFinal Test Results:\")\n",
    "print(f\"Test Accuracy: {test_acc:.4f}\")\n",
    "print(\"\\nDetailed Classification Report:\")\n",
    "print(test_report)"
   ]
  },
  {
   "cell_type": "code",
   "execution_count": 9,
   "id": "9bebc254",
   "metadata": {},
   "outputs": [
    {
     "name": "stdout",
     "output_type": "stream",
     "text": [
      "Total trainable parameters: 22,182\n",
      "\n",
      "Parameter distribution by module:\n",
      "input_proj: 128 parameters (0.58%)\n",
      "block1: 3,105 parameters (14.00%)\n",
      "block2: 10,305 parameters (46.46%)\n",
      "classifier: 8,644 parameters (38.97%)\n"
     ]
    }
   ],
   "source": [
    "def count_parameters(model):\n",
    "    \"\"\"Count the total number of trainable parameters in the model\"\"\"\n",
    "    return sum(p.numel() for p in model.parameters() if p.requires_grad)\n",
    "\n",
    "# Count parameters\n",
    "total_params = count_parameters(model)\n",
    "print(f\"Total trainable parameters: {total_params:,}\")\n",
    "\n",
    "# Display parameter distribution by module\n",
    "param_sizes = {}\n",
    "for name, param in model.named_parameters():\n",
    "    if param.requires_grad:\n",
    "        module_name = name.split('.')[0]\n",
    "        if module_name not in param_sizes:\n",
    "            param_sizes[module_name] = 0\n",
    "        param_sizes[module_name] += param.numel()\n",
    "\n",
    "print(\"\\nParameter distribution by module:\")\n",
    "for module_name, param_count in param_sizes.items():\n",
    "    percentage = 100 * param_count / total_params\n",
    "    print(f\"{module_name}: {param_count:,} parameters ({percentage:.2f}%)\")"
   ]
  },
  {
   "cell_type": "code",
   "execution_count": 10,
   "id": "5e6b2b96",
   "metadata": {},
   "outputs": [
    {
     "data": {
      "image/png": "[encoded data removed]",
      "text/plain": [
       "<Figure size 1200x500 with 2 Axes>"
      ]
     },
     "metadata": {},
     "output_type": "display_data"
    }
   ],
   "source": [
    "import matplotlib.pyplot as plt\n",
    "\n",
    "# Modify the training loop to store metrics\n",
    "# train_losses = []\n",
    "# train_accs = []\n",
    "# val_losses = []\n",
    "# val_accs = []\n",
    "\n",
    "# for epoch in range(1, num_epochs + 1):\n",
    "#     # Training phase\n",
    "#     train_loss, train_acc = train_epoch(model, train_loader, criterion, optimizer, device)\n",
    "#     train_losses.append(train_loss)\n",
    "#     train_accs.append(train_acc)\n",
    "    \n",
    "#     # Evaluation phase\n",
    "#     val_loss, val_acc, val_report = evaluate(model, test_loader, criterion, device)\n",
    "#     val_losses.append(val_loss)\n",
    "#     val_accs.append(val_acc)\n",
    "\n",
    "# Plotting\n",
    "plt.figure(figsize=(12, 5))\n",
    "\n",
    "# Plot Loss\n",
    "plt.subplot(1, 2, 1)\n",
    "plt.plot(range(1, num_epochs + 1), train_losses, 'b-', label='Training Loss')\n",
    "plt.plot(range(1, num_epochs + 1), val_losses, 'r-', label='Validation Loss')\n",
    "plt.xlabel('Epochs')\n",
    "plt.ylabel('Loss')\n",
    "plt.title('Training and Validation Loss')\n",
    "plt.legend()\n",
    "plt.grid(True)\n",
    "\n",
    "# Plot Accuracy\n",
    "plt.subplot(1, 2, 2)\n",
    "plt.plot(range(1, num_epochs + 1), train_accs, 'b-', label='Training Accuracy')\n",
    "plt.plot(range(1, num_epochs + 1), val_accs, 'r-', label='Validation Accuracy')\n",
    "plt.xlabel('Epochs')\n",
    "plt.ylabel('Accuracy')\n",
    "plt.title('Training and Validation Accuracy')\n",
    "plt.legend()\n",
    "plt.grid(True)\n",
    "\n",
    "plt.tight_layout()\n",
    "plt.show()"
   ]
  }
 ],
 "metadata": {
  "kernelspec": {
   "display_name": "thesis",
   "language": "python",
   "name": "python3"
  },
  "language_info": {
   "codemirror_mode": {
    "name": "ipython",
    "version": 3
   },
   "file_extension": ".py",
   "mimetype": "text/x-python",
   "name": "python",
   "nbconvert_exporter": "python",
   "pygments_lexer": "ipython3",
   "version": "3.11.12"
  }
 },
 "nbformat": 4,
 "nbformat_minor": 5
}
