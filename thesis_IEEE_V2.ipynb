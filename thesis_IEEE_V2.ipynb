{
 "cells": [
  {
   "cell_type": "markdown",
   "id": "4b9b4d82",
   "metadata": {},
   "source": [
    "# KAN: Kolmogorov–Arnold Networks With Resnet18\n",
    "\n",
    "Implementation of KAN architecture with proper feature extraction and attention mechanisms for MRI image analysis."
   ]
  },
  {
   "cell_type": "markdown",
   "id": "f0f09379",
   "metadata": {},
   "source": [
    "## 1. Import Dependencies\n",
    "\n",
    "Import required libraries and modules for implementing KAN."
   ]
  },
  {
   "cell_type": "code",
   "execution_count": 1,
   "id": "c175f404",
   "metadata": {},
   "outputs": [],
   "source": [
    "import os\n",
    "import torch\n",
    "import torch.nn as nn\n",
    "import torch.nn.functional as F\n",
    "from torch.utils.data import DataLoader\n",
    "from torchvision import datasets, transforms, models\n",
    "from tqdm import tqdm\n",
    "import numpy as np\n",
    "from sklearn.metrics import accuracy_score, classification_report"
   ]
  },
  {
   "cell_type": "markdown",
   "id": "f8335a57",
   "metadata": {},
   "source": [
    "## 2. Data Loading and Preprocessing\n",
    "\n",
    "Setup data pipelines with proper transforms for MRI images."
   ]
  },
  {
   "cell_type": "code",
   "execution_count": 2,
   "id": "e1f4fea5",
   "metadata": {},
   "outputs": [
    {
     "name": "stdout",
     "output_type": "stream",
     "text": [
      "Number of classes: 4\n",
      "Training samples: 13927\n",
      "Testing samples:  3961\n"
     ]
    }
   ],
   "source": [
    "# Data directories\n",
    "TRAIN_DIR = \"/home/mhs/thesis/Brain MRI ND-5 Dataset/Training\"\n",
    "TEST_DIR  = \"/home/mhs/thesis/Brain MRI ND-5 Dataset/Testing\"\n",
    "\n",
    "# Define image transformations\n",
    "transform = transforms.Compose([\n",
    "    transforms.Grayscale(num_output_channels=1),  # Convert to grayscale\n",
    "    transforms.Resize((224, 224)),                # Resize for backbone\n",
    "    transforms.ToTensor(),                        # Convert to tensor\n",
    "    transforms.Lambda(lambda x: x.repeat(3, 1, 1)),  # Repeat grayscale to 3 channels\n",
    "    transforms.Normalize(mean=[0.485, 0.456, 0.406],\n",
    "                       std=[0.229, 0.224, 0.225])   # ImageNet normalization\n",
    "])\n",
    "\n",
    "# Create datasets\n",
    "train_dataset = datasets.ImageFolder(TRAIN_DIR, transform=transform)\n",
    "test_dataset  = datasets.ImageFolder(TEST_DIR,  transform=transform)\n",
    "\n",
    "# Create dataloaders\n",
    "batch_size = 32\n",
    "train_loader = DataLoader(train_dataset, batch_size=batch_size, shuffle=True,\n",
    "                         num_workers=4, pin_memory=True)\n",
    "test_loader  = DataLoader(test_dataset,  batch_size=batch_size, shuffle=False,\n",
    "                         num_workers=4, pin_memory=True)\n",
    "\n",
    "num_classes = len(train_dataset.classes)\n",
    "print(f\"Number of classes: {num_classes}\")\n",
    "print(f\"Training samples: {len(train_dataset)}\")\n",
    "print(f\"Testing samples:  {len(test_dataset)}\")"
   ]
  },
  {
   "cell_type": "markdown",
   "id": "8e755938",
   "metadata": {},
   "source": [
    "## 3. Define KAN Architecture\n",
    "\n",
    "Implement the Kernel Attention Network model with proper feature extraction."
   ]
  },
  {
   "cell_type": "code",
   "execution_count": null,
   "id": "b481ec27",
   "metadata": {},
   "outputs": [],
   "source": [
    "# class KernelAttention(nn.Module):\n",
    "#     def __init__(self, in_dim, kernel_size=7):\n",
    "#         super().__init__()\n",
    "#         self.conv = nn.Conv2d(in_dim, in_dim, kernel_size=kernel_size, \n",
    "#                              padding=kernel_size//2, groups=in_dim)\n",
    "#         self.spatial_gate = nn.Sequential(\n",
    "#             nn.Conv2d(in_dim, 1, kernel_size=1),\n",
    "#             nn.Sigmoid()\n",
    "#         )\n",
    "        \n",
    "#     def forward(self, x):\n",
    "#         # Local feature aggregation\n",
    "#         local_feat = self.conv(x)\n",
    "#         # Generate attention weights\n",
    "#         attn = self.spatial_gate(local_feat)\n",
    "#         return x * attn\n",
    "\n",
    "# class KANModel(nn.Module):\n",
    "#     def __init__(self, num_classes, backbone='resnet18'):\n",
    "#         super().__init__()\n",
    "        \n",
    "#         # 1. Feature Extraction Backbone\n",
    "#         if backbone == 'resnet18':\n",
    "#             base = models.resnet18(pretrained=True)\n",
    "#             self.feature_dim = 512\n",
    "#         else:\n",
    "#             raise ValueError(f\"Unsupported backbone: {backbone}\")\n",
    "            \n",
    "#         # Remove the final FC layer\n",
    "#         self.features = nn.Sequential(*list(base.children())[:-2])\n",
    "        \n",
    "#         # 2. Kernel Attention Module\n",
    "#         self.attention = KernelAttention(self.feature_dim)\n",
    "        \n",
    "#         # 3. Global Average Pooling\n",
    "#         self.gap = nn.AdaptiveAvgPool2d(1)\n",
    "        \n",
    "#         # 4. Classifier\n",
    "#         self.classifier = nn.Sequential(\n",
    "#             nn.Linear(self.feature_dim, 256),\n",
    "#             nn.ReLU(inplace=True),\n",
    "#             nn.Dropout(0.5),\n",
    "#             nn.Linear(256, num_classes)\n",
    "#         )\n",
    "        \n",
    "#     def forward(self, x):\n",
    "#         # Extract features\n",
    "#         x = self.features(x)  # [B, 512, H', W']\n",
    "        \n",
    "#         # Apply kernel attention\n",
    "#         x = self.attention(x)\n",
    "        \n",
    "#         # Global average pooling\n",
    "#         x = self.gap(x)      # [B, 512, 1, 1]\n",
    "#         x = x.view(x.size(0), -1)  # [B, 512]\n",
    "        \n",
    "#         # Classification\n",
    "#         return self.classifier(x)"
   ]
  },
  {
   "cell_type": "code",
   "execution_count": 3,
   "id": "ccc125d8",
   "metadata": {},
   "outputs": [],
   "source": [
    "class BSpline(nn.Module):\n",
    "    \"\"\"B-spline implementation for KAN.\"\"\"\n",
    "    def __init__(self, in_dim, grid_size=5, degree=3):\n",
    "        super().__init__()\n",
    "        self.in_dim = in_dim\n",
    "        self.grid_size = grid_size\n",
    "        self.degree = degree\n",
    "        \n",
    "        # Learnable control points\n",
    "        self.control_points = nn.Parameter(torch.randn(in_dim, grid_size))\n",
    "        \n",
    "        # Fixed grid points from 0 to 1\n",
    "        self.register_buffer('grid', torch.linspace(0, 1, grid_size))\n",
    "        \n",
    "    def forward(self, x):\n",
    "        # x shape: [B, C, N]\n",
    "        B, C, N = x.shape\n",
    "        \n",
    "        # Normalize input to [0, 1]\n",
    "        x_norm = (x - x.min(dim=2, keepdim=True)[0]) / (x.max(dim=2, keepdim=True)[0] - x.min(dim=2, keepdim=True)[0] + 1e-8)\n",
    "        \n",
    "        # Initialize output tensor\n",
    "        out = torch.zeros_like(x)\n",
    "        \n",
    "        # Compute B-spline weights for each channel\n",
    "        for c in range(C):\n",
    "            # Expand grid for broadcasting\n",
    "            grid_expanded = self.grid.view(1, -1)  # [1, grid_size]\n",
    "            x_expanded = x_norm[:, c, :].unsqueeze(2)  # [B, N, 1]\n",
    "            \n",
    "            # Compute weights using RBF\n",
    "            weights = torch.exp(-((x_expanded - grid_expanded) ** 2) / 0.1)  # [B, N, grid_size]\n",
    "            weights = weights / (weights.sum(dim=2, keepdim=True) + 1e-8)\n",
    "            \n",
    "            # Apply weights to control points\n",
    "            out[:, c, :] = torch.matmul(weights, self.control_points[c].unsqueeze(1)).squeeze(2)\n",
    "            \n",
    "        return out\n",
    "\n",
    "class KANAttention(nn.Module):\n",
    "    def __init__(self, in_dim, grid_size=5, degree=3):\n",
    "        super().__init__()\n",
    "        self.in_dim = in_dim\n",
    "        \n",
    "        # Modified KAN layer\n",
    "        self.spline = BSpline(in_dim, grid_size, degree)\n",
    "        self.attention_conv = nn.Conv1d(in_dim, 1, 1)\n",
    "        self.activation = nn.Sigmoid()\n",
    "\n",
    "    def forward(self, x):\n",
    "        # x: [B, C, H, W]\n",
    "        B, C, H, W = x.shape\n",
    "        \n",
    "        # Reshape to [B, C, H*W]\n",
    "        x_flat = x.view(B, C, -1)\n",
    "        \n",
    "        # Apply B-spline transformation\n",
    "        x_spline = self.spline(x_flat)\n",
    "        \n",
    "        # Generate attention weights\n",
    "        attn = self.attention_conv(x_spline)  # [B, 1, H*W]\n",
    "        attn = self.activation(attn)\n",
    "        \n",
    "        # Reshape attention back to spatial dimensions\n",
    "        attn = attn.view(B, 1, H, W)\n",
    "        \n",
    "        # Apply attention\n",
    "        return x * attn.expand_as(x)"
   ]
  },
  {
   "cell_type": "code",
   "execution_count": 5,
   "id": "70488363",
   "metadata": {},
   "outputs": [],
   "source": [
    "class KANModel(nn.Module):\n",
    "    def __init__(self, num_classes, backbone='resnet18'):\n",
    "        super().__init__()\n",
    "        \n",
    "        # 1. Feature Extraction Backbone\n",
    "        if backbone == 'resnet18':\n",
    "            base = models.resnet18(pretrained=True)\n",
    "            self.feature_dim = 512\n",
    "        else:\n",
    "            raise ValueError(f\"Unsupported backbone: {backbone}\")\n",
    "            \n",
    "        # Remove final FC layer and keep feature extractor\n",
    "        self.features = nn.Sequential(*list(base.children())[:-2])\n",
    "        \n",
    "        # 2. KAN Attention Module\n",
    "        self.attention = KANAttention(self.feature_dim)\n",
    "        \n",
    "        # 3. Global Average Pooling\n",
    "        self.gap = nn.AdaptiveAvgPool2d(1)\n",
    "        \n",
    "        # 4. Final Classifier\n",
    "        self.classifier = nn.Sequential(\n",
    "            nn.Linear(self.feature_dim, 256),\n",
    "            nn.BatchNorm1d(256),\n",
    "            nn.ReLU(inplace=True),\n",
    "            nn.Dropout(0.5),\n",
    "            nn.Linear(256, num_classes)\n",
    "        )\n",
    "        \n",
    "    def forward(self, x):\n",
    "        # Feature extraction\n",
    "        x = self.features(x)  # [B, 512, H', W']\n",
    "        \n",
    "        # Apply KAN attention\n",
    "        x = self.attention(x)\n",
    "        \n",
    "        # Global average pooling\n",
    "        x = self.gap(x)      # [B, 512, 1, 1]\n",
    "        x = x.view(x.size(0), -1)  # [B, 512]\n",
    "        \n",
    "        # Classification\n",
    "        return self.classifier(x)"
   ]
  },
  {
   "cell_type": "markdown",
   "id": "cf2c6802",
   "metadata": {},
   "source": [
    "## 4. Training Configuration\n",
    "\n",
    "Setup training parameters and optimization configuration."
   ]
  },
  {
   "cell_type": "code",
   "execution_count": 6,
   "id": "fbbcdfdf",
   "metadata": {},
   "outputs": [
    {
     "name": "stdout",
     "output_type": "stream",
     "text": [
      "Using device: cuda\n"
     ]
    },
    {
     "name": "stderr",
     "output_type": "stream",
     "text": [
      "/home/mhs/miniforge3/envs/thesis/lib/python3.11/site-packages/torchvision/models/_utils.py:208: UserWarning: The parameter 'pretrained' is deprecated since 0.13 and may be removed in the future, please use 'weights' instead.\n",
      "  warnings.warn(\n",
      "/home/mhs/miniforge3/envs/thesis/lib/python3.11/site-packages/torchvision/models/_utils.py:223: UserWarning: Arguments other than a weight enum or `None` for 'weights' are deprecated since 0.13 and may be removed in the future. The current behavior is equivalent to passing `weights=ResNet18_Weights.IMAGENET1K_V1`. You can also use `weights=ResNet18_Weights.DEFAULT` to get the most up-to-date weights.\n",
      "  warnings.warn(msg)\n"
     ]
    }
   ],
   "source": [
    "# Device configuration\n",
    "device = torch.device('cuda' if torch.cuda.is_available() else 'cpu')\n",
    "print(f\"Using device: {device}\")\n",
    "\n",
    "# Initialize model\n",
    "model = KANModel(num_classes=num_classes).to(device)\n",
    "\n",
    "# Loss function and optimizer\n",
    "criterion = nn.CrossEntropyLoss()\n",
    "optimizer = torch.optim.Adam(model.parameters(), lr=1e-4, weight_decay=1e-4)\n",
    "\n",
    "# Learning rate scheduler (removed verbose parameter)\n",
    "scheduler = torch.optim.lr_scheduler.ReduceLROnPlateau(\n",
    "    optimizer, \n",
    "    mode='max',\n",
    "    factor=0.5,\n",
    "    patience=5\n",
    ")"
   ]
  },
  {
   "cell_type": "markdown",
   "id": "409394b9",
   "metadata": {},
   "source": [
    "## 5. Training and Evaluation Loop\n",
    "\n",
    "Implement the main training loop with evaluation metrics."
   ]
  },
  {
   "cell_type": "code",
   "execution_count": 7,
   "id": "ed0bca2d",
   "metadata": {},
   "outputs": [
    {
     "name": "stderr",
     "output_type": "stream",
     "text": [
      "Training: 100%|██████████| 436/436 [01:56<00:00,  3.74it/s]\n",
      "Evaluating: 100%|██████████| 124/124 [00:07<00:00, 16.10it/s]\n"
     ]
    },
    {
     "name": "stdout",
     "output_type": "stream",
     "text": [
      "\n",
      "Epoch 1/10\n",
      "Train Loss: 0.2299, Train Acc: 0.9281\n",
      "Val Loss: 0.1662, Val Acc: 0.9578\n"
     ]
    },
    {
     "name": "stderr",
     "output_type": "stream",
     "text": [
      "Training: 100%|██████████| 436/436 [02:06<00:00,  3.45it/s] \n",
      "Evaluating: 100%|██████████| 124/124 [00:15<00:00,  8.18it/s]\n"
     ]
    },
    {
     "name": "stdout",
     "output_type": "stream",
     "text": [
      "\n",
      "Epoch 2/10\n",
      "Train Loss: 0.0605, Train Acc: 0.9846\n",
      "Val Loss: 0.2100, Val Acc: 0.9488\n"
     ]
    },
    {
     "name": "stderr",
     "output_type": "stream",
     "text": [
      "Training: 100%|██████████| 436/436 [02:59<00:00,  2.42it/s] \n",
      "Evaluating: 100%|██████████| 124/124 [00:13<00:00,  9.05it/s]\n"
     ]
    },
    {
     "name": "stdout",
     "output_type": "stream",
     "text": [
      "\n",
      "Epoch 3/10\n",
      "Train Loss: 0.0453, Train Acc: 0.9872\n",
      "Val Loss: 0.1672, Val Acc: 0.9631\n"
     ]
    },
    {
     "name": "stderr",
     "output_type": "stream",
     "text": [
      "Training: 100%|██████████| 436/436 [03:03<00:00,  2.38it/s] \n",
      "Evaluating: 100%|██████████| 124/124 [00:15<00:00,  8.19it/s]\n"
     ]
    },
    {
     "name": "stdout",
     "output_type": "stream",
     "text": [
      "\n",
      "Epoch 4/10\n",
      "Train Loss: 0.0329, Train Acc: 0.9920\n",
      "Val Loss: 0.1307, Val Acc: 0.9720\n"
     ]
    },
    {
     "name": "stderr",
     "output_type": "stream",
     "text": [
      "Training: 100%|██████████| 436/436 [02:59<00:00,  2.43it/s] \n",
      "Evaluating: 100%|██████████| 124/124 [00:14<00:00,  8.51it/s]\n"
     ]
    },
    {
     "name": "stdout",
     "output_type": "stream",
     "text": [
      "\n",
      "Epoch 5/10\n",
      "Train Loss: 0.0232, Train Acc: 0.9938\n",
      "Val Loss: 0.1708, Val Acc: 0.9634\n",
      "\n",
      "Validation Report:\n",
      "              precision    recall  f1-score   support\n",
      "\n",
      "      glioma       0.99      0.91      0.95      1208\n",
      "  meningioma       0.93      0.98      0.95       930\n",
      "        none       0.94      0.99      0.97       831\n",
      "   pituitary       0.98      0.98      0.98       992\n",
      "\n",
      "    accuracy                           0.96      3961\n",
      "   macro avg       0.96      0.97      0.96      3961\n",
      "weighted avg       0.96      0.96      0.96      3961\n",
      "\n"
     ]
    },
    {
     "name": "stderr",
     "output_type": "stream",
     "text": [
      "Training: 100%|██████████| 436/436 [03:45<00:00,  1.93it/s]\n",
      "Evaluating: 100%|██████████| 124/124 [-1:59:15<00:00, -2.71it/s]\n"
     ]
    },
    {
     "name": "stdout",
     "output_type": "stream",
     "text": [
      "\n",
      "Epoch 6/10\n",
      "Train Loss: 0.0190, Train Acc: 0.9949\n",
      "Val Loss: 0.1992, Val Acc: 0.9626\n"
     ]
    },
    {
     "name": "stderr",
     "output_type": "stream",
     "text": [
      "Training: 100%|██████████| 436/436 [01:53<00:00,  3.85it/s] \n",
      "Evaluating: 100%|██████████| 124/124 [00:07<00:00, 15.79it/s]\n"
     ]
    },
    {
     "name": "stdout",
     "output_type": "stream",
     "text": [
      "\n",
      "Epoch 7/10\n",
      "Train Loss: 0.0212, Train Acc: 0.9942\n",
      "Val Loss: 0.1688, Val Acc: 0.9647\n"
     ]
    },
    {
     "name": "stderr",
     "output_type": "stream",
     "text": [
      "Training: 100%|██████████| 436/436 [01:53<00:00,  3.84it/s] \n",
      "Evaluating: 100%|██████████| 124/124 [00:07<00:00, 16.64it/s]\n"
     ]
    },
    {
     "name": "stdout",
     "output_type": "stream",
     "text": [
      "\n",
      "Epoch 8/10\n",
      "Train Loss: 0.0191, Train Acc: 0.9948\n",
      "Val Loss: 0.1798, Val Acc: 0.9662\n"
     ]
    },
    {
     "name": "stderr",
     "output_type": "stream",
     "text": [
      "Training: 100%|██████████| 436/436 [01:53<00:00,  3.83it/s]\n",
      "Evaluating: 100%|██████████| 124/124 [00:07<00:00, 17.13it/s]\n"
     ]
    },
    {
     "name": "stdout",
     "output_type": "stream",
     "text": [
      "\n",
      "Epoch 9/10\n",
      "Train Loss: 0.0142, Train Acc: 0.9962\n",
      "Val Loss: 0.1863, Val Acc: 0.9669\n"
     ]
    },
    {
     "name": "stderr",
     "output_type": "stream",
     "text": [
      "Training: 100%|██████████| 436/436 [01:53<00:00,  3.85it/s] \n",
      "Evaluating: 100%|██████████| 124/124 [00:07<00:00, 16.78it/s]\n"
     ]
    },
    {
     "name": "stdout",
     "output_type": "stream",
     "text": [
      "\n",
      "Epoch 10/10\n",
      "Train Loss: 0.0176, Train Acc: 0.9953\n",
      "Val Loss: 0.1705, Val Acc: 0.9647\n",
      "\n",
      "Validation Report:\n",
      "              precision    recall  f1-score   support\n",
      "\n",
      "      glioma       0.99      0.93      0.96      1208\n",
      "  meningioma       0.93      0.98      0.95       930\n",
      "        none       0.95      1.00      0.97       831\n",
      "   pituitary       0.99      0.97      0.98       992\n",
      "\n",
      "    accuracy                           0.96      3961\n",
      "   macro avg       0.96      0.97      0.97      3961\n",
      "weighted avg       0.97      0.96      0.96      3961\n",
      "\n",
      "\n",
      "Loading best model for final evaluation...\n"
     ]
    },
    {
     "name": "stderr",
     "output_type": "stream",
     "text": [
      "Evaluating: 100%|██████████| 124/124 [00:07<00:00, 15.86it/s]"
     ]
    },
    {
     "name": "stdout",
     "output_type": "stream",
     "text": [
      "\n",
      "Final Test Results:\n",
      "Test Accuracy: 0.8346\n",
      "\n",
      "Detailed Classification Report:\n",
      "              precision    recall  f1-score   support\n",
      "\n",
      "      glioma       0.94      0.55      0.70      1208\n",
      "  meningioma       0.92      0.92      0.92       930\n",
      "        none       0.61      1.00      0.76       831\n",
      "   pituitary       0.99      0.95      0.97       992\n",
      "\n",
      "    accuracy                           0.83      3961\n",
      "   macro avg       0.87      0.86      0.84      3961\n",
      "weighted avg       0.88      0.83      0.83      3961\n",
      "\n"
     ]
    },
    {
     "name": "stderr",
     "output_type": "stream",
     "text": [
      "\n"
     ]
    }
   ],
   "source": [
    "def train_epoch(model, loader, criterion, optimizer, device):\n",
    "    model.train()\n",
    "    running_loss = 0.0\n",
    "    all_preds = []\n",
    "    all_labels = []\n",
    "    \n",
    "    for images, labels in tqdm(loader, desc='Training'):\n",
    "        images = images.to(device)\n",
    "        labels = labels.to(device)\n",
    "        \n",
    "        # Forward pass\n",
    "        outputs = model(images)\n",
    "        loss = criterion(outputs, labels)\n",
    "        \n",
    "        # Backward pass and optimize\n",
    "        optimizer.zero_grad()\n",
    "        loss.backward()\n",
    "        optimizer.step()\n",
    "        \n",
    "        # Track metrics\n",
    "        running_loss += loss.item()\n",
    "        preds = torch.argmax(outputs, dim=1)\n",
    "        all_preds.extend(preds.cpu().numpy())\n",
    "        all_labels.extend(labels.cpu().numpy())\n",
    "    \n",
    "    # Compute epoch metrics\n",
    "    epoch_loss = running_loss / len(loader)\n",
    "    epoch_acc = accuracy_score(all_labels, all_preds)\n",
    "    \n",
    "    return epoch_loss, epoch_acc\n",
    "\n",
    "def evaluate(model, loader, criterion, device):\n",
    "    model.eval()\n",
    "    running_loss = 0.0\n",
    "    all_preds = []\n",
    "    all_labels = []\n",
    "    \n",
    "    with torch.no_grad():\n",
    "        for images, labels in tqdm(loader, desc='Evaluating'):\n",
    "            images = images.to(device)\n",
    "            labels = labels.to(device)\n",
    "            \n",
    "            outputs = model(images)\n",
    "            loss = criterion(outputs, labels)\n",
    "            \n",
    "            running_loss += loss.item()\n",
    "            preds = torch.argmax(outputs, dim=1)\n",
    "            all_preds.extend(preds.cpu().numpy())\n",
    "            all_labels.extend(labels.cpu().numpy())\n",
    "    \n",
    "    # Compute metrics\n",
    "    avg_loss = running_loss / len(loader)\n",
    "    accuracy = accuracy_score(all_labels, all_preds)\n",
    "    report = classification_report(all_labels, all_preds, \n",
    "                                target_names=train_dataset.classes)\n",
    "    \n",
    "    return avg_loss, accuracy, report\n",
    "\n",
    "# Training loop\n",
    "num_epochs = 10\n",
    "best_acc = 0.0\n",
    "\n",
    "for epoch in range(1, num_epochs + 1):\n",
    "    # Training phase\n",
    "    train_loss, train_acc = train_epoch(model, train_loader, criterion, \n",
    "                                      optimizer, device)\n",
    "    \n",
    "    # Evaluation phase\n",
    "    val_loss, val_acc, val_report = evaluate(model, test_loader, criterion, device)\n",
    "    \n",
    "    # Learning rate scheduling\n",
    "    scheduler.step(val_acc)\n",
    "    \n",
    "    # Save best model\n",
    "    if val_acc > best_acc:\n",
    "        best_acc = val_acc\n",
    "        torch.save(model.state_dict(), 'kan_best_model.pth')\n",
    "    \n",
    "    # Print epoch results\n",
    "    print(f\"\\nEpoch {epoch}/{num_epochs}\")\n",
    "    print(f\"Train Loss: {train_loss:.4f}, Train Acc: {train_acc:.4f}\")\n",
    "    print(f\"Val Loss: {val_loss:.4f}, Val Acc: {val_acc:.4f}\")\n",
    "    \n",
    "    # Print detailed validation report every 5 epochs\n",
    "    if epoch % 5 == 0:\n",
    "        print(\"\\nValidation Report:\")\n",
    "        print(val_report)\n",
    "\n",
    "# Final evaluation\n",
    "print(\"\\nLoading best model for final evaluation...\")\n",
    "model.load_state_dict(torch.load('kan_best_model.pth'))\n",
    "test_loss, test_acc, test_report = evaluate(model, test_loader, criterion, device)\n",
    "\n",
    "print(\"\\nFinal Test Results:\")\n",
    "print(f\"Test Accuracy: {test_acc:.4f}\")\n",
    "print(\"\\nDetailed Classification Report:\")\n",
    "print(test_report)"
   ]
  },
  {
   "cell_type": "code",
   "execution_count": 7,
   "id": "5e6b2b96",
   "metadata": {},
   "outputs": [
    {
     "name": "stderr",
     "output_type": "stream",
     "text": [
      "Training: 100%|██████████| 436/436 [00:15<00:00, 28.29it/s]\n",
      "Evaluating: 100%|██████████| 124/124 [00:02<00:00, 52.65it/s]\n",
      "Training: 100%|██████████| 436/436 [00:15<00:00, 28.32it/s]\n",
      "Evaluating: 100%|██████████| 124/124 [00:02<00:00, 53.32it/s]\n",
      "Training: 100%|██████████| 436/436 [00:15<00:00, 28.30it/s]\n",
      "Evaluating: 100%|██████████| 124/124 [00:02<00:00, 51.93it/s]\n",
      "Training: 100%|██████████| 436/436 [00:15<00:00, 28.25it/s]\n",
      "Evaluating: 100%|██████████| 124/124 [00:02<00:00, 51.09it/s]\n",
      "Training: 100%|██████████| 436/436 [00:15<00:00, 27.84it/s]\n",
      "Evaluating: 100%|██████████| 124/124 [00:50<00:00,  2.47it/s]\n",
      "Training: 100%|██████████| 436/436 [-1:59:28<00:00, -13.56it/s]\n",
      "Evaluating: 100%|██████████| 124/124 [00:02<00:00, 52.89it/s]\n",
      "Training: 100%|██████████| 436/436 [00:15<00:00, 28.08it/s]\n",
      "Evaluating: 100%|██████████| 124/124 [00:02<00:00, 53.53it/s]\n",
      "Training: 100%|██████████| 436/436 [00:15<00:00, 28.14it/s]\n",
      "Evaluating: 100%|██████████| 124/124 [00:02<00:00, 53.22it/s]\n",
      "Training: 100%|██████████| 436/436 [00:15<00:00, 28.26it/s]\n",
      "Evaluating: 100%|██████████| 124/124 [00:02<00:00, 53.71it/s]\n",
      "Training: 100%|██████████| 436/436 [00:15<00:00, 28.03it/s]\n",
      "Evaluating: 100%|██████████| 124/124 [00:02<00:00, 52.30it/s]\n"
     ]
    },
    {
     "data": {
      "image/png": "[encoded data removed]",
      "text/plain": [
       "<Figure size 1200x500 with 2 Axes>"
      ]
     },
     "metadata": {},
     "output_type": "display_data"
    }
   ],
   "source": [
    "import matplotlib.pyplot as plt\n",
    "\n",
    "# Modify the training loop to store metrics\n",
    "train_losses = []\n",
    "train_accs = []\n",
    "val_losses = []\n",
    "val_accs = []\n",
    "\n",
    "for epoch in range(1, num_epochs + 1):\n",
    "    # Training phase\n",
    "    train_loss, train_acc = train_epoch(model, train_loader, criterion, optimizer, device)\n",
    "    train_losses.append(train_loss)\n",
    "    train_accs.append(train_acc)\n",
    "    \n",
    "    # Evaluation phase\n",
    "    val_loss, val_acc, val_report = evaluate(model, test_loader, criterion, device)\n",
    "    val_losses.append(val_loss)\n",
    "    val_accs.append(val_acc)\n",
    "    \n",
    "    # ... rest of your existing training loop code ...\n",
    "\n",
    "# Plotting\n",
    "plt.figure(figsize=(12, 5))\n",
    "\n",
    "# Plot Loss\n",
    "plt.subplot(1, 2, 1)\n",
    "plt.plot(range(1, num_epochs + 1), train_losses, 'b-', label='Training Loss')\n",
    "plt.plot(range(1, num_epochs + 1), val_losses, 'r-', label='Validation Loss')\n",
    "plt.xlabel('Epochs')\n",
    "plt.ylabel('Loss')\n",
    "plt.title('Training and Validation Loss')\n",
    "plt.legend()\n",
    "plt.grid(True)\n",
    "\n",
    "# Plot Accuracy\n",
    "plt.subplot(1, 2, 2)\n",
    "plt.plot(range(1, num_epochs + 1), train_accs, 'b-', label='Training Accuracy')\n",
    "plt.plot(range(1, num_epochs + 1), val_accs, 'r-', label='Validation Accuracy')\n",
    "plt.xlabel('Epochs')\n",
    "plt.ylabel('Accuracy')\n",
    "plt.title('Training and Validation Accuracy')\n",
    "plt.legend()\n",
    "plt.grid(True)\n",
    "\n",
    "plt.tight_layout()\n",
    "plt.show()"
   ]
  },
  {
   "cell_type": "code",
   "execution_count": null,
   "id": "1d174384",
   "metadata": {},
   "outputs": [],
   "source": []
  }
 ],
 "metadata": {
  "kernelspec": {
   "display_name": "thesis",
   "language": "python",
   "name": "python3"
  },
  "language_info": {
   "codemirror_mode": {
    "name": "ipython",
    "version": 3
   },
   "file_extension": ".py",
   "mimetype": "text/x-python",
   "name": "python",
   "nbconvert_exporter": "python",
   "pygments_lexer": "ipython3",
   "version": "3.11.12"
  }
 },
 "nbformat": 4,
 "nbformat_minor": 5
}
